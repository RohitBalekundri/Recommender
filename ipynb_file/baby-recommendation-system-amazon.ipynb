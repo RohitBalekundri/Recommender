{
 "cells": [
  {
   "cell_type": "markdown",
   "id": "cbb80889",
   "metadata": {
    "papermill": {
     "duration": 0.017287,
     "end_time": "2022-10-13T06:05:27.048099",
     "exception": false,
     "start_time": "2022-10-13T06:05:27.030812",
     "status": "completed"
    },
    "tags": []
   },
   "source": [
    "## Dependencies"
   ]
  },
  {
   "cell_type": "code",
   "execution_count": 1,
   "id": "5d723145",
   "metadata": {
    "execution": {
     "iopub.execute_input": "2022-10-13T06:05:27.076971Z",
     "iopub.status.busy": "2022-10-13T06:05:27.076443Z",
     "iopub.status.idle": "2022-10-13T06:05:33.120336Z",
     "shell.execute_reply": "2022-10-13T06:05:33.119306Z"
    },
    "papermill": {
     "duration": 6.062285,
     "end_time": "2022-10-13T06:05:33.122813",
     "exception": false,
     "start_time": "2022-10-13T06:05:27.060528",
     "status": "completed"
    },
    "tags": []
   },
   "outputs": [],
   "source": [
    "#import libraries\n",
    "import json\n",
    "import numpy as np\n",
    "from collections import defaultdict\n",
    "import warnings\n",
    "import gensim\n",
    "import pandas as pd\n",
    "from gensim.models.doc2vec import Doc2Vec\n",
    "import numpy as np\n",
    "import keras\n",
    "import gzip\n",
    "from keras import backend as K\n",
    "from keras.models import Model\n",
    "from keras.layers import Embedding, Input, Dense, Flatten, Concatenate, Multiply, Lambda, Reshape\n",
    "from keras.layers.core import Dropout\n",
    "import scipy.sparse as sp\n",
    "import matplotlib.pyplot as plt\n",
    "from sklearn.metrics import mean_squared_error, mean_absolute_error\n",
    "from tensorflow.keras.callbacks import EarlyStopping , ModelCheckpoint\n"
   ]
  },
  {
   "cell_type": "markdown",
   "id": "831851ba",
   "metadata": {
    "papermill": {
     "duration": 0.011959,
     "end_time": "2022-10-13T06:05:33.147332",
     "exception": false,
     "start_time": "2022-10-13T06:05:33.135373",
     "status": "completed"
    },
    "tags": []
   },
   "source": [
    "## Display the dataset"
   ]
  },
  {
   "cell_type": "code",
   "execution_count": 2,
   "id": "d125994a",
   "metadata": {
    "execution": {
     "iopub.execute_input": "2022-10-13T06:05:33.174720Z",
     "iopub.status.busy": "2022-10-13T06:05:33.173327Z",
     "iopub.status.idle": "2022-10-13T06:05:33.179898Z",
     "shell.execute_reply": "2022-10-13T06:05:33.178960Z"
    },
    "papermill": {
     "duration": 0.022332,
     "end_time": "2022-10-13T06:05:33.182045",
     "exception": false,
     "start_time": "2022-10-13T06:05:33.159713",
     "status": "completed"
    },
    "tags": []
   },
   "outputs": [],
   "source": [
    "## Convert data from gz to DataFrame\n",
    "def parse(path):\n",
    "    g = gzip.open(path, 'rb')\n",
    "    for l in g:\n",
    "        yield eval(l)\n",
    "\n",
    "def getDF(path):\n",
    "    i = 0\n",
    "    df = {}\n",
    "    for d in parse(path):\n",
    "        df[i] = d\n",
    "        i += 1\n",
    "    return pd.DataFrame.from_dict(df, orient='index')\n"
   ]
  },
  {
   "cell_type": "markdown",
   "id": "6a1c3da8",
   "metadata": {
    "papermill": {
     "duration": 0.011634,
     "end_time": "2022-10-13T06:05:33.205687",
     "exception": false,
     "start_time": "2022-10-13T06:05:33.194053",
     "status": "completed"
    },
    "tags": []
   },
   "source": [
    "## Download The Review and Meta Data"
   ]
  },
  {
   "cell_type": "code",
   "execution_count": 3,
   "id": "dec6f74f",
   "metadata": {
    "execution": {
     "iopub.execute_input": "2022-10-13T06:05:33.230534Z",
     "iopub.status.busy": "2022-10-13T06:05:33.230256Z",
     "iopub.status.idle": "2022-10-13T06:05:47.735574Z",
     "shell.execute_reply": "2022-10-13T06:05:47.734383Z"
    },
    "papermill": {
     "duration": 14.520473,
     "end_time": "2022-10-13T06:05:47.737997",
     "exception": false,
     "start_time": "2022-10-13T06:05:33.217524",
     "status": "completed"
    },
    "tags": []
   },
   "outputs": [
    {
     "name": "stdout",
     "output_type": "stream",
     "text": [
      "--2022-10-13 06:05:34--  http://snap.stanford.edu/data/amazon/productGraph/categoryFiles/reviews_Baby.json.gz\r\n",
      "Resolving snap.stanford.edu (snap.stanford.edu)... 171.64.75.80\r\n",
      "Connecting to snap.stanford.edu (snap.stanford.edu)|171.64.75.80|:80... connected.\r\n",
      "HTTP request sent, awaiting response... 200 OK\r\n",
      "Length: 191601185 (183M) [application/x-gzip]\r\n",
      "Saving to: ‘reviews_Baby.json.gz’\r\n",
      "\r\n",
      "reviews_Baby.json.g 100%[===================>] 182.72M  19.2MB/s    in 13s     \r\n",
      "\r\n",
      "2022-10-13 06:05:47 (14.0 MB/s) - ‘reviews_Baby.json.gz’ saved [191601185/191601185]\r\n",
      "\r\n"
     ]
    }
   ],
   "source": [
    "# Download Review Data\n",
    "!wget http://snap.stanford.edu/data/amazon/productGraph/categoryFiles/reviews_Baby.json.gz"
   ]
  },
  {
   "cell_type": "code",
   "execution_count": 4,
   "id": "696d2635",
   "metadata": {
    "execution": {
     "iopub.execute_input": "2022-10-13T06:05:47.771129Z",
     "iopub.status.busy": "2022-10-13T06:05:47.770084Z",
     "iopub.status.idle": "2022-10-13T06:05:54.471533Z",
     "shell.execute_reply": "2022-10-13T06:05:54.470323Z"
    },
    "papermill": {
     "duration": 6.720255,
     "end_time": "2022-10-13T06:05:54.474041",
     "exception": false,
     "start_time": "2022-10-13T06:05:47.753786",
     "status": "completed"
    },
    "tags": []
   },
   "outputs": [
    {
     "name": "stdout",
     "output_type": "stream",
     "text": [
      "--2022-10-13 06:05:48--  http://snap.stanford.edu/data/amazon/productGraph/categoryFiles/meta_Baby.json.gz\r\n",
      "Resolving snap.stanford.edu (snap.stanford.edu)... 171.64.75.80\r\n",
      "Connecting to snap.stanford.edu (snap.stanford.edu)|171.64.75.80|:80... connected.\r\n",
      "HTTP request sent, awaiting response... 200 OK\r\n",
      "Length: 31328004 (30M) [application/x-gzip]\r\n",
      "Saving to: ‘meta_Baby.json.gz’\r\n",
      "\r\n",
      "meta_Baby.json.gz   100%[===================>]  29.88M  5.67MB/s    in 5.3s    \r\n",
      "\r\n",
      "2022-10-13 06:05:54 (5.67 MB/s) - ‘meta_Baby.json.gz’ saved [31328004/31328004]\r\n",
      "\r\n"
     ]
    }
   ],
   "source": [
    "# Download Meta Data\n",
    "!wget http://snap.stanford.edu/data/amazon/productGraph/categoryFiles/meta_Baby.json.gz"
   ]
  },
  {
   "cell_type": "code",
   "execution_count": 5,
   "id": "ab288989",
   "metadata": {
    "execution": {
     "iopub.execute_input": "2022-10-13T06:05:54.509724Z",
     "iopub.status.busy": "2022-10-13T06:05:54.508691Z",
     "iopub.status.idle": "2022-10-13T06:06:04.794948Z",
     "shell.execute_reply": "2022-10-13T06:06:04.793924Z"
    },
    "papermill": {
     "duration": 10.30655,
     "end_time": "2022-10-13T06:06:04.797101",
     "exception": false,
     "start_time": "2022-10-13T06:05:54.490551",
     "status": "completed"
    },
    "tags": []
   },
   "outputs": [
    {
     "data": {
      "text/html": [
       "<div>\n",
       "<style scoped>\n",
       "    .dataframe tbody tr th:only-of-type {\n",
       "        vertical-align: middle;\n",
       "    }\n",
       "\n",
       "    .dataframe tbody tr th {\n",
       "        vertical-align: top;\n",
       "    }\n",
       "\n",
       "    .dataframe thead th {\n",
       "        text-align: right;\n",
       "    }\n",
       "</style>\n",
       "<table border=\"1\" class=\"dataframe\">\n",
       "  <thead>\n",
       "    <tr style=\"text-align: right;\">\n",
       "      <th></th>\n",
       "      <th>asin</th>\n",
       "      <th>categories</th>\n",
       "      <th>description</th>\n",
       "      <th>title</th>\n",
       "      <th>price</th>\n",
       "      <th>imUrl</th>\n",
       "      <th>brand</th>\n",
       "      <th>related</th>\n",
       "      <th>salesRank</th>\n",
       "    </tr>\n",
       "  </thead>\n",
       "  <tbody>\n",
       "    <tr>\n",
       "      <th>0</th>\n",
       "      <td>0188399313</td>\n",
       "      <td>[[Baby]]</td>\n",
       "      <td>Wee-Go Glass baby bottles by LifeFactory (Baby...</td>\n",
       "      <td>Lifefactory 4oz BPA Free Glass Baby Bottles - ...</td>\n",
       "      <td>69.99</td>\n",
       "      <td>http://ecx.images-amazon.com/images/I/41Swthpd...</td>\n",
       "      <td>Lifefactory</td>\n",
       "      <td>{'also_bought': ['B002SG7K7A', 'B003CJSXW8', '...</td>\n",
       "      <td>NaN</td>\n",
       "    </tr>\n",
       "    <tr>\n",
       "      <th>1</th>\n",
       "      <td>0188399518</td>\n",
       "      <td>[[Baby]]</td>\n",
       "      <td>The Planet Wise Flannel Wipes are 10 super sof...</td>\n",
       "      <td>Planetwise Flannel Wipes</td>\n",
       "      <td>15.95</td>\n",
       "      <td>http://ecx.images-amazon.com/images/I/41otjnA4...</td>\n",
       "      <td>Planet Wise</td>\n",
       "      <td>{'also_bought': ['B00G96N3YY', 'B003XSEV2O', '...</td>\n",
       "      <td>NaN</td>\n",
       "    </tr>\n",
       "    <tr>\n",
       "      <th>2</th>\n",
       "      <td>0188399399</td>\n",
       "      <td>[[Baby]]</td>\n",
       "      <td>The Planet Wise Wipe PouchTM features our pate...</td>\n",
       "      <td>Planetwise Wipe Pouch</td>\n",
       "      <td>10.95</td>\n",
       "      <td>http://ecx.images-amazon.com/images/I/61x8h9u6...</td>\n",
       "      <td>NaN</td>\n",
       "      <td>{'also_bought': ['B005WWI0DA', 'B005WWIMGA', '...</td>\n",
       "      <td>NaN</td>\n",
       "    </tr>\n",
       "    <tr>\n",
       "      <th>3</th>\n",
       "      <td>0316967297</td>\n",
       "      <td>[[Baby]]</td>\n",
       "      <td>Hand crafted set includes 1 full quilt (76x86 ...</td>\n",
       "      <td>Annas Dream Full Quilt with 2 Shams</td>\n",
       "      <td>109.95</td>\n",
       "      <td>http://ecx.images-amazon.com/images/I/51%2BZ1%...</td>\n",
       "      <td>NaN</td>\n",
       "      <td>{'also_viewed': ['B009LTER3W', 'B00575TI5Q', '...</td>\n",
       "      <td>NaN</td>\n",
       "    </tr>\n",
       "    <tr>\n",
       "      <th>4</th>\n",
       "      <td>0615447279</td>\n",
       "      <td>[[Baby]]</td>\n",
       "      <td>Thumbuddy To Love- The Binky Fairy helps child...</td>\n",
       "      <td>Stop Pacifier Sucking without tears with Thumb...</td>\n",
       "      <td>16.95</td>\n",
       "      <td>http://ecx.images-amazon.com/images/I/51RKKENl...</td>\n",
       "      <td></td>\n",
       "      <td>{'also_bought': ['0979670004', '1601310234', '...</td>\n",
       "      <td>NaN</td>\n",
       "    </tr>\n",
       "  </tbody>\n",
       "</table>\n",
       "</div>"
      ],
      "text/plain": [
       "         asin categories                                        description  \\\n",
       "0  0188399313   [[Baby]]  Wee-Go Glass baby bottles by LifeFactory (Baby...   \n",
       "1  0188399518   [[Baby]]  The Planet Wise Flannel Wipes are 10 super sof...   \n",
       "2  0188399399   [[Baby]]  The Planet Wise Wipe PouchTM features our pate...   \n",
       "3  0316967297   [[Baby]]  Hand crafted set includes 1 full quilt (76x86 ...   \n",
       "4  0615447279   [[Baby]]  Thumbuddy To Love- The Binky Fairy helps child...   \n",
       "\n",
       "                                               title   price  \\\n",
       "0  Lifefactory 4oz BPA Free Glass Baby Bottles - ...   69.99   \n",
       "1                           Planetwise Flannel Wipes   15.95   \n",
       "2                              Planetwise Wipe Pouch   10.95   \n",
       "3                Annas Dream Full Quilt with 2 Shams  109.95   \n",
       "4  Stop Pacifier Sucking without tears with Thumb...   16.95   \n",
       "\n",
       "                                               imUrl        brand  \\\n",
       "0  http://ecx.images-amazon.com/images/I/41Swthpd...  Lifefactory   \n",
       "1  http://ecx.images-amazon.com/images/I/41otjnA4...  Planet Wise   \n",
       "2  http://ecx.images-amazon.com/images/I/61x8h9u6...          NaN   \n",
       "3  http://ecx.images-amazon.com/images/I/51%2BZ1%...          NaN   \n",
       "4  http://ecx.images-amazon.com/images/I/51RKKENl...                \n",
       "\n",
       "                                             related salesRank  \n",
       "0  {'also_bought': ['B002SG7K7A', 'B003CJSXW8', '...       NaN  \n",
       "1  {'also_bought': ['B00G96N3YY', 'B003XSEV2O', '...       NaN  \n",
       "2  {'also_bought': ['B005WWI0DA', 'B005WWIMGA', '...       NaN  \n",
       "3  {'also_viewed': ['B009LTER3W', 'B00575TI5Q', '...       NaN  \n",
       "4  {'also_bought': ['0979670004', '1601310234', '...       NaN  "
      ]
     },
     "execution_count": 5,
     "metadata": {},
     "output_type": "execute_result"
    }
   ],
   "source": [
    "#display the meta data as  dataframe\n",
    "metadata = getDF('./meta_Baby.json.gz')\n",
    "metadata.head()"
   ]
  },
  {
   "cell_type": "code",
   "execution_count": 6,
   "id": "4406678b",
   "metadata": {
    "execution": {
     "iopub.execute_input": "2022-10-13T06:06:04.832138Z",
     "iopub.status.busy": "2022-10-13T06:06:04.831797Z",
     "iopub.status.idle": "2022-10-13T06:06:47.498316Z",
     "shell.execute_reply": "2022-10-13T06:06:47.496973Z"
    },
    "papermill": {
     "duration": 42.718927,
     "end_time": "2022-10-13T06:06:47.532950",
     "exception": false,
     "start_time": "2022-10-13T06:06:04.814023",
     "status": "completed"
    },
    "tags": []
   },
   "outputs": [
    {
     "data": {
      "text/html": [
       "<div>\n",
       "<style scoped>\n",
       "    .dataframe tbody tr th:only-of-type {\n",
       "        vertical-align: middle;\n",
       "    }\n",
       "\n",
       "    .dataframe tbody tr th {\n",
       "        vertical-align: top;\n",
       "    }\n",
       "\n",
       "    .dataframe thead th {\n",
       "        text-align: right;\n",
       "    }\n",
       "</style>\n",
       "<table border=\"1\" class=\"dataframe\">\n",
       "  <thead>\n",
       "    <tr style=\"text-align: right;\">\n",
       "      <th></th>\n",
       "      <th>reviewerID</th>\n",
       "      <th>asin</th>\n",
       "      <th>reviewerName</th>\n",
       "      <th>helpful</th>\n",
       "      <th>reviewText</th>\n",
       "      <th>overall</th>\n",
       "      <th>summary</th>\n",
       "      <th>unixReviewTime</th>\n",
       "      <th>reviewTime</th>\n",
       "    </tr>\n",
       "  </thead>\n",
       "  <tbody>\n",
       "    <tr>\n",
       "      <th>0</th>\n",
       "      <td>A28O3NP6WR5517</td>\n",
       "      <td>0188399313</td>\n",
       "      <td>Jennifer gymer</td>\n",
       "      <td>[0, 0]</td>\n",
       "      <td>They work very well. Easy to clean, we wash th...</td>\n",
       "      <td>5.0</td>\n",
       "      <td>These bottles are great!</td>\n",
       "      <td>1369612800</td>\n",
       "      <td>05 27, 2013</td>\n",
       "    </tr>\n",
       "    <tr>\n",
       "      <th>1</th>\n",
       "      <td>AX0M1Z6ZWO52J</td>\n",
       "      <td>0188399399</td>\n",
       "      <td>Ash M.</td>\n",
       "      <td>[1, 1]</td>\n",
       "      <td>it came early and was not disappointed. i love...</td>\n",
       "      <td>5.0</td>\n",
       "      <td>perfect</td>\n",
       "      <td>1365465600</td>\n",
       "      <td>04 9, 2013</td>\n",
       "    </tr>\n",
       "    <tr>\n",
       "      <th>2</th>\n",
       "      <td>A1KD7N84L7NIUT</td>\n",
       "      <td>0188399518</td>\n",
       "      <td>Buffy Fan</td>\n",
       "      <td>[0, 0]</td>\n",
       "      <td>I ended up with a variety of different brands ...</td>\n",
       "      <td>4.0</td>\n",
       "      <td>Good cotton wipes</td>\n",
       "      <td>1392336000</td>\n",
       "      <td>02 14, 2014</td>\n",
       "    </tr>\n",
       "    <tr>\n",
       "      <th>3</th>\n",
       "      <td>A29CUDEIF4X1UO</td>\n",
       "      <td>0188399518</td>\n",
       "      <td>J. D. Solbach</td>\n",
       "      <td>[1, 1]</td>\n",
       "      <td>These flannel wipes are OK, but in my opinion ...</td>\n",
       "      <td>3.0</td>\n",
       "      <td>Sending them back.</td>\n",
       "      <td>1373241600</td>\n",
       "      <td>07 8, 2013</td>\n",
       "    </tr>\n",
       "    <tr>\n",
       "      <th>4</th>\n",
       "      <td>A32592TYN6C9EM</td>\n",
       "      <td>0316967297</td>\n",
       "      <td>Amazon Customer</td>\n",
       "      <td>[0, 0]</td>\n",
       "      <td>Cute quilt, the colors are perfect and my litt...</td>\n",
       "      <td>4.0</td>\n",
       "      <td>Very cute</td>\n",
       "      <td>1378425600</td>\n",
       "      <td>09 6, 2013</td>\n",
       "    </tr>\n",
       "  </tbody>\n",
       "</table>\n",
       "</div>"
      ],
      "text/plain": [
       "       reviewerID        asin     reviewerName helpful  \\\n",
       "0  A28O3NP6WR5517  0188399313   Jennifer gymer  [0, 0]   \n",
       "1   AX0M1Z6ZWO52J  0188399399           Ash M.  [1, 1]   \n",
       "2  A1KD7N84L7NIUT  0188399518        Buffy Fan  [0, 0]   \n",
       "3  A29CUDEIF4X1UO  0188399518    J. D. Solbach  [1, 1]   \n",
       "4  A32592TYN6C9EM  0316967297  Amazon Customer  [0, 0]   \n",
       "\n",
       "                                          reviewText  overall  \\\n",
       "0  They work very well. Easy to clean, we wash th...      5.0   \n",
       "1  it came early and was not disappointed. i love...      5.0   \n",
       "2  I ended up with a variety of different brands ...      4.0   \n",
       "3  These flannel wipes are OK, but in my opinion ...      3.0   \n",
       "4  Cute quilt, the colors are perfect and my litt...      4.0   \n",
       "\n",
       "                    summary  unixReviewTime   reviewTime  \n",
       "0  These bottles are great!      1369612800  05 27, 2013  \n",
       "1                   perfect      1365465600   04 9, 2013  \n",
       "2         Good cotton wipes      1392336000  02 14, 2014  \n",
       "3        Sending them back.      1373241600   07 8, 2013  \n",
       "4                 Very cute      1378425600   09 6, 2013  "
      ]
     },
     "execution_count": 6,
     "metadata": {},
     "output_type": "execute_result"
    }
   ],
   "source": [
    "#display the review data as  dataframe\n",
    "reviews = getDF('./reviews_Baby.json.gz')\n",
    "reviews.head()"
   ]
  },
  {
   "cell_type": "code",
   "execution_count": 7,
   "id": "a3e70310",
   "metadata": {
    "execution": {
     "iopub.execute_input": "2022-10-13T06:06:47.612251Z",
     "iopub.status.busy": "2022-10-13T06:06:47.611880Z",
     "iopub.status.idle": "2022-10-13T06:06:53.025971Z",
     "shell.execute_reply": "2022-10-13T06:06:53.024681Z"
    },
    "papermill": {
     "duration": 5.456409,
     "end_time": "2022-10-13T06:06:53.028358",
     "exception": false,
     "start_time": "2022-10-13T06:06:47.571949",
     "status": "completed"
    },
    "tags": []
   },
   "outputs": [],
   "source": [
    "# extract review baby file \n",
    "!gunzip -k reviews_Baby.json.gz"
   ]
  },
  {
   "cell_type": "code",
   "execution_count": 8,
   "id": "14c9c274",
   "metadata": {
    "execution": {
     "iopub.execute_input": "2022-10-13T06:06:53.063669Z",
     "iopub.status.busy": "2022-10-13T06:06:53.063315Z",
     "iopub.status.idle": "2022-10-13T06:06:54.800536Z",
     "shell.execute_reply": "2022-10-13T06:06:54.799213Z"
    },
    "papermill": {
     "duration": 1.758024,
     "end_time": "2022-10-13T06:06:54.803335",
     "exception": false,
     "start_time": "2022-10-13T06:06:53.045311",
     "status": "completed"
    },
    "tags": []
   },
   "outputs": [],
   "source": [
    "# extract meta baby file \n",
    "!gunzip -k meta_Baby.json.gz"
   ]
  },
  {
   "cell_type": "markdown",
   "id": "1b514e1e",
   "metadata": {
    "papermill": {
     "duration": 0.016178,
     "end_time": "2022-10-13T06:06:54.836225",
     "exception": false,
     "start_time": "2022-10-13T06:06:54.820047",
     "status": "completed"
    },
    "tags": []
   },
   "source": [
    "## Preprocessing"
   ]
  },
  {
   "cell_type": "code",
   "execution_count": 9,
   "id": "ca359e42",
   "metadata": {
    "execution": {
     "iopub.execute_input": "2022-10-13T06:06:54.872762Z",
     "iopub.status.busy": "2022-10-13T06:06:54.871649Z",
     "iopub.status.idle": "2022-10-13T06:06:54.879370Z",
     "shell.execute_reply": "2022-10-13T06:06:54.878487Z"
    },
    "papermill": {
     "duration": 0.02838,
     "end_time": "2022-10-13T06:06:54.881428",
     "exception": false,
     "start_time": "2022-10-13T06:06:54.853048",
     "status": "completed"
    },
    "tags": []
   },
   "outputs": [],
   "source": [
    "#Hyperparameter \n",
    "dataName =  \"Baby\"# name of your product\n",
    "vector_size = 100 # vector size of reviewtext and item description\n",
    "epoch_num = 100 # number of vector\n",
    "reviews_data = [] # review list to insert review data inside\n",
    "meta_data = [] # meta list to insert meta data inside\n",
    "num_ui_link = 20  # the number of each user link to items\n",
    "num_iu_link = 0  # the number of each item link to user\n",
    "\n",
    "# user -> item  ->  for text\n",
    "ui_dict = defaultdict(list)\n",
    "#item -> user - >  for text\n",
    "iu_dict = defaultdict(list)\n",
    "#rating training data list\n",
    "reviews_train_data = []\n",
    "#rating testing data list\n",
    "reviews_test_data = []\n",
    "# max number of item\n",
    "max_num_item = 1\n",
    "# max number of users\n",
    "max_num_user = 1\n",
    "#item -> user -> for rating\n",
    "iu_dict2 = defaultdict(list)\n",
    "# user -> item  ->  for rating\n",
    "ui_dict2 = defaultdict(list)\n",
    "len_ui_dict = {}\n",
    "split_ratio = 4 #ratio to split between test and train\n",
    "epochs = 20 "
   ]
  },
  {
   "cell_type": "code",
   "execution_count": 10,
   "id": "00b68aa4",
   "metadata": {
    "execution": {
     "iopub.execute_input": "2022-10-13T06:06:54.915930Z",
     "iopub.status.busy": "2022-10-13T06:06:54.915088Z",
     "iopub.status.idle": "2022-10-13T06:07:05.477826Z",
     "shell.execute_reply": "2022-10-13T06:07:05.476843Z"
    },
    "papermill": {
     "duration": 10.582367,
     "end_time": "2022-10-13T06:07:05.480268",
     "exception": false,
     "start_time": "2022-10-13T06:06:54.897901",
     "status": "completed"
    },
    "tags": []
   },
   "outputs": [],
   "source": [
    "# Append review.json to  review_data list\n",
    "\n",
    "with open('./reviews_' + dataName + '.json') as f:\n",
    "    for line in f:\n",
    "        reviews_data.append(json.loads(line))\n",
    "    f.close()\n",
    "   "
   ]
  },
  {
   "cell_type": "code",
   "execution_count": 11,
   "id": "f80480a9",
   "metadata": {
    "execution": {
     "iopub.execute_input": "2022-10-13T06:07:05.514650Z",
     "iopub.status.busy": "2022-10-13T06:07:05.514332Z",
     "iopub.status.idle": "2022-10-13T06:07:05.518974Z",
     "shell.execute_reply": "2022-10-13T06:07:05.517940Z"
    },
    "papermill": {
     "duration": 0.024316,
     "end_time": "2022-10-13T06:07:05.521263",
     "exception": false,
     "start_time": "2022-10-13T06:07:05.496947",
     "status": "completed"
    },
    "tags": []
   },
   "outputs": [],
   "source": [
    "#reviews_data[:1]"
   ]
  },
  {
   "cell_type": "markdown",
   "id": "5b562a76",
   "metadata": {
    "papermill": {
     "duration": 0.016446,
     "end_time": "2022-10-13T06:07:05.553971",
     "exception": false,
     "start_time": "2022-10-13T06:07:05.537525",
     "status": "completed"
    },
    "tags": []
   },
   "source": [
    "```\n",
    "## Output\n",
    "\n",
    "[{'reviewerID': 'A28O3NP6WR5517',\n",
    "  'asin': '0188399313',\n",
    "  'reviewerName': 'Jennifer gymer',\n",
    "  'helpful': [0, 0],\n",
    "  'reviewText': 'They work very well. Easy to clean, we wash them in the dishwasher every day. Our LO loves to hold on to the bottle and the plastic covering makes it easy for her to hold on to.',\n",
    "  'overall': 5.0,\n",
    "  'summary': 'These bottles are great!',\n",
    "\n",
    "'unixReviewTime': 1369612800,\n",
    "  'reviewTime': '05 27, 2013'}]\n",
    "```"
   ]
  },
  {
   "cell_type": "code",
   "execution_count": 12,
   "id": "1ba99057",
   "metadata": {
    "execution": {
     "iopub.execute_input": "2022-10-13T06:07:05.587967Z",
     "iopub.status.busy": "2022-10-13T06:07:05.587641Z",
     "iopub.status.idle": "2022-10-13T06:07:18.418846Z",
     "shell.execute_reply": "2022-10-13T06:07:18.417895Z"
    },
    "papermill": {
     "duration": 12.850915,
     "end_time": "2022-10-13T06:07:18.421244",
     "exception": false,
     "start_time": "2022-10-13T06:07:05.570329",
     "status": "completed"
    },
    "tags": []
   },
   "outputs": [],
   "source": [
    "# Append meta.json to meta_data list\n",
    "with open('./meta_' + dataName + '.json') as f:\n",
    "    for line in f:\n",
    "        line_dict = json.dumps(eval(line))\n",
    "        meta_data.append(json.loads(line_dict))\n",
    "    f.close()"
   ]
  },
  {
   "cell_type": "code",
   "execution_count": 13,
   "id": "3f78dbb5",
   "metadata": {
    "execution": {
     "iopub.execute_input": "2022-10-13T06:07:18.456325Z",
     "iopub.status.busy": "2022-10-13T06:07:18.455961Z",
     "iopub.status.idle": "2022-10-13T06:07:18.460240Z",
     "shell.execute_reply": "2022-10-13T06:07:18.459268Z"
    },
    "papermill": {
     "duration": 0.023919,
     "end_time": "2022-10-13T06:07:18.462174",
     "exception": false,
     "start_time": "2022-10-13T06:07:18.438255",
     "status": "completed"
    },
    "tags": []
   },
   "outputs": [],
   "source": [
    "#meta_data[:1]"
   ]
  },
  {
   "cell_type": "markdown",
   "id": "15e57741",
   "metadata": {
    "papermill": {
     "duration": 0.036146,
     "end_time": "2022-10-13T06:07:18.520606",
     "exception": false,
     "start_time": "2022-10-13T06:07:18.484460",
     "status": "completed"
    },
    "tags": []
   },
   "source": [
    "```\n",
    "[{'asin': '0188399313',\n",
    "  'categories': [['Baby']],\n",
    "  'description': 'Wee-Go Glass baby bottles by LifeFactory (Babylife) are designed to grow with your child. The included clear cover can also serve as an easy to hold cup. Twist on the solid cap (sold separately) and use your bottles for storing juice or snacks. Perfect for a lunchbox or traveling. The bright colored silicone sleeve (patent pending) helps to protect the bottle from breakage and provides a great gripping surface and tactile experience during feeding. The bottle and sleeve can be boiled or put in the dishwasher together. They can also go in the freezer, making breast milk storage simple.',\n",
    "  'title': 'Lifefactory 4oz BPA Free Glass Baby Bottles - 4-pack-raspberry and Lilac',\n",
    "  'price': 69.99,\n",
    "  'imUrl': 'http://ecx.images-amazon.com/images/I/41SwthpdD9L._SX300_.jpg',\n",
    "  'brand': 'Lifefactory',\n",
    "  'related': {'also_bought': ['B002SG7K7A',\n",
    "    'B003CJSXW8',\n",
    "    'B004PW4186',\n",
    "    'B002O3JH9Q',\n",
    "    'B002O3NLIO',\n",
    "    'B004HGSU28'],\n",
    "   'also_viewed': ['B003CJSXW8',\n",
    "    'B0052QOL1Q',\n",
    "    'B004PW4186',\n",
    "    'B00EN0OLZ8',\n",
    "    'B00EN0OOQY',\n",
    "    'B0049YS46K',\n",
    "    'B00E64CBLM',\n",
    "    'B00F9YOOS6',\n",
    "    'B00AH9RPVQ',\n",
    "    'B00BCU2R7G',\n",
    "    'B002O3NLIO',\n",
    "    'B008NZ4X2K',\n",
    "    'B005NIDFEW',\n",
    "    'B00DKPJCH4',\n",
    "    'B00CZNGWWK',\n",
    "    'B00DAKJIQ4',\n",
    "    'B005CT55IQ',\n",
    "    'B0049YRJM0',\n",
    "    'B0071IEWD0',\n",
    "    'B00E64CA68',\n",
    "    'B00IUB3SKK',\n",
    "    'B00A7AA6XY',\n",
    "    'B001F50FFE',\n",
    "    'B002HU9EO4',\n",
    "    'B007HP11SQ',\n",
    "    'B009WPUMX4',\n",
    "    'B002O3JH9Q',\n",
    "    'B00F2FT3K6',\n",
    "    'B00I5CR35A',\n",
    "    'B00BCTY5EK',\n",
    "    'B002SG7K7A',\n",
    "    'B00F2FLU2U',\n",
    "    'B0062ZK0GQ',\n",
    "    'B002UOFR66',\n",
    "    'B0055LKQQ2',\n",
    "    'B00A0FGN8I',\n",
    "    'B00HMYCG2W',\n",
    "    'B00DHFLUO0',\n",
    "    'B0040HMPA2',\n",
    "    'B00I5CT9XE',\n",
    "    'B008B5MMNO',\n",
    "    'B00BQYVNGO',\n",
    "    'B00925WM28',\n",
    "    'B00BGKC3EY',\n",
    "    'B005Q3LSDO',\n",
    "    'B0038JDVCE',\n",
    "    'B0045I6IA4'],\n",
    "   'bought_together': ['B002SG7K7A', 'B003CJSXW8'],\n",
    "   'buy_after_viewing': ['B003CJSXW8',\n",
    "    'B0052QOL1Q',\n",
    "    'B004PW4186',\n",
    "    'B002SG7K7A']}}]\n",
    "   ```\n"
   ]
  },
  {
   "cell_type": "code",
   "execution_count": 14,
   "id": "fd41d48b",
   "metadata": {
    "execution": {
     "iopub.execute_input": "2022-10-13T06:07:18.561161Z",
     "iopub.status.busy": "2022-10-13T06:07:18.560779Z",
     "iopub.status.idle": "2022-10-13T06:07:19.847423Z",
     "shell.execute_reply": "2022-10-13T06:07:19.846266Z"
    },
    "papermill": {
     "duration": 1.307128,
     "end_time": "2022-10-13T06:07:19.850192",
     "exception": false,
     "start_time": "2022-10-13T06:07:18.543064",
     "status": "completed"
    },
    "tags": []
   },
   "outputs": [
    {
     "name": "stdout",
     "output_type": "stream",
     "text": [
      "len(ui_dict)= 531890\n",
      "len(iu_dict)= 64426\n"
     ]
    }
   ],
   "source": [
    "#fill user to item and item to user dictionaries\n",
    "for line_data in reviews_data:\n",
    "    user_id = line_data[\"reviewerID\"] # extract review_id from each review in reviews_data list\n",
    "    item_id = line_data[\"asin\"]  # extract item_id from each review in reviews_data list\n",
    "    ui_dict[user_id].append(item_id) # assign review_id  to  item_id in ui_dict \n",
    "    iu_dict[item_id].append(user_id) # assign item_id  to review_id   in iu_dict \n",
    "#print lenght for the two dictionaries\n",
    "print(\"len(ui_dict)=\", len(ui_dict))\n",
    "print(\"len(iu_dict)=\", len(iu_dict))"
   ]
  },
  {
   "cell_type": "code",
   "execution_count": 15,
   "id": "1db56ac9",
   "metadata": {
    "execution": {
     "iopub.execute_input": "2022-10-13T06:07:19.885813Z",
     "iopub.status.busy": "2022-10-13T06:07:19.885481Z",
     "iopub.status.idle": "2022-10-13T06:07:19.890041Z",
     "shell.execute_reply": "2022-10-13T06:07:19.888998Z"
    },
    "papermill": {
     "duration": 0.024906,
     "end_time": "2022-10-13T06:07:19.892097",
     "exception": false,
     "start_time": "2022-10-13T06:07:19.867191",
     "status": "completed"
    },
    "tags": []
   },
   "outputs": [],
   "source": [
    "#ui_dict >>  ex >> 'A28O3NP6WR5517': ['0188399313', 'B004I110D8', 'B006ZZSME0']"
   ]
  },
  {
   "cell_type": "code",
   "execution_count": 16,
   "id": "d8f6efc6",
   "metadata": {
    "execution": {
     "iopub.execute_input": "2022-10-13T06:07:19.927736Z",
     "iopub.status.busy": "2022-10-13T06:07:19.926844Z",
     "iopub.status.idle": "2022-10-13T06:07:19.931764Z",
     "shell.execute_reply": "2022-10-13T06:07:19.930758Z"
    },
    "papermill": {
     "duration": 0.024682,
     "end_time": "2022-10-13T06:07:19.933856",
     "exception": false,
     "start_time": "2022-10-13T06:07:19.909174",
     "status": "completed"
    },
    "tags": []
   },
   "outputs": [],
   "source": [
    "#iu_dict >>  ex >> '0188399313': ['A28O3NP6WR5517']"
   ]
  },
  {
   "cell_type": "code",
   "execution_count": 17,
   "id": "2d0b3e94",
   "metadata": {
    "execution": {
     "iopub.execute_input": "2022-10-13T06:07:19.968971Z",
     "iopub.status.busy": "2022-10-13T06:07:19.968193Z",
     "iopub.status.idle": "2022-10-13T06:07:25.212918Z",
     "shell.execute_reply": "2022-10-13T06:07:25.211957Z"
    },
    "papermill": {
     "duration": 5.26449,
     "end_time": "2022-10-13T06:07:25.215331",
     "exception": false,
     "start_time": "2022-10-13T06:07:19.950841",
     "status": "completed"
    },
    "tags": []
   },
   "outputs": [],
   "source": [
    "# convert review json file to txt file \n",
    "ex_data = open( './reviews_' + dataName + '.txt', \"w\")\n",
    "for line_dict in reviews_data:\n",
    "    user_id = line_dict[\"reviewerID\"] # extract review_id from each review in reviews_data list\n",
    "    item_id = line_dict[\"asin\"] # extract item_id from each review in reviews_data list\n",
    "    ui_num = len(ui_dict[user_id]) #lenght of the users for this item which gave review for\n",
    "    iu_num = len(iu_dict[item_id]) # lenght of  items for each user\n",
    "    if ui_num >= num_ui_link and iu_num >= num_iu_link: # check if they are greater or eual to numbers which we have mentioned before  in hyperparamter cell so we could get best performance for recommendation system before we insert to text file \n",
    "        ex_data.writelines(str(line_dict) + \"\\n\")\n",
    "        iu_dict[item_id].append(user_id)\n",
    "ex_data.close()"
   ]
  },
  {
   "cell_type": "code",
   "execution_count": 18,
   "id": "eef0a311",
   "metadata": {
    "execution": {
     "iopub.execute_input": "2022-10-13T06:07:25.249861Z",
     "iopub.status.busy": "2022-10-13T06:07:25.249564Z",
     "iopub.status.idle": "2022-10-13T06:07:38.491708Z",
     "shell.execute_reply": "2022-10-13T06:07:38.490707Z"
    },
    "papermill": {
     "duration": 13.261861,
     "end_time": "2022-10-13T06:07:38.494018",
     "exception": false,
     "start_time": "2022-10-13T06:07:25.232157",
     "status": "completed"
    },
    "tags": []
   },
   "outputs": [],
   "source": [
    "# convert meta json file to txt file \n",
    "ex_data = open('./meta_' + dataName + '.txt', \"w\")\n",
    "for line_dict in meta_data:\n",
    "    item_id = line_dict[\"asin\"] # extract item_id from each review in reviews_data list\n",
    "    if item_id in iu_dict.keys():\n",
    "        iu_num = len(iu_dict[item_id])# lenght of  items for each user\n",
    "        if iu_num >= num_iu_link: # check if they are greater or eual to numbers which we have mentioned before  in hyperparamter cell so we could get best performance for recommendation system before we insert to text file \n",
    "            ex_data.writelines(str(line_dict) + \"\\n\")\n",
    "ex_data.close()"
   ]
  },
  {
   "cell_type": "code",
   "execution_count": 19,
   "id": "cf3a5a15",
   "metadata": {
    "execution": {
     "iopub.execute_input": "2022-10-13T06:07:38.529034Z",
     "iopub.status.busy": "2022-10-13T06:07:38.528176Z",
     "iopub.status.idle": "2022-10-13T06:07:38.539129Z",
     "shell.execute_reply": "2022-10-13T06:07:38.538044Z"
    },
    "papermill": {
     "duration": 0.030436,
     "end_time": "2022-10-13T06:07:38.541223",
     "exception": false,
     "start_time": "2022-10-13T06:07:38.510787",
     "status": "completed"
    },
    "tags": []
   },
   "outputs": [],
   "source": [
    "TaggededDocument = gensim.models.doc2vec.TaggedDocument #import  the pretrained model to turn the text to vector\n",
    "warnings.filterwarnings(action='ignore', category=UserWarning, module='gensim')\n",
    "\n",
    "\n",
    "# turn the txt file to vector >>  stage 1  in research paper\n",
    "class DoctoVec:\n",
    "    # turn dictionary data to list with counter\n",
    "    # give each paragraph an id_number (count)  and append in text file so we could identify each paragraph and be ready for vectoriztion \n",
    "    def get_data(dict_d):\n",
    "        x_train = []\n",
    "        count = 0\n",
    "        for (i, text) in dict_d.items():\n",
    "            word_list = text.split(' ')\n",
    "            l = len(word_list)\n",
    "            word_list[l - 1] = word_list[l - 1].strip()\n",
    "            document = TaggededDocument(word_list, tags=[i])\n",
    "            x_train.append(document)\n",
    "            count += 1\n",
    "        return x_train, count\n",
    "   \n",
    "    # train model to vector\n",
    "    def train(dataName, x_train, vector_size, epoch_num,kind):\n",
    "        model_dm = Doc2Vec(x_train, min_count=1, window=3, vector_size=vector_size, sample=1e-3, negative=5, workers=4)\n",
    "        model_dm.train(x_train, total_examples=model_dm.corpus_count, epochs=epoch_num) #train model to turn it to vectors using pretrained model\n",
    "        model_dm.save('./' + dataName + '_Model_'+ kind+\"_\"+ str(vector_size)) #saving model after we turn it to vector so we could use it in future\n",
    "        return model_dm\n",
    "\n",
    "    # save vectors\n",
    "    #saving the vector for any text we will give to our model \n",
    "    def saveVector(dataName, model_dm, v_size, count,kind):\n",
    "        out = open('./' + dataName + '.'+kind, \"w\", encoding='utf-8')\n",
    "        for num in range(0, count):\n",
    "            doc_vec = model_dm.docvecs[num]\n",
    "            vec_list = str(num) + \",\"\n",
    "            for i_doc in doc_vec:\n",
    "                vec_list = vec_list + str(i_doc) + \",\"\n",
    "            out.writelines(vec_list[:-1] + \"\\n\")\n",
    "        out.close()"
   ]
  },
  {
   "cell_type": "code",
   "execution_count": 20,
   "id": "189ec653",
   "metadata": {
    "execution": {
     "iopub.execute_input": "2022-10-13T06:07:38.575630Z",
     "iopub.status.busy": "2022-10-13T06:07:38.575316Z",
     "iopub.status.idle": "2022-10-13T06:07:40.652552Z",
     "shell.execute_reply": "2022-10-13T06:07:40.651597Z"
    },
    "papermill": {
     "duration": 2.097019,
     "end_time": "2022-10-13T06:07:40.654878",
     "exception": false,
     "start_time": "2022-10-13T06:07:38.557859",
     "status": "completed"
    },
    "tags": []
   },
   "outputs": [],
   "source": [
    "# read review txt file\n",
    "reviews_data = []\n",
    "with open('./reviews_' + dataName + '.txt') as f:\n",
    "    for line in f:\n",
    "        line_dict = json.dumps(eval(line))\n",
    "        reviews_data.append(json.loads(line_dict))\n",
    "    f.close()\n",
    "    \n",
    "# give unique number for each product and for each user and append the in two different dictioary\n",
    "asin2itemNum = {}\n",
    "reviewerID2userNum = {}\n",
    "num = 1\n",
    "for ui in reviews_data:\n",
    "    if ui[\"asin\"] not in asin2itemNum:\n",
    "        asin2itemNum[ui[\"asin\"]] = num\n",
    "        num += 1\n",
    "num = 1\n",
    "for uu in reviews_data:\n",
    "    if uu[\"reviewerID\"] not in reviewerID2userNum:\n",
    "        reviewerID2userNum[uu[\"reviewerID\"]] = num\n",
    "        num += 1"
   ]
  },
  {
   "cell_type": "code",
   "execution_count": 21,
   "id": "4abaf0e1",
   "metadata": {
    "execution": {
     "iopub.execute_input": "2022-10-13T06:07:40.689939Z",
     "iopub.status.busy": "2022-10-13T06:07:40.689612Z",
     "iopub.status.idle": "2022-10-13T06:07:40.693774Z",
     "shell.execute_reply": "2022-10-13T06:07:40.692876Z"
    },
    "papermill": {
     "duration": 0.023705,
     "end_time": "2022-10-13T06:07:40.695795",
     "exception": false,
     "start_time": "2022-10-13T06:07:40.672090",
     "status": "completed"
    },
    "tags": []
   },
   "outputs": [],
   "source": [
    "#reviewerID2userNum"
   ]
  },
  {
   "cell_type": "code",
   "execution_count": 22,
   "id": "c7de7e49",
   "metadata": {
    "execution": {
     "iopub.execute_input": "2022-10-13T06:07:40.730367Z",
     "iopub.status.busy": "2022-10-13T06:07:40.729744Z",
     "iopub.status.idle": "2022-10-13T06:07:40.735957Z",
     "shell.execute_reply": "2022-10-13T06:07:40.735064Z"
    },
    "papermill": {
     "duration": 0.025761,
     "end_time": "2022-10-13T06:07:40.737941",
     "exception": false,
     "start_time": "2022-10-13T06:07:40.712180",
     "status": "completed"
    },
    "tags": []
   },
   "outputs": [],
   "source": [
    "# loading the dictionary of UserId_ItemID_Num\n",
    "def loading_metadata():\n",
    "    data = []\n",
    "    dict_d = {}\n",
    "    with open( './meta_' + dataName + '.txt') as f:\n",
    "        for line in f:\n",
    "            line_dict = json.dumps(eval(line))\n",
    "            data.append(json.loads(line_dict))\n",
    "        for d_item in data:\n",
    "            k = asin2itemNum.get(d_item[\"asin\"])\n",
    "            if \"description\" in d_item.keys():\n",
    "                dict_d[k] = d_item[\"description\"].replace(\"\\n\", \"\")\n",
    "            else:\n",
    "                dict_d[k] = \"\"\n",
    "        return dict_d"
   ]
  },
  {
   "cell_type": "code",
   "execution_count": 23,
   "id": "2b661b6d",
   "metadata": {
    "execution": {
     "iopub.execute_input": "2022-10-13T06:07:40.772333Z",
     "iopub.status.busy": "2022-10-13T06:07:40.771970Z",
     "iopub.status.idle": "2022-10-13T06:11:55.712701Z",
     "shell.execute_reply": "2022-10-13T06:11:55.711551Z"
    },
    "papermill": {
     "duration": 254.961261,
     "end_time": "2022-10-13T06:11:55.715684",
     "exception": false,
     "start_time": "2022-10-13T06:07:40.754423",
     "status": "completed"
    },
    "tags": []
   },
   "outputs": [
    {
     "name": "stderr",
     "output_type": "stream",
     "text": [
      "/opt/conda/lib/python3.7/site-packages/ipykernel_launcher.py:33: DeprecationWarning: Call to deprecated `docvecs` (The `docvecs` property has been renamed `dv`.).\n"
     ]
    },
    {
     "name": "stdout",
     "output_type": "stream",
     "text": [
      "Item Vector Finished\n"
     ]
    }
   ],
   "source": [
    "# turn item text to a vedcor with size of 100  and save it\n",
    "dict_i = loading_metadata()\n",
    "x_train_item, count_item = DoctoVec.get_data(dict_i)\n",
    "model_dm = DoctoVec.train(dataName, x_train_item, vector_size, epoch_num,\"item\")\n",
    "DoctoVec.saveVector(dataName, model_dm, vector_size, count_item,\"item\")\n",
    "print(\"Item Vector Finished\")"
   ]
  },
  {
   "cell_type": "code",
   "execution_count": 24,
   "id": "116e4e12",
   "metadata": {
    "execution": {
     "iopub.execute_input": "2022-10-13T06:11:55.767970Z",
     "iopub.status.busy": "2022-10-13T06:11:55.767436Z",
     "iopub.status.idle": "2022-10-13T06:11:55.776327Z",
     "shell.execute_reply": "2022-10-13T06:11:55.775364Z"
    },
    "papermill": {
     "duration": 0.038113,
     "end_time": "2022-10-13T06:11:55.779753",
     "exception": false,
     "start_time": "2022-10-13T06:11:55.741640",
     "status": "completed"
    },
    "tags": []
   },
   "outputs": [],
   "source": [
    "def loading_reviewdata():\n",
    "    # loading the dictionary of UserId_ItemID_Num\n",
    "    data = []\n",
    "    dict_d = {}\n",
    "    with open('./reviews_' + dataName + '.txt') as f:\n",
    "        for line in f:\n",
    "            line_dict = json.dumps(eval(line))\n",
    "            data.append(json.loads(line_dict))\n",
    "        for d_item in data:\n",
    "            k = reviewerID2userNum.get(d_item[\"reviewerID\"])\n",
    "            #print(k)\n",
    "            if \"reviewText\" in d_item.keys():\n",
    "                dict_d[k] = d_item[\"reviewText\"].replace(\"\\n\", \"\")\n",
    "            else:\n",
    "                dict_d[k] = \"\"\n",
    "            #print(dict_d[k])\n",
    "        return dict_d\n"
   ]
  },
  {
   "cell_type": "markdown",
   "id": "0eae6d2e",
   "metadata": {
    "papermill": {
     "duration": 0.023946,
     "end_time": "2022-10-13T06:11:55.828130",
     "exception": false,
     "start_time": "2022-10-13T06:11:55.804184",
     "status": "completed"
    },
    "tags": []
   },
   "source": [
    "\n",
    "```\n",
    "#output example\n",
    "1\n",
    "I ended up with a variety of different brands of cotton flannel baby wipes.  These are good quality, just not my personal favorite.  However, if the colors really do it for you, go ahead and stock up on these, they're good.  And really, we're talking squares of flannel, it's not critical.  For what it's worth, I like BumGenius wipes best for absorbency - like wiping up spit-up.  They're thick and soft.  I like OsoCozy best for cleaning baby bums, because they're thin, the better to clean crevices with.  ALL the wipes I bought shrank a lot in the first wash (hot), so expect that.I avoided GroVia for being synthetic, but in retrospect that might have been the way to go.  I have all BumGenius 4.0 diapers, which shouldn't be washed with natural fibers.  Now I have to wash the cotton wipes with baby's clothes, rather than with the diapers, which isn't ideal.\n",
    "```"
   ]
  },
  {
   "cell_type": "code",
   "execution_count": 25,
   "id": "d049e2f7",
   "metadata": {
    "execution": {
     "iopub.execute_input": "2022-10-13T06:11:55.878746Z",
     "iopub.status.busy": "2022-10-13T06:11:55.878208Z",
     "iopub.status.idle": "2022-10-13T06:12:28.277374Z",
     "shell.execute_reply": "2022-10-13T06:12:28.276075Z"
    },
    "papermill": {
     "duration": 32.427068,
     "end_time": "2022-10-13T06:12:28.279614",
     "exception": false,
     "start_time": "2022-10-13T06:11:55.852546",
     "status": "completed"
    },
    "tags": []
   },
   "outputs": [
    {
     "name": "stderr",
     "output_type": "stream",
     "text": [
      "/opt/conda/lib/python3.7/site-packages/ipykernel_launcher.py:33: DeprecationWarning: Call to deprecated `docvecs` (The `docvecs` property has been renamed `dv`.).\n"
     ]
    },
    {
     "name": "stdout",
     "output_type": "stream",
     "text": [
      "User Vector Finished\n"
     ]
    }
   ],
   "source": [
    "# turn review text to a vedcor with size of 100  and save it\n",
    "dict_u = loading_reviewdata()\n",
    "x_train_user, count_user = DoctoVec.get_data(dict_u)\n",
    "model_dm = DoctoVec.train(dataName, x_train_user, vector_size, epoch_num,\"user\")\n",
    "DoctoVec.saveVector(dataName, model_dm, vector_size, count_user,\"user\")\n",
    "print(\"User Vector Finished\")"
   ]
  },
  {
   "cell_type": "markdown",
   "id": "cfa0b680",
   "metadata": {
    "papermill": {
     "duration": 0.016455,
     "end_time": "2022-10-13T06:12:28.312867",
     "exception": false,
     "start_time": "2022-10-13T06:12:28.296412",
     "status": "completed"
    },
    "tags": []
   },
   "source": [
    "## User Rating Input"
   ]
  },
  {
   "cell_type": "code",
   "execution_count": 26,
   "id": "ed3eae36",
   "metadata": {
    "execution": {
     "iopub.execute_input": "2022-10-13T06:12:28.349073Z",
     "iopub.status.busy": "2022-10-13T06:12:28.347725Z",
     "iopub.status.idle": "2022-10-13T06:12:28.411391Z",
     "shell.execute_reply": "2022-10-13T06:12:28.410423Z"
    },
    "papermill": {
     "duration": 0.084074,
     "end_time": "2022-10-13T06:12:28.413676",
     "exception": false,
     "start_time": "2022-10-13T06:12:28.329602",
     "status": "completed"
    },
    "tags": []
   },
   "outputs": [],
   "source": [
    "#extract the rating for each review and assign them to the product_id with the review_id\n",
    "for d in reviews_data:\n",
    "    user_id = reviewerID2userNum.get(d[\"reviewerID\"])\n",
    "    item_id = asin2itemNum.get(d[\"asin\"])\n",
    "    if user_id not in ui_dict2:\n",
    "        ui_dict2[user_id] = list()\n",
    "        if int(user_id) > max_num_user: \n",
    "            max_num_user = int(user_id)\n",
    "    ui_dict2[user_id].append(item_id)\n",
    "    if item_id not in iu_dict2:\n",
    "        iu_dict2[item_id] = list()\n",
    "        if int(item_id) > max_num_item:\n",
    "            max_num_item = int(item_id)\n",
    "    iu_dict2[item_id].append(user_id)"
   ]
  },
  {
   "cell_type": "code",
   "execution_count": 27,
   "id": "a4230752",
   "metadata": {
    "execution": {
     "iopub.execute_input": "2022-10-13T06:12:28.448741Z",
     "iopub.status.busy": "2022-10-13T06:12:28.448418Z",
     "iopub.status.idle": "2022-10-13T06:12:28.498729Z",
     "shell.execute_reply": "2022-10-13T06:12:28.497501Z"
    },
    "papermill": {
     "duration": 0.073622,
     "end_time": "2022-10-13T06:12:28.504293",
     "exception": false,
     "start_time": "2022-10-13T06:12:28.430671",
     "status": "completed"
    },
    "tags": []
   },
   "outputs": [
    {
     "name": "stdout",
     "output_type": "stream",
     "text": [
      "max_num_user =   1100\n",
      "max_num_item =  10458\n"
     ]
    }
   ],
   "source": [
    "for l_d in reviews_data:\n",
    "    u_id = reviewerID2userNum.get(l_d[\"reviewerID\"])\n",
    "    len_ui_dict[u_id] = len(ui_dict2.get(u_id))\n",
    "print(\"max_num_user =  \" ,max_num_user)\n",
    "print(\"max_num_item = \",max_num_item)\n"
   ]
  },
  {
   "cell_type": "code",
   "execution_count": 28,
   "id": "4845aea9",
   "metadata": {
    "execution": {
     "iopub.execute_input": "2022-10-13T06:12:28.586281Z",
     "iopub.status.busy": "2022-10-13T06:12:28.583716Z",
     "iopub.status.idle": "2022-10-13T06:12:28.633092Z",
     "shell.execute_reply": "2022-10-13T06:12:28.631084Z"
    },
    "papermill": {
     "duration": 0.092507,
     "end_time": "2022-10-13T06:12:28.636151",
     "exception": false,
     "start_time": "2022-10-13T06:12:28.543644",
     "status": "completed"
    },
    "tags": []
   },
   "outputs": [],
   "source": [
    "# reviews_train_data vs reviews_test_data\n",
    "#split our dataset to train and test for rating and append them to different lists\n",
    "num = 0\n",
    "for l_d in reviews_data:\n",
    "    if num % (split_ratio + 1) < split_ratio:\n",
    "        reviews_train_data.append(l_d)\n",
    "        num += 1\n",
    "    else:\n",
    "        reviews_test_data.append(l_d)\n",
    "        num += 1"
   ]
  },
  {
   "cell_type": "code",
   "execution_count": 29,
   "id": "770ef362",
   "metadata": {
    "execution": {
     "iopub.execute_input": "2022-10-13T06:12:28.692784Z",
     "iopub.status.busy": "2022-10-13T06:12:28.691983Z",
     "iopub.status.idle": "2022-10-13T06:12:28.886366Z",
     "shell.execute_reply": "2022-10-13T06:12:28.884909Z"
    },
    "papermill": {
     "duration": 0.224382,
     "end_time": "2022-10-13T06:12:28.889539",
     "exception": false,
     "start_time": "2022-10-13T06:12:28.665157",
     "status": "completed"
    },
    "tags": []
   },
   "outputs": [
    {
     "name": "stdout",
     "output_type": "stream",
     "text": [
      "Training Rating Finished\n"
     ]
    }
   ],
   "source": [
    "# insert Rating in train file\n",
    "train_list = []\n",
    "train_data = open('./' + dataName + \".train.rating\", \"w\")\n",
    "for l_train in reviews_train_data:\n",
    "        user_id = reviewerID2userNum.get(l_train[\"reviewerID\"])\n",
    "        item_id = asin2itemNum.get(l_train[\"asin\"])\n",
    "        rating_score = int(l_train[\"overall\"])\n",
    "        str_line = str(user_id) + \"  \" + str(item_id) + \"  \" + str(rating_score)\n",
    "        train_data.writelines(str_line + \"\\n\")\n",
    "        train_list.append(str_line)\n",
    "train_data.close()\n",
    "print(\"Training Rating Finished\")"
   ]
  },
  {
   "cell_type": "code",
   "execution_count": 30,
   "id": "1a5c466f",
   "metadata": {
    "execution": {
     "iopub.execute_input": "2022-10-13T06:12:28.942111Z",
     "iopub.status.busy": "2022-10-13T06:12:28.940973Z",
     "iopub.status.idle": "2022-10-13T06:12:28.947955Z",
     "shell.execute_reply": "2022-10-13T06:12:28.946995Z"
    },
    "papermill": {
     "duration": 0.038005,
     "end_time": "2022-10-13T06:12:28.952986",
     "exception": false,
     "start_time": "2022-10-13T06:12:28.914981",
     "status": "completed"
    },
    "tags": []
   },
   "outputs": [
    {
     "data": {
      "text/plain": [
       "['1  1  4']"
      ]
     },
     "execution_count": 30,
     "metadata": {},
     "output_type": "execute_result"
    }
   ],
   "source": [
    "train_list[:1]"
   ]
  },
  {
   "cell_type": "code",
   "execution_count": 31,
   "id": "2bf90920",
   "metadata": {
    "execution": {
     "iopub.execute_input": "2022-10-13T06:12:29.005059Z",
     "iopub.status.busy": "2022-10-13T06:12:29.003959Z",
     "iopub.status.idle": "2022-10-13T06:12:29.068867Z",
     "shell.execute_reply": "2022-10-13T06:12:29.067800Z"
    },
    "papermill": {
     "duration": 0.093492,
     "end_time": "2022-10-13T06:12:29.071600",
     "exception": false,
     "start_time": "2022-10-13T06:12:28.978108",
     "status": "completed"
    },
    "tags": []
   },
   "outputs": [
    {
     "name": "stdout",
     "output_type": "stream",
     "text": [
      "Test Rating Finished\n"
     ]
    }
   ],
   "source": [
    "# Insert Rating in test file\n",
    "test_list = []\n",
    "test_data = open('./'  + dataName + \".test.rating\", \"w\")\n",
    "for l_test in reviews_test_data:\n",
    "        user_id = reviewerID2userNum.get(l_test[\"reviewerID\"])\n",
    "        item_id = asin2itemNum.get(l_test[\"asin\"])\n",
    "        rating_score = int(l_test[\"overall\"])\n",
    "        str_line = str(user_id) + \"  \" + str(item_id) + \"  \" + str(rating_score)\n",
    "        test_data.writelines(str_line + \"\\n\")\n",
    "        test_list.append(str_line)\n",
    "test_data.close()\n",
    "print(\"Test Rating Finished\")"
   ]
  },
  {
   "cell_type": "code",
   "execution_count": 32,
   "id": "a583a7c0",
   "metadata": {
    "execution": {
     "iopub.execute_input": "2022-10-13T06:12:29.108937Z",
     "iopub.status.busy": "2022-10-13T06:12:29.107895Z",
     "iopub.status.idle": "2022-10-13T06:12:29.114969Z",
     "shell.execute_reply": "2022-10-13T06:12:29.113921Z"
    },
    "papermill": {
     "duration": 0.027618,
     "end_time": "2022-10-13T06:12:29.117211",
     "exception": false,
     "start_time": "2022-10-13T06:12:29.089593",
     "status": "completed"
    },
    "tags": []
   },
   "outputs": [
    {
     "data": {
      "text/plain": [
       "['5  5  5']"
      ]
     },
     "execution_count": 32,
     "metadata": {},
     "output_type": "execute_result"
    }
   ],
   "source": [
    "test_list[:1]"
   ]
  },
  {
   "cell_type": "code",
   "execution_count": 33,
   "id": "146c3b06",
   "metadata": {
    "execution": {
     "iopub.execute_input": "2022-10-13T06:12:29.153026Z",
     "iopub.status.busy": "2022-10-13T06:12:29.152688Z",
     "iopub.status.idle": "2022-10-13T06:12:29.158791Z",
     "shell.execute_reply": "2022-10-13T06:12:29.157825Z"
    },
    "papermill": {
     "duration": 0.026238,
     "end_time": "2022-10-13T06:12:29.160842",
     "exception": false,
     "start_time": "2022-10-13T06:12:29.134604",
     "status": "completed"
    },
    "tags": []
   },
   "outputs": [],
   "source": [
    "# Read .rating file and Return dok matrix (sparse matrix ).\n",
    "# The first line of .rating file is: num_users > num_items > rating \n",
    "def get_max_users_max_items(filename):\n",
    "    # Get number of users and items\n",
    "    num_users, num_items = 0, 0\n",
    "    with open(filename, \"r\") as f:\n",
    "            line = f.readline()\n",
    "            #print(line)\n",
    "            while line is not None and line != \"\":\n",
    "                arr = line.split(\"  \")\n",
    "                u, i = int(arr[0]), int(arr[1])\n",
    "                num_users = max(num_users, u)\n",
    "                num_items = max(num_items, i)\n",
    "                line = f.readline()\n",
    "                #print(line)\n",
    "                \n",
    "    return num_users , num_items\n"
   ]
  },
  {
   "cell_type": "code",
   "execution_count": 34,
   "id": "04302d74",
   "metadata": {
    "execution": {
     "iopub.execute_input": "2022-10-13T06:12:29.196031Z",
     "iopub.status.busy": "2022-10-13T06:12:29.195697Z",
     "iopub.status.idle": "2022-10-13T06:12:29.202690Z",
     "shell.execute_reply": "2022-10-13T06:12:29.201685Z"
    },
    "papermill": {
     "duration": 0.027053,
     "end_time": "2022-10-13T06:12:29.204759",
     "exception": false,
     "start_time": "2022-10-13T06:12:29.177706",
     "status": "completed"
    },
    "tags": []
   },
   "outputs": [],
   "source": [
    "# Construct  sparse matrix with size of maxmuim of users and items\n",
    "def load_rating_file_as_matrix(filename):\n",
    "        num_users , num_items = get_max_users_max_items(filename)\n",
    "        #print(num_users , num_items)\n",
    "        mat = sp.dok_matrix((num_users + 1, num_items + 1), dtype=np.float32)\n",
    "        with open(filename, \"r\") as f:\n",
    "            line = f.readline()\n",
    "            while line is not None and line != \"\":\n",
    "                arr = line.split(\"  \")\n",
    "                user, item, rating = int(arr[0]), int(arr[1]), float(arr[2])\n",
    "                if rating > 0:\n",
    "                    mat[user, item] = rating\n",
    "                line = f.readline()\n",
    "        return mat"
   ]
  },
  {
   "cell_type": "markdown",
   "id": "0107d3e9",
   "metadata": {
    "papermill": {
     "duration": 0.016688,
     "end_time": "2022-10-13T06:12:29.238604",
     "exception": false,
     "start_time": "2022-10-13T06:12:29.221916",
     "status": "completed"
    },
    "tags": []
   },
   "source": [
    "## Sparse Matrix : \n",
    "\n",
    "**A matrix is a two-dimensional data object made of m rows and n columns, therefore having total m x n values. If most of the elements of the matrix have 0 value, then it is called a sparse matrix.**\n",
    "\n",
    "![IMAGE](https://res.cloudinary.com/practicaldev/image/fetch/s--v5V9UbEm--/c_limit%2Cf_auto%2Cfl_progressive%2Cq_auto%2Cw_880/https://files.ai-pool.com/a/8ccc261ef0bb339e4f923b22ab06a42c.png)"
   ]
  },
  {
   "cell_type": "code",
   "execution_count": 35,
   "id": "570dc898",
   "metadata": {
    "execution": {
     "iopub.execute_input": "2022-10-13T06:12:29.276333Z",
     "iopub.status.busy": "2022-10-13T06:12:29.275954Z",
     "iopub.status.idle": "2022-10-13T06:12:29.279982Z",
     "shell.execute_reply": "2022-10-13T06:12:29.279074Z"
    },
    "papermill": {
     "duration": 0.02419,
     "end_time": "2022-10-13T06:12:29.282093",
     "exception": false,
     "start_time": "2022-10-13T06:12:29.257903",
     "status": "completed"
    },
    "tags": []
   },
   "outputs": [],
   "source": [
    "#display  test rating \n",
    "#mat = load_rating_file_as_matrix(\"./Baby.test.rating\")\n",
    "#print(mat)"
   ]
  },
  {
   "cell_type": "markdown",
   "id": "73801e84",
   "metadata": {
    "papermill": {
     "duration": 0.016626,
     "end_time": "2022-10-13T06:12:29.315612",
     "exception": false,
     "start_time": "2022-10-13T06:12:29.298986",
     "status": "completed"
    },
    "tags": []
   },
   "source": [
    "```\n",
    " >>  output example\n",
    " (5, 5)\t5.0\n",
    "  (10, 5)\t5.0\n",
    "  (15, 5)\t5.0\n",
    "  (18, 8)\t5.0\n",
    "  (7, 13)\t3.0\n",
    "  (28, 13)\t4.0\n",
    "  (33, 13)\t5.0\n",
    "  (37, 15)\t3.0\n",
    "  (41, 17)\t5.0\n",
    "  (46, 17)\t4.0\n",
    "  (35, 18)\t5.0\n",
    "  (55, 18)\t1.0\n",
    "  (35, 19)\t5.0\n",
    "  (63, 22)\t2.0\n",
    "  (67, 23)\t4.0\n",
    "  (71, 23)\t4.0\n",
    "  (74, 26)\t5.0\n",
    "  (79, 29)\t2.0\n",
    "  (83, 31)\t5.0\n",
    "  .\n",
    "  .\n",
    "  .\n",
    "  .\n",
    "  .\n",
    "```"
   ]
  },
  {
   "cell_type": "code",
   "execution_count": 36,
   "id": "499e7863",
   "metadata": {
    "execution": {
     "iopub.execute_input": "2022-10-13T06:12:29.351553Z",
     "iopub.status.busy": "2022-10-13T06:12:29.351187Z",
     "iopub.status.idle": "2022-10-13T06:12:29.357105Z",
     "shell.execute_reply": "2022-10-13T06:12:29.356156Z"
    },
    "papermill": {
     "duration": 0.02659,
     "end_time": "2022-10-13T06:12:29.359094",
     "exception": false,
     "start_time": "2022-10-13T06:12:29.332504",
     "status": "completed"
    },
    "tags": []
   },
   "outputs": [],
   "source": [
    "# get the  text vector for  user_review and item_description \n",
    "def load_review_feature(filename):\n",
    "        dict = {}\n",
    "        with open(filename, \"r\") as f:\n",
    "            line = f.readline()\n",
    "            while line is not None and line != \"\":\n",
    "                fea = line.strip('\\n').split(',')\n",
    "                index = int(fea[0])\n",
    "                if index not in dict:\n",
    "                    dict[index] = fea[1:]\n",
    "                line = f.readline()\n",
    "        return dict"
   ]
  },
  {
   "cell_type": "code",
   "execution_count": 37,
   "id": "79858c02",
   "metadata": {
    "execution": {
     "iopub.execute_input": "2022-10-13T06:12:29.394958Z",
     "iopub.status.busy": "2022-10-13T06:12:29.394637Z",
     "iopub.status.idle": "2022-10-13T06:12:29.398976Z",
     "shell.execute_reply": "2022-10-13T06:12:29.397857Z"
    },
    "papermill": {
     "duration": 0.025177,
     "end_time": "2022-10-13T06:12:29.401286",
     "exception": false,
     "start_time": "2022-10-13T06:12:29.376109",
     "status": "completed"
    },
    "tags": []
   },
   "outputs": [],
   "source": [
    "#display  user_review\n",
    "#dict = load_review_feature(\"./Baby.user\")\n",
    "#print(dict[0]) >>  you can change any number of user"
   ]
  },
  {
   "cell_type": "markdown",
   "id": "870baa9f",
   "metadata": {
    "papermill": {
     "duration": 0.016721,
     "end_time": "2022-10-13T06:12:29.434952",
     "exception": false,
     "start_time": "2022-10-13T06:12:29.418231",
     "status": "completed"
    },
    "tags": []
   },
   "source": [
    "```\n",
    "['-0.0052308156', '-0.0059791277', '-0.009880755', '0.008552845', '0.003566115', '0.00026303052', '-0.009880628', '-0.00516665', '-0.009717963', '0.0020107795', '0.0028303098', '0.004643555', '-0.0042972756', '-0.0031457066', '-0.0030787874', '-0.008721917', '0.002172482', '0.009225621', '-0.009501867', '-0.0034580873', '-0.0037699104', '0.0026073814', '-0.0056915567', '0.0026206803', '0.0058025215', '-0.008106861', '-0.008329792', '-0.0099546695', '0.004933045', '-0.009122307', '0.0058419635', '0.0068002627', '-0.0065064', '-0.004519882', '-0.0012548614', '0.0016463208', '-0.0014813376', '-0.008542542', '-0.0036026144', '0.0017316246', '-0.0020569204', '-0.0072300434', '0.004184599', '-0.0085743405', '0.0027115368', '-0.0046137213', '0.00064542773', '-0.0020573472', '0.0054132272', '-0.008002572', '-0.002119851', '-9.581566e-05', '-0.0066387774', '-0.006526165', '-0.0019329595', '0.008803475', '-0.0012631703', '0.0035359787', '-0.005750313', '0.0088148145', '0.0029154683', '0.009279685', '0.004349854', '-0.004199569', '0.0022419048', '-0.0044124555', '0.0057769394', '0.001831522', '-0.002278762', '-0.0058811186', '-0.008027084', '-0.0008530736', '-0.008939364', '-0.009223635', '-0.0079399105', '0.0021690726', '-0.0065009403', '-0.0077883434', '0.0021311664', '0.0020526624', '0.008348355', '0.004667914', '-0.009410105', '-0.00033878087', '0.007854028', '0.0026714755', '0.0026803636', '-0.004883711', '0.0064671705', '0.0016488147', '-0.007602146', '0.006863971', '-0.009769399', '-0.008158595', '-0.004874165', '0.0099376775', '0.003113091', '-0.0020120381', '0.008895168', '0.0023512554']\n",
    "```"
   ]
  },
  {
   "cell_type": "code",
   "execution_count": 38,
   "id": "21cf6243",
   "metadata": {
    "execution": {
     "iopub.execute_input": "2022-10-13T06:12:29.470212Z",
     "iopub.status.busy": "2022-10-13T06:12:29.469866Z",
     "iopub.status.idle": "2022-10-13T06:12:30.023674Z",
     "shell.execute_reply": "2022-10-13T06:12:30.022665Z"
    },
    "papermill": {
     "duration": 0.574208,
     "end_time": "2022-10-13T06:12:30.026076",
     "exception": false,
     "start_time": "2022-10-13T06:12:29.451868",
     "status": "completed"
    },
    "tags": []
   },
   "outputs": [],
   "source": [
    "# get read all files we have saved in previous stage\n",
    "path = './' + dataName\n",
    "trainMatrix = load_rating_file_as_matrix(path + \".train.rating\")\n",
    "user_review_fea = load_review_feature(path + \".user\")\n",
    "item_review_fea = load_review_feature(path + \".item\")\n",
    "testRatings = load_rating_file_as_matrix(path + \".test.rating\")\n",
    "num_users,num_items = trainMatrix.shape\n"
   ]
  },
  {
   "cell_type": "code",
   "execution_count": 39,
   "id": "6b04ce9b",
   "metadata": {
    "execution": {
     "iopub.execute_input": "2022-10-13T06:12:30.062778Z",
     "iopub.status.busy": "2022-10-13T06:12:30.061952Z",
     "iopub.status.idle": "2022-10-13T06:12:30.068122Z",
     "shell.execute_reply": "2022-10-13T06:12:30.067218Z"
    },
    "papermill": {
     "duration": 0.026164,
     "end_time": "2022-10-13T06:12:30.069981",
     "exception": false,
     "start_time": "2022-10-13T06:12:30.043817",
     "status": "completed"
    },
    "tags": []
   },
   "outputs": [
    {
     "data": {
      "text/plain": [
       "(1101, 10459)"
      ]
     },
     "execution_count": 39,
     "metadata": {},
     "output_type": "execute_result"
    }
   ],
   "source": [
    "num_users,num_items"
   ]
  },
  {
   "cell_type": "markdown",
   "id": "a5a94f18",
   "metadata": {
    "papermill": {
     "duration": 0.016652,
     "end_time": "2022-10-13T06:12:30.103446",
     "exception": false,
     "start_time": "2022-10-13T06:12:30.086794",
     "status": "completed"
    },
    "tags": []
   },
   "source": [
    "## Build Model"
   ]
  },
  {
   "cell_type": "code",
   "execution_count": 40,
   "id": "9a5144d7",
   "metadata": {
    "execution": {
     "iopub.execute_input": "2022-10-13T06:12:30.140184Z",
     "iopub.status.busy": "2022-10-13T06:12:30.138602Z",
     "iopub.status.idle": "2022-10-13T06:12:30.174166Z",
     "shell.execute_reply": "2022-10-13T06:12:30.173236Z"
    },
    "papermill": {
     "duration": 0.056003,
     "end_time": "2022-10-13T06:12:30.176528",
     "exception": false,
     "start_time": "2022-10-13T06:12:30.120525",
     "status": "completed"
    },
    "tags": []
   },
   "outputs": [],
   "source": [
    "#build model\n",
    "#Intiliaze the model input\n",
    "user_input = Input(shape=(1,), dtype='int32', name='user_input')\n",
    "user_sent = Input(shape=(vector_size,), dtype='float32', name='user_sentiment')\n",
    "item_input = Input(shape=(1,), dtype='int32', name='item_input')\n",
    "item_cont = Input(shape=(vector_size,), dtype='float32', name='item_content')\n",
    "\n",
    "#Embedding layer for user\n",
    "Embedding_User = Embedding(input_dim=num_users,\n",
    "                               input_length=1,\n",
    "                               output_dim=vector_size,\n",
    "                               name='user_embedding')\n",
    "\n",
    "#Embedding layer for item\n",
    "Embedding_Item = Embedding(input_dim=num_items,\n",
    "                               input_length=1,\n",
    "                               output_dim=vector_size,\n",
    "                               name='item_embedding')\n",
    "\n"
   ]
  },
  {
   "cell_type": "code",
   "execution_count": 41,
   "id": "39043222",
   "metadata": {
    "execution": {
     "iopub.execute_input": "2022-10-13T06:12:30.213233Z",
     "iopub.status.busy": "2022-10-13T06:12:30.212386Z",
     "iopub.status.idle": "2022-10-13T06:12:30.218216Z",
     "shell.execute_reply": "2022-10-13T06:12:30.217184Z"
    },
    "papermill": {
     "duration": 0.025969,
     "end_time": "2022-10-13T06:12:30.220037",
     "exception": false,
     "start_time": "2022-10-13T06:12:30.194068",
     "status": "completed"
    },
    "tags": []
   },
   "outputs": [],
   "source": [
    "# User Sentiment Dense Network\n",
    "def user_Sentiment(user_latent, user_sent):\n",
    "    latent_size = user_latent.shape[1]\n",
    "    inputs = user_sent\n",
    "    layer = Dense(latent_size,activation='relu',name='user_attention_layer')(inputs)\n",
    "    sent = Lambda(lambda x: K.softmax(x), name='user_Sentiment_softmax')(layer)\n",
    "    output = Multiply()([user_latent, sent])\n",
    "    return output"
   ]
  },
  {
   "cell_type": "code",
   "execution_count": 42,
   "id": "c8a85a23",
   "metadata": {
    "execution": {
     "iopub.execute_input": "2022-10-13T06:12:30.255912Z",
     "iopub.status.busy": "2022-10-13T06:12:30.255589Z",
     "iopub.status.idle": "2022-10-13T06:12:30.261139Z",
     "shell.execute_reply": "2022-10-13T06:12:30.260146Z"
    },
    "papermill": {
     "duration": 0.025877,
     "end_time": "2022-10-13T06:12:30.263101",
     "exception": false,
     "start_time": "2022-10-13T06:12:30.237224",
     "status": "completed"
    },
    "tags": []
   },
   "outputs": [],
   "source": [
    "# Item Content Dense Network\n",
    "def item_Content(item_latent, item_cont):\n",
    "    latent_size = item_latent.shape[1]\n",
    "    inputs = item_cont\n",
    "    layer = Dense(latent_size,activation='relu',name='item_attention_layer')(inputs)\n",
    "    cont = Lambda(lambda x: K.softmax(x), name='item_Content_softmax')(layer)\n",
    "    output = Multiply()([item_latent, cont])\n",
    "    return output"
   ]
  },
  {
   "cell_type": "code",
   "execution_count": 43,
   "id": "7fd5140c",
   "metadata": {
    "execution": {
     "iopub.execute_input": "2022-10-13T06:12:30.298769Z",
     "iopub.status.busy": "2022-10-13T06:12:30.298453Z",
     "iopub.status.idle": "2022-10-13T06:12:33.012161Z",
     "shell.execute_reply": "2022-10-13T06:12:33.010443Z"
    },
    "papermill": {
     "duration": 2.734588,
     "end_time": "2022-10-13T06:12:33.014823",
     "exception": false,
     "start_time": "2022-10-13T06:12:30.280235",
     "status": "completed"
    },
    "tags": []
   },
   "outputs": [
    {
     "name": "stderr",
     "output_type": "stream",
     "text": [
      "2022-10-13 06:12:30.382100: I tensorflow/stream_executor/cuda/cuda_gpu_executor.cc:937] successful NUMA node read from SysFS had negative value (-1), but there must be at least one NUMA node, so returning NUMA node zero\n",
      "2022-10-13 06:12:30.517757: I tensorflow/stream_executor/cuda/cuda_gpu_executor.cc:937] successful NUMA node read from SysFS had negative value (-1), but there must be at least one NUMA node, so returning NUMA node zero\n",
      "2022-10-13 06:12:30.518573: I tensorflow/stream_executor/cuda/cuda_gpu_executor.cc:937] successful NUMA node read from SysFS had negative value (-1), but there must be at least one NUMA node, so returning NUMA node zero\n",
      "2022-10-13 06:12:30.520658: I tensorflow/core/platform/cpu_feature_guard.cc:142] This TensorFlow binary is optimized with oneAPI Deep Neural Network Library (oneDNN) to use the following CPU instructions in performance-critical operations:  AVX2 AVX512F FMA\n",
      "To enable them in other operations, rebuild TensorFlow with the appropriate compiler flags.\n",
      "2022-10-13 06:12:30.520990: I tensorflow/stream_executor/cuda/cuda_gpu_executor.cc:937] successful NUMA node read from SysFS had negative value (-1), but there must be at least one NUMA node, so returning NUMA node zero\n",
      "2022-10-13 06:12:30.521709: I tensorflow/stream_executor/cuda/cuda_gpu_executor.cc:937] successful NUMA node read from SysFS had negative value (-1), but there must be at least one NUMA node, so returning NUMA node zero\n",
      "2022-10-13 06:12:30.522348: I tensorflow/stream_executor/cuda/cuda_gpu_executor.cc:937] successful NUMA node read from SysFS had negative value (-1), but there must be at least one NUMA node, so returning NUMA node zero\n",
      "2022-10-13 06:12:32.581502: I tensorflow/stream_executor/cuda/cuda_gpu_executor.cc:937] successful NUMA node read from SysFS had negative value (-1), but there must be at least one NUMA node, so returning NUMA node zero\n",
      "2022-10-13 06:12:32.582331: I tensorflow/stream_executor/cuda/cuda_gpu_executor.cc:937] successful NUMA node read from SysFS had negative value (-1), but there must be at least one NUMA node, so returning NUMA node zero\n",
      "2022-10-13 06:12:32.582992: I tensorflow/stream_executor/cuda/cuda_gpu_executor.cc:937] successful NUMA node read from SysFS had negative value (-1), but there must be at least one NUMA node, so returning NUMA node zero\n",
      "2022-10-13 06:12:32.583605: I tensorflow/core/common_runtime/gpu/gpu_device.cc:1510] Created device /job:localhost/replica:0/task:0/device:GPU:0 with 15401 MB memory:  -> device: 0, name: Tesla P100-PCIE-16GB, pci bus id: 0000:00:04.0, compute capability: 6.0\n"
     ]
    }
   ],
   "source": [
    "# Crucial to flatten an embedding vector\n",
    "user_latent = Reshape((vector_size,))(Flatten()(Embedding_User(user_input)))\n",
    "item_latent = Reshape((vector_size,))(Flatten()(Embedding_Item(item_input)))\n",
    "user_latent_atten = user_Sentiment(user_latent, user_sent)\n",
    "item_latent_atten = item_Content(item_latent, item_cont)\n",
    "\n",
    "user_latent = Dense(vector_size, activation='relu')(user_latent_atten)\n",
    "item_latent = Dense(vector_size, activation='relu')(item_latent_atten)"
   ]
  },
  {
   "cell_type": "code",
   "execution_count": 44,
   "id": "e50f9f82",
   "metadata": {
    "execution": {
     "iopub.execute_input": "2022-10-13T06:12:33.053882Z",
     "iopub.status.busy": "2022-10-13T06:12:33.053512Z",
     "iopub.status.idle": "2022-10-13T06:12:33.095038Z",
     "shell.execute_reply": "2022-10-13T06:12:33.094118Z"
    },
    "papermill": {
     "duration": 0.064196,
     "end_time": "2022-10-13T06:12:33.097318",
     "exception": false,
     "start_time": "2022-10-13T06:12:33.033122",
     "status": "completed"
    },
    "tags": []
   },
   "outputs": [],
   "source": [
    "# review-based attention calculation\n",
    "vec = Multiply()([user_latent, item_latent])\n",
    "user_item_concat = Concatenate()([user_sent, item_cont, user_latent, item_latent])\n",
    "att = Dense(vector_size, kernel_initializer='random_uniform', activation='softmax')(user_item_concat)\n",
    "\n",
    "# Element-wise product of user and item embeddings \n",
    "predict_vec = Multiply()([vec, att])\n",
    "# Final prediction layer\n",
    "prediction = Dense(vector_size, activation='relu')(predict_vec)\n",
    "#for overfitting\n",
    "prediction = Dropout(0.5)(prediction)\n",
    "prediction = Dense(1 ,name='prediction')(prediction)\n",
    "\n",
    "model = Model(inputs=[user_input, user_sent, item_input, item_cont], outputs=prediction)\n"
   ]
  },
  {
   "cell_type": "code",
   "execution_count": 45,
   "id": "52cef6f4",
   "metadata": {
    "execution": {
     "iopub.execute_input": "2022-10-13T06:12:33.133609Z",
     "iopub.status.busy": "2022-10-13T06:12:33.133296Z",
     "iopub.status.idle": "2022-10-13T06:12:33.140162Z",
     "shell.execute_reply": "2022-10-13T06:12:33.139222Z"
    },
    "papermill": {
     "duration": 0.028505,
     "end_time": "2022-10-13T06:12:33.143273",
     "exception": false,
     "start_time": "2022-10-13T06:12:33.114768",
     "status": "completed"
    },
    "tags": []
   },
   "outputs": [
    {
     "name": "stdout",
     "output_type": "stream",
     "text": [
      "Model: \"model\"\n",
      "__________________________________________________________________________________________________\n",
      "Layer (type)                    Output Shape         Param #     Connected to                     \n",
      "==================================================================================================\n",
      "user_input (InputLayer)         [(None, 1)]          0                                            \n",
      "__________________________________________________________________________________________________\n",
      "item_input (InputLayer)         [(None, 1)]          0                                            \n",
      "__________________________________________________________________________________________________\n",
      "user_embedding (Embedding)      (None, 1, 100)       110100      user_input[0][0]                 \n",
      "__________________________________________________________________________________________________\n",
      "user_sentiment (InputLayer)     [(None, 100)]        0                                            \n",
      "__________________________________________________________________________________________________\n",
      "item_embedding (Embedding)      (None, 1, 100)       1045900     item_input[0][0]                 \n",
      "__________________________________________________________________________________________________\n",
      "item_content (InputLayer)       [(None, 100)]        0                                            \n",
      "__________________________________________________________________________________________________\n",
      "flatten (Flatten)               (None, 100)          0           user_embedding[0][0]             \n",
      "__________________________________________________________________________________________________\n",
      "user_attention_layer (Dense)    (None, 100)          10100       user_sentiment[0][0]             \n",
      "__________________________________________________________________________________________________\n",
      "flatten_1 (Flatten)             (None, 100)          0           item_embedding[0][0]             \n",
      "__________________________________________________________________________________________________\n",
      "item_attention_layer (Dense)    (None, 100)          10100       item_content[0][0]               \n",
      "__________________________________________________________________________________________________\n",
      "reshape (Reshape)               (None, 100)          0           flatten[0][0]                    \n",
      "__________________________________________________________________________________________________\n",
      "user_Sentiment_softmax (Lambda) (None, 100)          0           user_attention_layer[0][0]       \n",
      "__________________________________________________________________________________________________\n",
      "reshape_1 (Reshape)             (None, 100)          0           flatten_1[0][0]                  \n",
      "__________________________________________________________________________________________________\n",
      "item_Content_softmax (Lambda)   (None, 100)          0           item_attention_layer[0][0]       \n",
      "__________________________________________________________________________________________________\n",
      "multiply (Multiply)             (None, 100)          0           reshape[0][0]                    \n",
      "                                                                 user_Sentiment_softmax[0][0]     \n",
      "__________________________________________________________________________________________________\n",
      "multiply_1 (Multiply)           (None, 100)          0           reshape_1[0][0]                  \n",
      "                                                                 item_Content_softmax[0][0]       \n",
      "__________________________________________________________________________________________________\n",
      "dense (Dense)                   (None, 100)          10100       multiply[0][0]                   \n",
      "__________________________________________________________________________________________________\n",
      "dense_1 (Dense)                 (None, 100)          10100       multiply_1[0][0]                 \n",
      "__________________________________________________________________________________________________\n",
      "concatenate (Concatenate)       (None, 400)          0           user_sentiment[0][0]             \n",
      "                                                                 item_content[0][0]               \n",
      "                                                                 dense[0][0]                      \n",
      "                                                                 dense_1[0][0]                    \n",
      "__________________________________________________________________________________________________\n",
      "multiply_2 (Multiply)           (None, 100)          0           dense[0][0]                      \n",
      "                                                                 dense_1[0][0]                    \n",
      "__________________________________________________________________________________________________\n",
      "dense_2 (Dense)                 (None, 100)          40100       concatenate[0][0]                \n",
      "__________________________________________________________________________________________________\n",
      "multiply_3 (Multiply)           (None, 100)          0           multiply_2[0][0]                 \n",
      "                                                                 dense_2[0][0]                    \n",
      "__________________________________________________________________________________________________\n",
      "dense_3 (Dense)                 (None, 100)          10100       multiply_3[0][0]                 \n",
      "__________________________________________________________________________________________________\n",
      "dropout (Dropout)               (None, 100)          0           dense_3[0][0]                    \n",
      "__________________________________________________________________________________________________\n",
      "prediction (Dense)              (None, 1)            101         dropout[0][0]                    \n",
      "==================================================================================================\n",
      "Total params: 1,246,701\n",
      "Trainable params: 1,246,701\n",
      "Non-trainable params: 0\n",
      "__________________________________________________________________________________________________\n"
     ]
    }
   ],
   "source": [
    "model.summary()"
   ]
  },
  {
   "cell_type": "code",
   "execution_count": 46,
   "id": "7f383abf",
   "metadata": {
    "execution": {
     "iopub.execute_input": "2022-10-13T06:12:33.180276Z",
     "iopub.status.busy": "2022-10-13T06:12:33.178875Z",
     "iopub.status.idle": "2022-10-13T06:12:33.192088Z",
     "shell.execute_reply": "2022-10-13T06:12:33.191206Z"
    },
    "papermill": {
     "duration": 0.033436,
     "end_time": "2022-10-13T06:12:33.194093",
     "exception": false,
     "start_time": "2022-10-13T06:12:33.160657",
     "status": "completed"
    },
    "tags": []
   },
   "outputs": [],
   "source": [
    "#compile our model\n",
    "model.compile(optimizer=\"adam\", loss=\"mean_absolute_error\", metrics=['mean_squared_error'])"
   ]
  },
  {
   "cell_type": "code",
   "execution_count": 47,
   "id": "a734b861",
   "metadata": {
    "execution": {
     "iopub.execute_input": "2022-10-13T06:12:33.231062Z",
     "iopub.status.busy": "2022-10-13T06:12:33.230186Z",
     "iopub.status.idle": "2022-10-13T06:12:33.235658Z",
     "shell.execute_reply": "2022-10-13T06:12:33.234790Z"
    },
    "papermill": {
     "duration": 0.026106,
     "end_time": "2022-10-13T06:12:33.237629",
     "exception": false,
     "start_time": "2022-10-13T06:12:33.211523",
     "status": "completed"
    },
    "tags": []
   },
   "outputs": [],
   "source": [
    "#using callbacks to avoid overfitting and save best model during training\n",
    "earlystopping = EarlyStopping(monitor='val_loss', patience=5 )\n",
    "checkpoint = ModelCheckpoint('model.h5', save_best_only=True, monitor='val_loss', mode='min')\n"
   ]
  },
  {
   "cell_type": "code",
   "execution_count": 48,
   "id": "1d8a8bde",
   "metadata": {
    "execution": {
     "iopub.execute_input": "2022-10-13T06:12:33.274292Z",
     "iopub.status.busy": "2022-10-13T06:12:33.273430Z",
     "iopub.status.idle": "2022-10-13T06:12:33.281175Z",
     "shell.execute_reply": "2022-10-13T06:12:33.280320Z"
    },
    "papermill": {
     "duration": 0.028026,
     "end_time": "2022-10-13T06:12:33.283129",
     "exception": false,
     "start_time": "2022-10-13T06:12:33.255103",
     "status": "completed"
    },
    "tags": []
   },
   "outputs": [],
   "source": [
    "# Make the data ready fro training \n",
    "#convert it to numpy array as we extract the labels\n",
    "def get_instances(trainMatrix, user_review_fea, item_review_fea):\n",
    "    user_input, user_fea, item_input, item_fea, labels = [], [], [], [], []\n",
    "    num_users = trainMatrix.shape[0]\n",
    "    for (u, i) in trainMatrix.keys():\n",
    "        if u in user_review_fea.keys() and i in item_review_fea.keys():\n",
    "            user_input.append(u)\n",
    "            user_fea.append(user_review_fea[u])\n",
    "            item_input.append(i)\n",
    "            item_fea.append(item_review_fea[i])\n",
    "            label = trainMatrix[u, i]\n",
    "            labels.append(label)\n",
    "    return np.array(user_input), np.array(user_fea, dtype='float32'), np.array(item_input),np.array(item_fea, dtype='float32'), np.array(labels)"
   ]
  },
  {
   "cell_type": "code",
   "execution_count": 49,
   "id": "b6420ed7",
   "metadata": {
    "execution": {
     "iopub.execute_input": "2022-10-13T06:12:33.320450Z",
     "iopub.status.busy": "2022-10-13T06:12:33.318820Z",
     "iopub.status.idle": "2022-10-13T06:12:33.323674Z",
     "shell.execute_reply": "2022-10-13T06:12:33.322780Z"
    },
    "papermill": {
     "duration": 0.025082,
     "end_time": "2022-10-13T06:12:33.325687",
     "exception": false,
     "start_time": "2022-10-13T06:12:33.300605",
     "status": "completed"
    },
    "tags": []
   },
   "outputs": [],
   "source": [
    "#print(len(user_input))\n",
    "#print(len(user_fea))\n",
    "#print(len(item_input))\n",
    "#print(len(item_fea))\n",
    "#print(len(labels))"
   ]
  },
  {
   "cell_type": "code",
   "execution_count": 50,
   "id": "ce6e268e",
   "metadata": {
    "execution": {
     "iopub.execute_input": "2022-10-13T06:12:33.362256Z",
     "iopub.status.busy": "2022-10-13T06:12:33.361383Z",
     "iopub.status.idle": "2022-10-13T06:12:34.260544Z",
     "shell.execute_reply": "2022-10-13T06:12:34.259531Z"
    },
    "papermill": {
     "duration": 0.919818,
     "end_time": "2022-10-13T06:12:34.262957",
     "exception": false,
     "start_time": "2022-10-13T06:12:33.343139",
     "status": "completed"
    },
    "tags": []
   },
   "outputs": [],
   "source": [
    "#get instance of training dataset for train the moodel\n",
    "user_input, user_fea, item_input, item_fea, labels = get_instances(trainMatrix, user_review_fea, item_review_fea)\n"
   ]
  },
  {
   "cell_type": "code",
   "execution_count": 51,
   "id": "dc01dfdf",
   "metadata": {
    "execution": {
     "iopub.execute_input": "2022-10-13T06:12:34.299459Z",
     "iopub.status.busy": "2022-10-13T06:12:34.298790Z",
     "iopub.status.idle": "2022-10-13T06:12:40.643738Z",
     "shell.execute_reply": "2022-10-13T06:12:40.642753Z"
    },
    "papermill": {
     "duration": 6.36587,
     "end_time": "2022-10-13T06:12:40.646494",
     "exception": false,
     "start_time": "2022-10-13T06:12:34.280624",
     "status": "completed"
    },
    "tags": []
   },
   "outputs": [
    {
     "name": "stderr",
     "output_type": "stream",
     "text": [
      "2022-10-13 06:12:34.407724: I tensorflow/compiler/mlir/mlir_graph_optimization_pass.cc:185] None of the MLIR Optimization Passes are enabled (registered 2)\n",
      "/opt/conda/lib/python3.7/site-packages/keras/utils/generic_utils.py:497: CustomMaskWarning: Custom mask layers require a config and must override get_config. When loading, the custom mask layer must be passed to the custom_objects argument.\n",
      "  category=CustomMaskWarning)\n"
     ]
    }
   ],
   "source": [
    "#fit our model\n",
    "hist = model.fit([user_input, user_fea, item_input, item_fea],labels,batch_size=256, epochs=10,validation_split =0.2 ,verbose=0 , callbacks = [earlystopping,checkpoint])"
   ]
  },
  {
   "cell_type": "code",
   "execution_count": 52,
   "id": "1fdd4bac",
   "metadata": {
    "execution": {
     "iopub.execute_input": "2022-10-13T06:12:40.684204Z",
     "iopub.status.busy": "2022-10-13T06:12:40.682678Z",
     "iopub.status.idle": "2022-10-13T06:12:40.687974Z",
     "shell.execute_reply": "2022-10-13T06:12:40.687182Z"
    },
    "papermill": {
     "duration": 0.02565,
     "end_time": "2022-10-13T06:12:40.689929",
     "exception": false,
     "start_time": "2022-10-13T06:12:40.664279",
     "status": "completed"
    },
    "tags": []
   },
   "outputs": [],
   "source": [
    "#model.save(\"model.h5\")"
   ]
  },
  {
   "cell_type": "code",
   "execution_count": 53,
   "id": "ded1ec59",
   "metadata": {
    "execution": {
     "iopub.execute_input": "2022-10-13T06:12:40.726371Z",
     "iopub.status.busy": "2022-10-13T06:12:40.725761Z",
     "iopub.status.idle": "2022-10-13T06:12:40.948139Z",
     "shell.execute_reply": "2022-10-13T06:12:40.947213Z"
    },
    "papermill": {
     "duration": 0.242865,
     "end_time": "2022-10-13T06:12:40.950162",
     "exception": false,
     "start_time": "2022-10-13T06:12:40.707297",
     "status": "completed"
    },
    "tags": []
   },
   "outputs": [
    {
     "data": {
      "image/png": "[encoded data removed]",
      "text/plain": [
       "<Figure size 432x288 with 1 Axes>"
      ]
     },
     "metadata": {
      "needs_background": "light"
     },
     "output_type": "display_data"
    }
   ],
   "source": [
    "# Draw the progress during the training\n",
    "loss = hist.history['loss']\n",
    "val_loss = hist.history['val_loss']\n",
    "epochs = range(1, len(loss) + 1)\n",
    "#loss plot\n",
    "plt.plot(epochs, loss, color='pink', label='Training Loss')\n",
    "plt.plot(epochs, val_loss, color='red', label='Validation Loss')\n",
    "plt.title('Training and Validation Loss')\n",
    "plt.xlabel('Epoch')\n",
    "plt.ylabel('Loss')\n",
    "plt.legend()\n",
    "\n",
    "plt.show()"
   ]
  },
  {
   "cell_type": "code",
   "execution_count": 54,
   "id": "39456e8b",
   "metadata": {
    "execution": {
     "iopub.execute_input": "2022-10-13T06:12:40.988316Z",
     "iopub.status.busy": "2022-10-13T06:12:40.986655Z",
     "iopub.status.idle": "2022-10-13T06:12:41.228211Z",
     "shell.execute_reply": "2022-10-13T06:12:41.227212Z"
    },
    "papermill": {
     "duration": 0.262276,
     "end_time": "2022-10-13T06:12:41.230605",
     "exception": false,
     "start_time": "2022-10-13T06:12:40.968329",
     "status": "completed"
    },
    "tags": []
   },
   "outputs": [],
   "source": [
    "# get instance for testing data\n",
    "user_input_test, user_fea_test, item_input_test, item_fea_test, test_label = get_instances(testRatings, user_review_fea, item_review_fea)\n"
   ]
  },
  {
   "cell_type": "code",
   "execution_count": 55,
   "id": "4a0cda47",
   "metadata": {
    "execution": {
     "iopub.execute_input": "2022-10-13T06:12:41.267563Z",
     "iopub.status.busy": "2022-10-13T06:12:41.267229Z",
     "iopub.status.idle": "2022-10-13T06:12:41.724822Z",
     "shell.execute_reply": "2022-10-13T06:12:41.723901Z"
    },
    "papermill": {
     "duration": 0.478332,
     "end_time": "2022-10-13T06:12:41.726853",
     "exception": false,
     "start_time": "2022-10-13T06:12:41.248521",
     "status": "completed"
    },
    "tags": []
   },
   "outputs": [
    {
     "data": {
      "text/plain": [
       "0.8118676"
      ]
     },
     "execution_count": 55,
     "metadata": {},
     "output_type": "execute_result"
    }
   ],
   "source": [
    "#evulate the test dataset\n",
    "mean_absolute_error(model.predict([user_input_test, user_fea_test, item_input_test, item_fea_test]),test_label)"
   ]
  },
  {
   "cell_type": "code",
   "execution_count": 56,
   "id": "f899788e",
   "metadata": {
    "execution": {
     "iopub.execute_input": "2022-10-13T06:12:41.763713Z",
     "iopub.status.busy": "2022-10-13T06:12:41.763387Z",
     "iopub.status.idle": "2022-10-13T06:12:42.119866Z",
     "shell.execute_reply": "2022-10-13T06:12:42.118986Z"
    },
    "papermill": {
     "duration": 0.377143,
     "end_time": "2022-10-13T06:12:42.121807",
     "exception": false,
     "start_time": "2022-10-13T06:12:41.744664",
     "status": "completed"
    },
    "tags": []
   },
   "outputs": [
    {
     "data": {
      "text/plain": [
       "1.1668766"
      ]
     },
     "execution_count": 56,
     "metadata": {},
     "output_type": "execute_result"
    }
   ],
   "source": [
    "mean_squared_error(model.predict([user_input_test, user_fea_test, item_input_test, item_fea_test]),test_label)"
   ]
  },
  {
   "cell_type": "code",
   "execution_count": 57,
   "id": "96129324",
   "metadata": {
    "execution": {
     "iopub.execute_input": "2022-10-13T06:12:42.160241Z",
     "iopub.status.busy": "2022-10-13T06:12:42.158729Z",
     "iopub.status.idle": "2022-10-13T06:12:42.515835Z",
     "shell.execute_reply": "2022-10-13T06:12:42.514925Z"
    },
    "papermill": {
     "duration": 0.377923,
     "end_time": "2022-10-13T06:12:42.517955",
     "exception": false,
     "start_time": "2022-10-13T06:12:42.140032",
     "status": "completed"
    },
    "tags": []
   },
   "outputs": [
    {
     "data": {
      "text/plain": [
       "array([[4.3248153],\n",
       "       [4.8962502],\n",
       "       [4.616543 ],\n",
       "       ...,\n",
       "       [4.203641 ],\n",
       "       [3.7708828],\n",
       "       [4.1947308]], dtype=float32)"
      ]
     },
     "execution_count": 57,
     "metadata": {},
     "output_type": "execute_result"
    }
   ],
   "source": [
    "model.predict([user_input_test, user_fea_test, item_input_test, item_fea_test])"
   ]
  },
  {
   "cell_type": "code",
   "execution_count": null,
   "id": "739d08d1",
   "metadata": {
    "papermill": {
     "duration": 0.017705,
     "end_time": "2022-10-13T06:12:42.553906",
     "exception": false,
     "start_time": "2022-10-13T06:12:42.536201",
     "status": "completed"
    },
    "tags": []
   },
   "outputs": [],
   "source": []
  }
 ],
 "metadata": {
  "kernelspec": {
   "display_name": "Python 3",
   "language": "python",
   "name": "python3"
  },
  "language_info": {
   "codemirror_mode": {
    "name": "ipython",
    "version": 3
   },
   "file_extension": ".py",
   "mimetype": "text/x-python",
   "name": "python",
   "nbconvert_exporter": "python",
   "pygments_lexer": "ipython3",
   "version": "3.7.12"
  },
  "papermill": {
   "default_parameters": {},
   "duration": 445.84913,
   "end_time": "2022-10-13T06:12:45.292102",
   "environment_variables": {},
   "exception": null,
   "input_path": "__notebook__.ipynb",
   "output_path": "__notebook__.ipynb",
   "parameters": {},
   "start_time": "2022-10-13T06:05:19.442972",
   "version": "2.3.4"
  }
 },
 "nbformat": 4,
 "nbformat_minor": 5
}
