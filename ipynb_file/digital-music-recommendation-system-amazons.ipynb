{
 "cells": [
  {
   "cell_type": "markdown",
   "id": "d5db0dc3",
   "metadata": {
    "papermill": {
     "duration": 0.013563,
     "end_time": "2022-10-13T06:54:48.582107",
     "exception": false,
     "start_time": "2022-10-13T06:54:48.568544",
     "status": "completed"
    },
    "tags": []
   },
   "source": [
    "## Dependencies"
   ]
  },
  {
   "cell_type": "code",
   "execution_count": 1,
   "id": "75b2b821",
   "metadata": {
    "execution": {
     "iopub.execute_input": "2022-10-13T06:54:48.610000Z",
     "iopub.status.busy": "2022-10-13T06:54:48.609247Z",
     "iopub.status.idle": "2022-10-13T06:54:53.995381Z",
     "shell.execute_reply": "2022-10-13T06:54:53.994222Z"
    },
    "papermill": {
     "duration": 5.403647,
     "end_time": "2022-10-13T06:54:53.997900",
     "exception": false,
     "start_time": "2022-10-13T06:54:48.594253",
     "status": "completed"
    },
    "tags": []
   },
   "outputs": [],
   "source": [
    "#import libraries\n",
    "import json\n",
    "import numpy as np\n",
    "from collections import defaultdict\n",
    "import warnings\n",
    "import gensim\n",
    "import pandas as pd\n",
    "from gensim.models.doc2vec import Doc2Vec\n",
    "import numpy as np\n",
    "import keras\n",
    "import gzip\n",
    "from keras import backend as K\n",
    "from keras.models import Model\n",
    "from keras.layers import Embedding, Input, Dense, Flatten, Concatenate, Multiply, Lambda, Reshape\n",
    "from keras.layers.core import Dropout\n",
    "import scipy.sparse as sp\n",
    "import matplotlib.pyplot as plt\n",
    "from sklearn.metrics import mean_squared_error, mean_absolute_error\n",
    "from tensorflow.keras.callbacks import EarlyStopping , ModelCheckpoint\n"
   ]
  },
  {
   "cell_type": "markdown",
   "id": "baed85af",
   "metadata": {
    "papermill": {
     "duration": 0.020641,
     "end_time": "2022-10-13T06:54:54.040455",
     "exception": false,
     "start_time": "2022-10-13T06:54:54.019814",
     "status": "completed"
    },
    "tags": []
   },
   "source": [
    "## Display the dataset"
   ]
  },
  {
   "cell_type": "code",
   "execution_count": 2,
   "id": "1b2ac836",
   "metadata": {
    "execution": {
     "iopub.execute_input": "2022-10-13T06:54:54.081758Z",
     "iopub.status.busy": "2022-10-13T06:54:54.080841Z",
     "iopub.status.idle": "2022-10-13T06:54:54.087872Z",
     "shell.execute_reply": "2022-10-13T06:54:54.086831Z"
    },
    "papermill": {
     "duration": 0.030434,
     "end_time": "2022-10-13T06:54:54.090687",
     "exception": false,
     "start_time": "2022-10-13T06:54:54.060253",
     "status": "completed"
    },
    "tags": []
   },
   "outputs": [],
   "source": [
    "## Convert data from gz to DataFrame\n",
    "def parse(path):\n",
    "    g = gzip.open(path, 'rb')\n",
    "    for l in g:\n",
    "        yield eval(l)\n",
    "\n",
    "def getDF(path):\n",
    "    i = 0\n",
    "    df = {}\n",
    "    for d in parse(path):\n",
    "        df[i] = d\n",
    "        i += 1\n",
    "    return pd.DataFrame.from_dict(df, orient='index')\n"
   ]
  },
  {
   "cell_type": "markdown",
   "id": "8a86178b",
   "metadata": {
    "papermill": {
     "duration": 0.017286,
     "end_time": "2022-10-13T06:54:54.125477",
     "exception": false,
     "start_time": "2022-10-13T06:54:54.108191",
     "status": "completed"
    },
    "tags": []
   },
   "source": [
    "## Download The Review and Meta Data"
   ]
  },
  {
   "cell_type": "code",
   "execution_count": 3,
   "id": "25dc6322",
   "metadata": {
    "execution": {
     "iopub.execute_input": "2022-10-13T06:54:54.161788Z",
     "iopub.status.busy": "2022-10-13T06:54:54.161486Z",
     "iopub.status.idle": "2022-10-13T06:55:18.316318Z",
     "shell.execute_reply": "2022-10-13T06:55:18.315173Z"
    },
    "papermill": {
     "duration": 24.176265,
     "end_time": "2022-10-13T06:55:18.318962",
     "exception": false,
     "start_time": "2022-10-13T06:54:54.142697",
     "status": "completed"
    },
    "tags": []
   },
   "outputs": [
    {
     "name": "stdout",
     "output_type": "stream",
     "text": [
      "--2022-10-13 06:54:55--  http://snap.stanford.edu/data/amazon/productGraph/categoryFiles/reviews_Digital_Music.json.gz\r\n",
      "Resolving snap.stanford.edu (snap.stanford.edu)... 171.64.75.80\r\n",
      "Connecting to snap.stanford.edu (snap.stanford.edu)|171.64.75.80|:80... connected.\r\n",
      "HTTP request sent, awaiting response... 200 OK\r\n",
      "Length: 183064011 (175M) [application/x-gzip]\r\n",
      "Saving to: ‘reviews_Digital_Music.json.gz’\r\n",
      "\r\n",
      "reviews_Digital_Mus 100%[===================>] 174.58M  7.20MB/s    in 23s     \r\n",
      "\r\n",
      "2022-10-13 06:55:18 (7.72 MB/s) - ‘reviews_Digital_Music.json.gz’ saved [183064011/183064011]\r\n",
      "\r\n"
     ]
    }
   ],
   "source": [
    "# Download Review Data\n",
    "!wget http://snap.stanford.edu/data/amazon/productGraph/categoryFiles/reviews_Digital_Music.json.gz\n",
    "    "
   ]
  },
  {
   "cell_type": "code",
   "execution_count": 4,
   "id": "a52d3b83",
   "metadata": {
    "execution": {
     "iopub.execute_input": "2022-10-13T06:55:18.354489Z",
     "iopub.status.busy": "2022-10-13T06:55:18.354147Z",
     "iopub.status.idle": "2022-10-13T06:55:30.775832Z",
     "shell.execute_reply": "2022-10-13T06:55:30.774749Z"
    },
    "papermill": {
     "duration": 12.441692,
     "end_time": "2022-10-13T06:55:30.778278",
     "exception": false,
     "start_time": "2022-10-13T06:55:18.336586",
     "status": "completed"
    },
    "tags": []
   },
   "outputs": [
    {
     "name": "stdout",
     "output_type": "stream",
     "text": [
      "--2022-10-13 06:55:19--  http://snap.stanford.edu/data/amazon/productGraph/categoryFiles/meta_Digital_Music.json.gz\r\n",
      "Resolving snap.stanford.edu (snap.stanford.edu)... 171.64.75.80\r\n",
      "Connecting to snap.stanford.edu (snap.stanford.edu)|171.64.75.80|:80... connected.\r\n",
      "HTTP request sent, awaiting response... 200 OK\r\n",
      "Length: 42335451 (40M) [application/x-gzip]\r\n",
      "Saving to: ‘meta_Digital_Music.json.gz’\r\n",
      "\r\n",
      "meta_Digital_Music. 100%[===================>]  40.37M  6.66MB/s    in 11s     \r\n",
      "\r\n",
      "2022-10-13 06:55:30 (3.69 MB/s) - ‘meta_Digital_Music.json.gz’ saved [42335451/42335451]\r\n",
      "\r\n"
     ]
    }
   ],
   "source": [
    "# Download Meta Data\n",
    "!wget http://snap.stanford.edu/data/amazon/productGraph/categoryFiles/meta_Digital_Music.json.gz"
   ]
  },
  {
   "cell_type": "code",
   "execution_count": 5,
   "id": "54d03519",
   "metadata": {
    "execution": {
     "iopub.execute_input": "2022-10-13T06:55:30.818536Z",
     "iopub.status.busy": "2022-10-13T06:55:30.817619Z",
     "iopub.status.idle": "2022-10-13T06:55:50.348826Z",
     "shell.execute_reply": "2022-10-13T06:55:50.347879Z"
    },
    "papermill": {
     "duration": 19.553141,
     "end_time": "2022-10-13T06:55:50.350970",
     "exception": false,
     "start_time": "2022-10-13T06:55:30.797829",
     "status": "completed"
    },
    "tags": []
   },
   "outputs": [
    {
     "data": {
      "text/html": [
       "<div>\n",
       "<style scoped>\n",
       "    .dataframe tbody tr th:only-of-type {\n",
       "        vertical-align: middle;\n",
       "    }\n",
       "\n",
       "    .dataframe tbody tr th {\n",
       "        vertical-align: top;\n",
       "    }\n",
       "\n",
       "    .dataframe thead th {\n",
       "        text-align: right;\n",
       "    }\n",
       "</style>\n",
       "<table border=\"1\" class=\"dataframe\">\n",
       "  <thead>\n",
       "    <tr style=\"text-align: right;\">\n",
       "      <th></th>\n",
       "      <th>asin</th>\n",
       "      <th>title</th>\n",
       "      <th>price</th>\n",
       "      <th>imUrl</th>\n",
       "      <th>related</th>\n",
       "      <th>salesRank</th>\n",
       "      <th>categories</th>\n",
       "      <th>description</th>\n",
       "      <th>brand</th>\n",
       "    </tr>\n",
       "  </thead>\n",
       "  <tbody>\n",
       "    <tr>\n",
       "      <th>0</th>\n",
       "      <td>5555991584</td>\n",
       "      <td>Memory of Trees</td>\n",
       "      <td>9.49</td>\n",
       "      <td>http://ecx.images-amazon.com/images/I/51b5WDjd...</td>\n",
       "      <td>{'also_bought': ['B000002LRT', 'B000002LRR', '...</td>\n",
       "      <td>{'Music': 939190}</td>\n",
       "      <td>[[CDs &amp; Vinyl, New Age, Celtic New Age], [CDs ...</td>\n",
       "      <td>NaN</td>\n",
       "      <td>NaN</td>\n",
       "    </tr>\n",
       "    <tr>\n",
       "      <th>1</th>\n",
       "      <td>6308051551</td>\n",
       "      <td>Don't Drink His Blood</td>\n",
       "      <td>8.91</td>\n",
       "      <td>http://ecx.images-amazon.com/images/I/31LT2n7Q...</td>\n",
       "      <td>NaN</td>\n",
       "      <td>NaN</td>\n",
       "      <td>[[Digital Music, Alternative Rock, Indie &amp; Lo-...</td>\n",
       "      <td>NEW Combo BLUWAVS CD and FLAC FILE</td>\n",
       "      <td>NaN</td>\n",
       "    </tr>\n",
       "    <tr>\n",
       "      <th>2</th>\n",
       "      <td>7901622466</td>\n",
       "      <td>On Fire</td>\n",
       "      <td>11.33</td>\n",
       "      <td>http://ecx.images-amazon.com/images/I/21W29WZw...</td>\n",
       "      <td>{'also_bought': ['B00000282A', 'B0084O8O9S', '...</td>\n",
       "      <td>{'Music': 58799}</td>\n",
       "      <td>[[CDs &amp; Vinyl, Christian, Rock &amp; Alternative],...</td>\n",
       "      <td>NaN</td>\n",
       "      <td>NaN</td>\n",
       "    </tr>\n",
       "    <tr>\n",
       "      <th>3</th>\n",
       "      <td>B0000000ZW</td>\n",
       "      <td>Changing Faces</td>\n",
       "      <td>23.64</td>\n",
       "      <td>http://ecx.images-amazon.com/images/I/51H3Bp-3...</td>\n",
       "      <td>{'also_bought': ['B00000010Z', 'B0000039Q5', '...</td>\n",
       "      <td>{'Music': 68784}</td>\n",
       "      <td>[[CDs &amp; Vinyl, Dance &amp; Electronic], [CDs &amp; Vin...</td>\n",
       "      <td></td>\n",
       "      <td></td>\n",
       "    </tr>\n",
       "    <tr>\n",
       "      <th>4</th>\n",
       "      <td>B00000016W</td>\n",
       "      <td>Pet Sounds</td>\n",
       "      <td>9.49</td>\n",
       "      <td>http://ecx.images-amazon.com/images/I/51pDGkXj...</td>\n",
       "      <td>{'also_bought': ['B0025KVLTM', 'B00007FOMP', '...</td>\n",
       "      <td>{'Music': 77205}</td>\n",
       "      <td>[[CDs &amp; Vinyl, Classic Rock], [CDs &amp; Vinyl, Po...</td>\n",
       "      <td>NaN</td>\n",
       "      <td>NaN</td>\n",
       "    </tr>\n",
       "  </tbody>\n",
       "</table>\n",
       "</div>"
      ],
      "text/plain": [
       "         asin                  title  price  \\\n",
       "0  5555991584        Memory of Trees   9.49   \n",
       "1  6308051551  Don't Drink His Blood   8.91   \n",
       "2  7901622466                On Fire  11.33   \n",
       "3  B0000000ZW         Changing Faces  23.64   \n",
       "4  B00000016W             Pet Sounds   9.49   \n",
       "\n",
       "                                               imUrl  \\\n",
       "0  http://ecx.images-amazon.com/images/I/51b5WDjd...   \n",
       "1  http://ecx.images-amazon.com/images/I/31LT2n7Q...   \n",
       "2  http://ecx.images-amazon.com/images/I/21W29WZw...   \n",
       "3  http://ecx.images-amazon.com/images/I/51H3Bp-3...   \n",
       "4  http://ecx.images-amazon.com/images/I/51pDGkXj...   \n",
       "\n",
       "                                             related          salesRank  \\\n",
       "0  {'also_bought': ['B000002LRT', 'B000002LRR', '...  {'Music': 939190}   \n",
       "1                                                NaN                NaN   \n",
       "2  {'also_bought': ['B00000282A', 'B0084O8O9S', '...   {'Music': 58799}   \n",
       "3  {'also_bought': ['B00000010Z', 'B0000039Q5', '...   {'Music': 68784}   \n",
       "4  {'also_bought': ['B0025KVLTM', 'B00007FOMP', '...   {'Music': 77205}   \n",
       "\n",
       "                                          categories  \\\n",
       "0  [[CDs & Vinyl, New Age, Celtic New Age], [CDs ...   \n",
       "1  [[Digital Music, Alternative Rock, Indie & Lo-...   \n",
       "2  [[CDs & Vinyl, Christian, Rock & Alternative],...   \n",
       "3  [[CDs & Vinyl, Dance & Electronic], [CDs & Vin...   \n",
       "4  [[CDs & Vinyl, Classic Rock], [CDs & Vinyl, Po...   \n",
       "\n",
       "                          description brand  \n",
       "0                                 NaN   NaN  \n",
       "1  NEW Combo BLUWAVS CD and FLAC FILE   NaN  \n",
       "2                                 NaN   NaN  \n",
       "3                                            \n",
       "4                                 NaN   NaN  "
      ]
     },
     "execution_count": 5,
     "metadata": {},
     "output_type": "execute_result"
    }
   ],
   "source": [
    "#display the meta data as  dataframe\n",
    "metadata = getDF('./meta_Digital_Music.json.gz')\n",
    "metadata.head()"
   ]
  },
  {
   "cell_type": "code",
   "execution_count": 6,
   "id": "cf707f88",
   "metadata": {
    "execution": {
     "iopub.execute_input": "2022-10-13T06:55:50.390267Z",
     "iopub.status.busy": "2022-10-13T06:55:50.389975Z",
     "iopub.status.idle": "2022-10-13T06:56:30.124941Z",
     "shell.execute_reply": "2022-10-13T06:56:30.123938Z"
    },
    "papermill": {
     "duration": 39.775468,
     "end_time": "2022-10-13T06:56:30.145871",
     "exception": false,
     "start_time": "2022-10-13T06:55:50.370403",
     "status": "completed"
    },
    "tags": []
   },
   "outputs": [
    {
     "data": {
      "text/html": [
       "<div>\n",
       "<style scoped>\n",
       "    .dataframe tbody tr th:only-of-type {\n",
       "        vertical-align: middle;\n",
       "    }\n",
       "\n",
       "    .dataframe tbody tr th {\n",
       "        vertical-align: top;\n",
       "    }\n",
       "\n",
       "    .dataframe thead th {\n",
       "        text-align: right;\n",
       "    }\n",
       "</style>\n",
       "<table border=\"1\" class=\"dataframe\">\n",
       "  <thead>\n",
       "    <tr style=\"text-align: right;\">\n",
       "      <th></th>\n",
       "      <th>reviewerID</th>\n",
       "      <th>asin</th>\n",
       "      <th>reviewerName</th>\n",
       "      <th>helpful</th>\n",
       "      <th>reviewText</th>\n",
       "      <th>overall</th>\n",
       "      <th>summary</th>\n",
       "      <th>unixReviewTime</th>\n",
       "      <th>reviewTime</th>\n",
       "    </tr>\n",
       "  </thead>\n",
       "  <tbody>\n",
       "    <tr>\n",
       "      <th>0</th>\n",
       "      <td>A2EFCYXHNK06IS</td>\n",
       "      <td>5555991584</td>\n",
       "      <td>Abigail Perkins \"Abby &amp;#34;Reads Too Much&amp;#34...</td>\n",
       "      <td>[4, 5]</td>\n",
       "      <td>The anthemic title track begins &amp;quot;The Memo...</td>\n",
       "      <td>5.0</td>\n",
       "      <td>Enya Experiments And Succeeds</td>\n",
       "      <td>978480000</td>\n",
       "      <td>01 3, 2001</td>\n",
       "    </tr>\n",
       "    <tr>\n",
       "      <th>1</th>\n",
       "      <td>A1WR23ER5HMAA9</td>\n",
       "      <td>5555991584</td>\n",
       "      <td>AKB</td>\n",
       "      <td>[1, 1]</td>\n",
       "      <td>Just when I thought Enya couldn't possibly get...</td>\n",
       "      <td>5.0</td>\n",
       "      <td>How to improve upon perfection.</td>\n",
       "      <td>953424000</td>\n",
       "      <td>03 19, 2000</td>\n",
       "    </tr>\n",
       "    <tr>\n",
       "      <th>2</th>\n",
       "      <td>A2IR4Q0GPAFJKW</td>\n",
       "      <td>5555991584</td>\n",
       "      <td>Alexander</td>\n",
       "      <td>[0, 0]</td>\n",
       "      <td>Nice CD for easy listening.  My husband and I ...</td>\n",
       "      <td>4.0</td>\n",
       "      <td>Good listening.</td>\n",
       "      <td>1393545600</td>\n",
       "      <td>02 28, 2014</td>\n",
       "    </tr>\n",
       "    <tr>\n",
       "      <th>3</th>\n",
       "      <td>A2V0KUVAB9HSYO</td>\n",
       "      <td>5555991584</td>\n",
       "      <td>Alison Hight</td>\n",
       "      <td>[0, 1]</td>\n",
       "      <td>I really liked this CD, especially the differe...</td>\n",
       "      <td>4.0</td>\n",
       "      <td>Loved It</td>\n",
       "      <td>966124800</td>\n",
       "      <td>08 13, 2000</td>\n",
       "    </tr>\n",
       "    <tr>\n",
       "      <th>4</th>\n",
       "      <td>A1J0GL9HCA7ELW</td>\n",
       "      <td>5555991584</td>\n",
       "      <td>Al the Pal \"Al the Pal\"</td>\n",
       "      <td>[3, 3]</td>\n",
       "      <td>Enya's richly chorded style has smitten me onc...</td>\n",
       "      <td>5.0</td>\n",
       "      <td>Another Hauntingly Beautiful Collection of Songs</td>\n",
       "      <td>1007683200</td>\n",
       "      <td>12 7, 2001</td>\n",
       "    </tr>\n",
       "  </tbody>\n",
       "</table>\n",
       "</div>"
      ],
      "text/plain": [
       "       reviewerID        asin  \\\n",
       "0  A2EFCYXHNK06IS  5555991584   \n",
       "1  A1WR23ER5HMAA9  5555991584   \n",
       "2  A2IR4Q0GPAFJKW  5555991584   \n",
       "3  A2V0KUVAB9HSYO  5555991584   \n",
       "4  A1J0GL9HCA7ELW  5555991584   \n",
       "\n",
       "                                       reviewerName helpful  \\\n",
       "0  Abigail Perkins \"Abby &#34;Reads Too Much&#34...  [4, 5]   \n",
       "1                                               AKB  [1, 1]   \n",
       "2                                         Alexander  [0, 0]   \n",
       "3                                      Alison Hight  [0, 1]   \n",
       "4                           Al the Pal \"Al the Pal\"  [3, 3]   \n",
       "\n",
       "                                          reviewText  overall  \\\n",
       "0  The anthemic title track begins &quot;The Memo...      5.0   \n",
       "1  Just when I thought Enya couldn't possibly get...      5.0   \n",
       "2  Nice CD for easy listening.  My husband and I ...      4.0   \n",
       "3  I really liked this CD, especially the differe...      4.0   \n",
       "4  Enya's richly chorded style has smitten me onc...      5.0   \n",
       "\n",
       "                                            summary  unixReviewTime  \\\n",
       "0                     Enya Experiments And Succeeds       978480000   \n",
       "1                   How to improve upon perfection.       953424000   \n",
       "2                                   Good listening.      1393545600   \n",
       "3                                          Loved It       966124800   \n",
       "4  Another Hauntingly Beautiful Collection of Songs      1007683200   \n",
       "\n",
       "    reviewTime  \n",
       "0   01 3, 2001  \n",
       "1  03 19, 2000  \n",
       "2  02 28, 2014  \n",
       "3  08 13, 2000  \n",
       "4   12 7, 2001  "
      ]
     },
     "execution_count": 6,
     "metadata": {},
     "output_type": "execute_result"
    }
   ],
   "source": [
    "#display the review data as  dataframe\n",
    "reviews = getDF('./reviews_Digital_Music.json.gz')\n",
    "reviews.head()"
   ]
  },
  {
   "cell_type": "code",
   "execution_count": 7,
   "id": "6bf25de3",
   "metadata": {
    "execution": {
     "iopub.execute_input": "2022-10-13T06:56:30.185334Z",
     "iopub.status.busy": "2022-10-13T06:56:30.184743Z",
     "iopub.status.idle": "2022-10-13T06:56:35.440556Z",
     "shell.execute_reply": "2022-10-13T06:56:35.439260Z"
    },
    "papermill": {
     "duration": 5.278397,
     "end_time": "2022-10-13T06:56:35.443088",
     "exception": false,
     "start_time": "2022-10-13T06:56:30.164691",
     "status": "completed"
    },
    "tags": []
   },
   "outputs": [],
   "source": [
    "# extract review baby file \n",
    "!gunzip -k reviews_Digital_Music.json.gz"
   ]
  },
  {
   "cell_type": "code",
   "execution_count": 8,
   "id": "f87617bb",
   "metadata": {
    "execution": {
     "iopub.execute_input": "2022-10-13T06:56:35.484230Z",
     "iopub.status.busy": "2022-10-13T06:56:35.483875Z",
     "iopub.status.idle": "2022-10-13T06:56:37.493784Z",
     "shell.execute_reply": "2022-10-13T06:56:37.492529Z"
    },
    "papermill": {
     "duration": 2.033025,
     "end_time": "2022-10-13T06:56:37.496167",
     "exception": false,
     "start_time": "2022-10-13T06:56:35.463142",
     "status": "completed"
    },
    "tags": []
   },
   "outputs": [],
   "source": [
    "# extract meta baby file \n",
    "!gunzip -k meta_Digital_Music.json.gz"
   ]
  },
  {
   "cell_type": "markdown",
   "id": "c6c982d0",
   "metadata": {
    "papermill": {
     "duration": 0.0187,
     "end_time": "2022-10-13T06:56:37.534144",
     "exception": false,
     "start_time": "2022-10-13T06:56:37.515444",
     "status": "completed"
    },
    "tags": []
   },
   "source": [
    "## Preprocessing"
   ]
  },
  {
   "cell_type": "code",
   "execution_count": 9,
   "id": "6d9066bd",
   "metadata": {
    "execution": {
     "iopub.execute_input": "2022-10-13T06:56:37.573369Z",
     "iopub.status.busy": "2022-10-13T06:56:37.573036Z",
     "iopub.status.idle": "2022-10-13T06:56:37.579954Z",
     "shell.execute_reply": "2022-10-13T06:56:37.578951Z"
    },
    "papermill": {
     "duration": 0.029034,
     "end_time": "2022-10-13T06:56:37.581914",
     "exception": false,
     "start_time": "2022-10-13T06:56:37.552880",
     "status": "completed"
    },
    "tags": []
   },
   "outputs": [],
   "source": [
    "#Hyperparameter \n",
    "dataName =  \"Digital_Music\"# name of your product\n",
    "vector_size = 100 # vector size of reviewtext and item description\n",
    "epoch_num = 100 # number of vector\n",
    "reviews_data = [] # review list to insert review data inside\n",
    "meta_data = [] # meta list to insert meta data inside\n",
    "num_ui_link = 20  # the number of each user link to items\n",
    "num_iu_link = 0  # the number of each item link to user\n",
    "\n",
    "# user -> item  ->  for text\n",
    "ui_dict = defaultdict(list)\n",
    "#item -> user - >  for text\n",
    "iu_dict = defaultdict(list)\n",
    "#rating training data list\n",
    "reviews_train_data = []\n",
    "#rating testing data list\n",
    "reviews_test_data = []\n",
    "# max number of item\n",
    "max_num_item = 1\n",
    "# max number of users\n",
    "max_num_user = 1\n",
    "#item -> user -> for rating\n",
    "iu_dict2 = defaultdict(list)\n",
    "# user -> item  ->  for rating\n",
    "ui_dict2 = defaultdict(list)\n",
    "len_ui_dict = {}\n",
    "split_ratio = 4 #ratio to split between test and train\n",
    "epochs = 20 "
   ]
  },
  {
   "cell_type": "code",
   "execution_count": 10,
   "id": "46727ec9",
   "metadata": {
    "execution": {
     "iopub.execute_input": "2022-10-13T06:56:37.621242Z",
     "iopub.status.busy": "2022-10-13T06:56:37.620469Z",
     "iopub.status.idle": "2022-10-13T06:56:46.475213Z",
     "shell.execute_reply": "2022-10-13T06:56:46.474203Z"
    },
    "papermill": {
     "duration": 8.87716,
     "end_time": "2022-10-13T06:56:46.477987",
     "exception": false,
     "start_time": "2022-10-13T06:56:37.600827",
     "status": "completed"
    },
    "tags": []
   },
   "outputs": [],
   "source": [
    "# Append review.json to  review_data list\n",
    "\n",
    "with open('./reviews_' + dataName + '.json') as f:\n",
    "    for line in f:\n",
    "        reviews_data.append(json.loads(line))\n",
    "    f.close()\n",
    "   "
   ]
  },
  {
   "cell_type": "code",
   "execution_count": 11,
   "id": "71c9af11",
   "metadata": {
    "execution": {
     "iopub.execute_input": "2022-10-13T06:56:46.520391Z",
     "iopub.status.busy": "2022-10-13T06:56:46.520048Z",
     "iopub.status.idle": "2022-10-13T06:56:46.524623Z",
     "shell.execute_reply": "2022-10-13T06:56:46.523518Z"
    },
    "papermill": {
     "duration": 0.02762,
     "end_time": "2022-10-13T06:56:46.526723",
     "exception": false,
     "start_time": "2022-10-13T06:56:46.499103",
     "status": "completed"
    },
    "tags": []
   },
   "outputs": [],
   "source": [
    "#reviews_data[:1]"
   ]
  },
  {
   "cell_type": "markdown",
   "id": "eb19586b",
   "metadata": {
    "papermill": {
     "duration": 0.019681,
     "end_time": "2022-10-13T06:56:46.566389",
     "exception": false,
     "start_time": "2022-10-13T06:56:46.546708",
     "status": "completed"
    },
    "tags": []
   },
   "source": [
    "```\n",
    "## Output\n",
    "\n",
    "[{'reviewerID': 'A28O3NP6WR5517',\n",
    "  'asin': '0188399313',\n",
    "  'reviewerName': 'Jennifer gymer',\n",
    "  'helpful': [0, 0],\n",
    "  'reviewText': 'They work very well. Easy to clean, we wash them in the dishwasher every day. Our LO loves to hold on to the bottle and the plastic covering makes it easy for her to hold on to.',\n",
    "  'overall': 5.0,\n",
    "  'summary': 'These bottles are great!',\n",
    "\n",
    "'unixReviewTime': 1369612800,\n",
    "  'reviewTime': '05 27, 2013'}]\n",
    "```"
   ]
  },
  {
   "cell_type": "code",
   "execution_count": 12,
   "id": "183bbcf5",
   "metadata": {
    "execution": {
     "iopub.execute_input": "2022-10-13T06:56:46.607298Z",
     "iopub.status.busy": "2022-10-13T06:56:46.607033Z",
     "iopub.status.idle": "2022-10-13T06:57:12.596243Z",
     "shell.execute_reply": "2022-10-13T06:57:12.595294Z"
    },
    "papermill": {
     "duration": 26.012254,
     "end_time": "2022-10-13T06:57:12.598643",
     "exception": false,
     "start_time": "2022-10-13T06:56:46.586389",
     "status": "completed"
    },
    "tags": []
   },
   "outputs": [],
   "source": [
    "# Append meta.json to meta_data list\n",
    "with open('./meta_' + dataName + '.json') as f:\n",
    "    for line in f:\n",
    "        line_dict = json.dumps(eval(line))\n",
    "        meta_data.append(json.loads(line_dict))\n",
    "    f.close()"
   ]
  },
  {
   "cell_type": "code",
   "execution_count": 13,
   "id": "b8f3515c",
   "metadata": {
    "execution": {
     "iopub.execute_input": "2022-10-13T06:57:12.638506Z",
     "iopub.status.busy": "2022-10-13T06:57:12.638208Z",
     "iopub.status.idle": "2022-10-13T06:57:12.642361Z",
     "shell.execute_reply": "2022-10-13T06:57:12.641400Z"
    },
    "papermill": {
     "duration": 0.026382,
     "end_time": "2022-10-13T06:57:12.644447",
     "exception": false,
     "start_time": "2022-10-13T06:57:12.618065",
     "status": "completed"
    },
    "tags": []
   },
   "outputs": [],
   "source": [
    "#meta_data[:1]"
   ]
  },
  {
   "cell_type": "markdown",
   "id": "3a15379b",
   "metadata": {
    "papermill": {
     "duration": 0.018757,
     "end_time": "2022-10-13T06:57:12.682023",
     "exception": false,
     "start_time": "2022-10-13T06:57:12.663266",
     "status": "completed"
    },
    "tags": []
   },
   "source": [
    "```\n",
    "[{'asin': '0188399313',\n",
    "  'categories': [['Baby']],\n",
    "  'description': 'Wee-Go Glass baby bottles by LifeFactory (Babylife) are designed to grow with your child. The included clear cover can also serve as an easy to hold cup. Twist on the solid cap (sold separately) and use your bottles for storing juice or snacks. Perfect for a lunchbox or traveling. The bright colored silicone sleeve (patent pending) helps to protect the bottle from breakage and provides a great gripping surface and tactile experience during feeding. The bottle and sleeve can be boiled or put in the dishwasher together. They can also go in the freezer, making breast milk storage simple.',\n",
    "  'title': 'Lifefactory 4oz BPA Free Glass Baby Bottles - 4-pack-raspberry and Lilac',\n",
    "  'price': 69.99,\n",
    "  'imUrl': 'http://ecx.images-amazon.com/images/I/41SwthpdD9L._SX300_.jpg',\n",
    "  'brand': 'Lifefactory',\n",
    "  'related': {'also_bought': ['B002SG7K7A',\n",
    "    'B003CJSXW8',\n",
    "    'B004PW4186',\n",
    "    'B002O3JH9Q',\n",
    "    'B002O3NLIO',\n",
    "    'B004HGSU28'],\n",
    "   'also_viewed': ['B003CJSXW8',\n",
    "    'B0052QOL1Q',\n",
    "    'B004PW4186',\n",
    "    'B00EN0OLZ8',\n",
    "    'B00EN0OOQY',\n",
    "    'B0049YS46K',\n",
    "    'B00E64CBLM',\n",
    "    'B00F9YOOS6',\n",
    "    'B00AH9RPVQ',\n",
    "    'B00BCU2R7G',\n",
    "    'B002O3NLIO',\n",
    "    'B008NZ4X2K',\n",
    "    'B005NIDFEW',\n",
    "    'B00DKPJCH4',\n",
    "    'B00CZNGWWK',\n",
    "    'B00DAKJIQ4',\n",
    "    'B005CT55IQ',\n",
    "    'B0049YRJM0',\n",
    "    'B0071IEWD0',\n",
    "    'B00E64CA68',\n",
    "    'B00IUB3SKK',\n",
    "    'B00A7AA6XY',\n",
    "    'B001F50FFE',\n",
    "    'B002HU9EO4',\n",
    "    'B007HP11SQ',\n",
    "    'B009WPUMX4',\n",
    "    'B002O3JH9Q',\n",
    "    'B00F2FT3K6',\n",
    "    'B00I5CR35A',\n",
    "    'B00BCTY5EK',\n",
    "    'B002SG7K7A',\n",
    "    'B00F2FLU2U',\n",
    "    'B0062ZK0GQ',\n",
    "    'B002UOFR66',\n",
    "    'B0055LKQQ2',\n",
    "    'B00A0FGN8I',\n",
    "    'B00HMYCG2W',\n",
    "    'B00DHFLUO0',\n",
    "    'B0040HMPA2',\n",
    "    'B00I5CT9XE',\n",
    "    'B008B5MMNO',\n",
    "    'B00BQYVNGO',\n",
    "    'B00925WM28',\n",
    "    'B00BGKC3EY',\n",
    "    'B005Q3LSDO',\n",
    "    'B0038JDVCE',\n",
    "    'B0045I6IA4'],\n",
    "   'bought_together': ['B002SG7K7A', 'B003CJSXW8'],\n",
    "   'buy_after_viewing': ['B003CJSXW8',\n",
    "    'B0052QOL1Q',\n",
    "    'B004PW4186',\n",
    "    'B002SG7K7A']}}]\n",
    "   ```\n"
   ]
  },
  {
   "cell_type": "code",
   "execution_count": 14,
   "id": "721f4159",
   "metadata": {
    "execution": {
     "iopub.execute_input": "2022-10-13T06:57:12.721260Z",
     "iopub.status.busy": "2022-10-13T06:57:12.720983Z",
     "iopub.status.idle": "2022-10-13T06:57:13.930111Z",
     "shell.execute_reply": "2022-10-13T06:57:13.928976Z"
    },
    "papermill": {
     "duration": 1.231637,
     "end_time": "2022-10-13T06:57:13.932426",
     "exception": false,
     "start_time": "2022-10-13T06:57:12.700789",
     "status": "completed"
    },
    "tags": []
   },
   "outputs": [
    {
     "name": "stdout",
     "output_type": "stream",
     "text": [
      "len(ui_dict)= 478235\n",
      "len(iu_dict)= 266414\n"
     ]
    }
   ],
   "source": [
    "#fill user to item and item to user dictionaries\n",
    "for line_data in reviews_data:\n",
    "    user_id = line_data[\"reviewerID\"] # extract review_id from each review in reviews_data list\n",
    "    item_id = line_data[\"asin\"]  # extract item_id from each review in reviews_data list\n",
    "    ui_dict[user_id].append(item_id) # assign review_id  to  item_id in ui_dict \n",
    "    iu_dict[item_id].append(user_id) # assign item_id  to review_id   in iu_dict \n",
    "#print lenght for the two dictionaries\n",
    "print(\"len(ui_dict)=\", len(ui_dict))\n",
    "print(\"len(iu_dict)=\", len(iu_dict))"
   ]
  },
  {
   "cell_type": "code",
   "execution_count": 15,
   "id": "65a28ca5",
   "metadata": {
    "execution": {
     "iopub.execute_input": "2022-10-13T06:57:13.972631Z",
     "iopub.status.busy": "2022-10-13T06:57:13.972031Z",
     "iopub.status.idle": "2022-10-13T06:57:13.976196Z",
     "shell.execute_reply": "2022-10-13T06:57:13.975232Z"
    },
    "papermill": {
     "duration": 0.026098,
     "end_time": "2022-10-13T06:57:13.978135",
     "exception": false,
     "start_time": "2022-10-13T06:57:13.952037",
     "status": "completed"
    },
    "tags": []
   },
   "outputs": [],
   "source": [
    "#ui_dict >>  ex >> 'A28O3NP6WR5517': ['0188399313', 'B004I110D8', 'B006ZZSME0']"
   ]
  },
  {
   "cell_type": "code",
   "execution_count": 16,
   "id": "e3005fa8",
   "metadata": {
    "execution": {
     "iopub.execute_input": "2022-10-13T06:57:14.017541Z",
     "iopub.status.busy": "2022-10-13T06:57:14.016742Z",
     "iopub.status.idle": "2022-10-13T06:57:14.021284Z",
     "shell.execute_reply": "2022-10-13T06:57:14.020450Z"
    },
    "papermill": {
     "duration": 0.026194,
     "end_time": "2022-10-13T06:57:14.023279",
     "exception": false,
     "start_time": "2022-10-13T06:57:13.997085",
     "status": "completed"
    },
    "tags": []
   },
   "outputs": [],
   "source": [
    "#iu_dict >>  ex >> '0188399313': ['A28O3NP6WR5517']"
   ]
  },
  {
   "cell_type": "code",
   "execution_count": 17,
   "id": "7d2429d4",
   "metadata": {
    "execution": {
     "iopub.execute_input": "2022-10-13T06:57:14.064308Z",
     "iopub.status.busy": "2022-10-13T06:57:14.063365Z",
     "iopub.status.idle": "2022-10-13T06:57:26.048938Z",
     "shell.execute_reply": "2022-10-13T06:57:26.047965Z"
    },
    "papermill": {
     "duration": 12.00918,
     "end_time": "2022-10-13T06:57:26.051611",
     "exception": false,
     "start_time": "2022-10-13T06:57:14.042431",
     "status": "completed"
    },
    "tags": []
   },
   "outputs": [],
   "source": [
    "# convert review json file to txt file \n",
    "ex_data = open( './reviews_' + dataName + '.txt', \"w\")\n",
    "for line_dict in reviews_data:\n",
    "    user_id = line_dict[\"reviewerID\"] # extract review_id from each review in reviews_data list\n",
    "    item_id = line_dict[\"asin\"] # extract item_id from each review in reviews_data list\n",
    "    ui_num = len(ui_dict[user_id]) #lenght of the users for this item which gave review for\n",
    "    iu_num = len(iu_dict[item_id]) # lenght of  items for each user\n",
    "    if ui_num >= num_ui_link and iu_num >= num_iu_link: # check if they are greater or eual to numbers which we have mentioned before  in hyperparamter cell so we could get best performance for recommendation system before we insert to text file \n",
    "        ex_data.writelines(str(line_dict) + \"\\n\")\n",
    "        iu_dict[item_id].append(user_id)\n",
    "ex_data.close()"
   ]
  },
  {
   "cell_type": "code",
   "execution_count": 18,
   "id": "1a7ede3d",
   "metadata": {
    "execution": {
     "iopub.execute_input": "2022-10-13T06:57:26.091337Z",
     "iopub.status.busy": "2022-10-13T06:57:26.091040Z",
     "iopub.status.idle": "2022-10-13T06:57:48.131594Z",
     "shell.execute_reply": "2022-10-13T06:57:48.130645Z"
    },
    "papermill": {
     "duration": 22.062708,
     "end_time": "2022-10-13T06:57:48.133913",
     "exception": false,
     "start_time": "2022-10-13T06:57:26.071205",
     "status": "completed"
    },
    "tags": []
   },
   "outputs": [],
   "source": [
    "# convert meta json file to txt file \n",
    "ex_data = open('./meta_' + dataName + '.txt', \"w\")\n",
    "for line_dict in meta_data:\n",
    "    item_id = line_dict[\"asin\"] # extract item_id from each review in reviews_data list\n",
    "    if item_id in iu_dict.keys():\n",
    "        iu_num = len(iu_dict[item_id])# lenght of  items for each user\n",
    "        if iu_num >= num_iu_link: # check if they are greater or eual to numbers which we have mentioned before  in hyperparamter cell so we could get best performance for recommendation system before we insert to text file \n",
    "            ex_data.writelines(str(line_dict) + \"\\n\")\n",
    "ex_data.close()"
   ]
  },
  {
   "cell_type": "code",
   "execution_count": 19,
   "id": "eaa6d267",
   "metadata": {
    "execution": {
     "iopub.execute_input": "2022-10-13T06:57:48.173532Z",
     "iopub.status.busy": "2022-10-13T06:57:48.173233Z",
     "iopub.status.idle": "2022-10-13T06:57:48.183879Z",
     "shell.execute_reply": "2022-10-13T06:57:48.183048Z"
    },
    "papermill": {
     "duration": 0.032499,
     "end_time": "2022-10-13T06:57:48.185808",
     "exception": false,
     "start_time": "2022-10-13T06:57:48.153309",
     "status": "completed"
    },
    "tags": []
   },
   "outputs": [],
   "source": [
    "TaggededDocument = gensim.models.doc2vec.TaggedDocument #import  the pretrained model to turn the text to vector\n",
    "warnings.filterwarnings(action='ignore', category=UserWarning, module='gensim')\n",
    "\n",
    "\n",
    "# turn the txt file to vector >>  stage 1  in research paper\n",
    "class DoctoVec:\n",
    "    # turn dictionary data to list with counter\n",
    "    # give each paragraph an id_number (count)  and append in text file so we could identify each paragraph and be ready for vectoriztion \n",
    "    def get_data(dict_d):\n",
    "        x_train = []\n",
    "        count = 0\n",
    "        for (i, text) in dict_d.items():\n",
    "            word_list = text.split(' ')\n",
    "            l = len(word_list)\n",
    "            word_list[l - 1] = word_list[l - 1].strip()\n",
    "            document = TaggededDocument(word_list, tags=[i])\n",
    "            x_train.append(document)\n",
    "            count += 1\n",
    "        return x_train, count\n",
    "   \n",
    "    # train model to vector\n",
    "    def train(dataName, x_train, vector_size, epoch_num,kind):\n",
    "        model_dm = Doc2Vec(x_train, min_count=1, window=3, vector_size=vector_size, sample=1e-3, negative=5, workers=4)\n",
    "        model_dm.train(x_train, total_examples=model_dm.corpus_count, epochs=epoch_num) #train model to turn it to vectors using pretrained model\n",
    "        model_dm.save('./' + dataName + '_Model_'+ kind+\"_\"+ str(vector_size)) #saving model after we turn it to vector so we could use it in future\n",
    "        return model_dm\n",
    "\n",
    "    # save vectors\n",
    "    #saving the vector for any text we will give to our model \n",
    "    def saveVector(dataName, model_dm, v_size, count,kind):\n",
    "        out = open('./' + dataName + '.'+kind, \"w\", encoding='utf-8')\n",
    "        for num in range(0, count):\n",
    "            doc_vec = model_dm.docvecs[num]\n",
    "            vec_list = str(num) + \",\"\n",
    "            for i_doc in doc_vec:\n",
    "                vec_list = vec_list + str(i_doc) + \",\"\n",
    "            out.writelines(vec_list[:-1] + \"\\n\")\n",
    "        out.close()"
   ]
  },
  {
   "cell_type": "code",
   "execution_count": 20,
   "id": "e4718a7d",
   "metadata": {
    "execution": {
     "iopub.execute_input": "2022-10-13T06:57:48.225045Z",
     "iopub.status.busy": "2022-10-13T06:57:48.224279Z",
     "iopub.status.idle": "2022-10-13T06:57:53.201402Z",
     "shell.execute_reply": "2022-10-13T06:57:53.200464Z"
    },
    "papermill": {
     "duration": 4.999202,
     "end_time": "2022-10-13T06:57:53.203838",
     "exception": false,
     "start_time": "2022-10-13T06:57:48.204636",
     "status": "completed"
    },
    "tags": []
   },
   "outputs": [],
   "source": [
    "# read review txt file\n",
    "reviews_data = []\n",
    "with open('./reviews_' + dataName + '.txt') as f:\n",
    "    for line in f:\n",
    "        line_dict = json.dumps(eval(line))\n",
    "        reviews_data.append(json.loads(line_dict))\n",
    "    f.close()\n",
    "    \n",
    "# give unique number for each product and for each user and append the in two different dictioary\n",
    "asin2itemNum = {}\n",
    "reviewerID2userNum = {}\n",
    "num = 1\n",
    "for ui in reviews_data:\n",
    "    if ui[\"asin\"] not in asin2itemNum:\n",
    "        asin2itemNum[ui[\"asin\"]] = num\n",
    "        num += 1\n",
    "num = 1\n",
    "for uu in reviews_data:\n",
    "    if uu[\"reviewerID\"] not in reviewerID2userNum:\n",
    "        reviewerID2userNum[uu[\"reviewerID\"]] = num\n",
    "        num += 1"
   ]
  },
  {
   "cell_type": "code",
   "execution_count": 21,
   "id": "9c860e5f",
   "metadata": {
    "execution": {
     "iopub.execute_input": "2022-10-13T06:57:53.244557Z",
     "iopub.status.busy": "2022-10-13T06:57:53.244260Z",
     "iopub.status.idle": "2022-10-13T06:57:53.247748Z",
     "shell.execute_reply": "2022-10-13T06:57:53.246853Z"
    },
    "papermill": {
     "duration": 0.026209,
     "end_time": "2022-10-13T06:57:53.249604",
     "exception": false,
     "start_time": "2022-10-13T06:57:53.223395",
     "status": "completed"
    },
    "tags": []
   },
   "outputs": [],
   "source": [
    "#reviewerID2userNum"
   ]
  },
  {
   "cell_type": "code",
   "execution_count": 22,
   "id": "3529ec5a",
   "metadata": {
    "execution": {
     "iopub.execute_input": "2022-10-13T06:57:53.289487Z",
     "iopub.status.busy": "2022-10-13T06:57:53.288511Z",
     "iopub.status.idle": "2022-10-13T06:57:53.295375Z",
     "shell.execute_reply": "2022-10-13T06:57:53.294532Z"
    },
    "papermill": {
     "duration": 0.029029,
     "end_time": "2022-10-13T06:57:53.297365",
     "exception": false,
     "start_time": "2022-10-13T06:57:53.268336",
     "status": "completed"
    },
    "tags": []
   },
   "outputs": [],
   "source": [
    "# loading the dictionary of UserId_ItemID_Num\n",
    "def loading_metadata():\n",
    "    data = []\n",
    "    dict_d = {}\n",
    "    with open( './meta_' + dataName + '.txt') as f:\n",
    "        for line in f:\n",
    "            line_dict = json.dumps(eval(line))\n",
    "            data.append(json.loads(line_dict))\n",
    "        for d_item in data:\n",
    "            k = asin2itemNum.get(d_item[\"asin\"])\n",
    "            if \"description\" in d_item.keys():\n",
    "                dict_d[k] = d_item[\"description\"].replace(\"\\n\", \"\")\n",
    "            else:\n",
    "                dict_d[k] = \"\"\n",
    "        return dict_d"
   ]
  },
  {
   "cell_type": "code",
   "execution_count": 23,
   "id": "9895e496",
   "metadata": {
    "execution": {
     "iopub.execute_input": "2022-10-13T06:57:53.337265Z",
     "iopub.status.busy": "2022-10-13T06:57:53.336449Z",
     "iopub.status.idle": "2022-10-13T07:05:13.574483Z",
     "shell.execute_reply": "2022-10-13T07:05:13.573364Z"
    },
    "papermill": {
     "duration": 440.26093,
     "end_time": "2022-10-13T07:05:13.577517",
     "exception": false,
     "start_time": "2022-10-13T06:57:53.316587",
     "status": "completed"
    },
    "tags": []
   },
   "outputs": [
    {
     "name": "stderr",
     "output_type": "stream",
     "text": [
      "/opt/conda/lib/python3.7/site-packages/ipykernel_launcher.py:33: DeprecationWarning: Call to deprecated `docvecs` (The `docvecs` property has been renamed `dv`.).\n"
     ]
    },
    {
     "name": "stdout",
     "output_type": "stream",
     "text": [
      "Item Vector Finished\n"
     ]
    }
   ],
   "source": [
    "# turn item text to a vedcor with size of 100  and save it\n",
    "dict_i = loading_metadata()\n",
    "x_train_item, count_item = DoctoVec.get_data(dict_i)\n",
    "model_dm = DoctoVec.train(dataName, x_train_item, vector_size, epoch_num,\"item\")\n",
    "DoctoVec.saveVector(dataName, model_dm, vector_size, count_item,\"item\")\n",
    "print(\"Item Vector Finished\")"
   ]
  },
  {
   "cell_type": "code",
   "execution_count": 24,
   "id": "c1eed52d",
   "metadata": {
    "execution": {
     "iopub.execute_input": "2022-10-13T07:05:13.623143Z",
     "iopub.status.busy": "2022-10-13T07:05:13.622181Z",
     "iopub.status.idle": "2022-10-13T07:05:13.629152Z",
     "shell.execute_reply": "2022-10-13T07:05:13.628245Z"
    },
    "papermill": {
     "duration": 0.030942,
     "end_time": "2022-10-13T07:05:13.631281",
     "exception": false,
     "start_time": "2022-10-13T07:05:13.600339",
     "status": "completed"
    },
    "tags": []
   },
   "outputs": [],
   "source": [
    "def loading_reviewdata():\n",
    "    # loading the dictionary of UserId_ItemID_Num\n",
    "    data = []\n",
    "    dict_d = {}\n",
    "    with open('./reviews_' + dataName + '.txt') as f:\n",
    "        for line in f:\n",
    "            line_dict = json.dumps(eval(line))\n",
    "            data.append(json.loads(line_dict))\n",
    "        for d_item in data:\n",
    "            k = reviewerID2userNum.get(d_item[\"reviewerID\"])\n",
    "            #print(k)\n",
    "            if \"reviewText\" in d_item.keys():\n",
    "                dict_d[k] = d_item[\"reviewText\"].replace(\"\\n\", \"\")\n",
    "            else:\n",
    "                dict_d[k] = \"\"\n",
    "            #print(dict_d[k])\n",
    "        return dict_d\n"
   ]
  },
  {
   "cell_type": "markdown",
   "id": "f07268a2",
   "metadata": {
    "papermill": {
     "duration": 0.021204,
     "end_time": "2022-10-13T07:05:13.672857",
     "exception": false,
     "start_time": "2022-10-13T07:05:13.651653",
     "status": "completed"
    },
    "tags": []
   },
   "source": [
    "\n",
    "```\n",
    "#output example\n",
    "1\n",
    "I ended up with a variety of different brands of cotton flannel baby wipes.  These are good quality, just not my personal favorite.  However, if the colors really do it for you, go ahead and stock up on these, they're good.  And really, we're talking squares of flannel, it's not critical.  For what it's worth, I like BumGenius wipes best for absorbency - like wiping up spit-up.  They're thick and soft.  I like OsoCozy best for cleaning baby bums, because they're thin, the better to clean crevices with.  ALL the wipes I bought shrank a lot in the first wash (hot), so expect that.I avoided GroVia for being synthetic, but in retrospect that might have been the way to go.  I have all BumGenius 4.0 diapers, which shouldn't be washed with natural fibers.  Now I have to wash the cotton wipes with baby's clothes, rather than with the diapers, which isn't ideal.\n",
    "```"
   ]
  },
  {
   "cell_type": "code",
   "execution_count": 25,
   "id": "7ca258d0",
   "metadata": {
    "execution": {
     "iopub.execute_input": "2022-10-13T07:05:13.716764Z",
     "iopub.status.busy": "2022-10-13T07:05:13.716464Z",
     "iopub.status.idle": "2022-10-13T07:06:13.481974Z",
     "shell.execute_reply": "2022-10-13T07:06:13.480499Z"
    },
    "papermill": {
     "duration": 59.790762,
     "end_time": "2022-10-13T07:06:13.485033",
     "exception": false,
     "start_time": "2022-10-13T07:05:13.694271",
     "status": "completed"
    },
    "tags": []
   },
   "outputs": [
    {
     "name": "stderr",
     "output_type": "stream",
     "text": [
      "/opt/conda/lib/python3.7/site-packages/ipykernel_launcher.py:33: DeprecationWarning: Call to deprecated `docvecs` (The `docvecs` property has been renamed `dv`.).\n"
     ]
    },
    {
     "name": "stdout",
     "output_type": "stream",
     "text": [
      "User Vector Finished\n"
     ]
    }
   ],
   "source": [
    "# turn review text to a vedcor with size of 100  and save it\n",
    "dict_u = loading_reviewdata()\n",
    "x_train_user, count_user = DoctoVec.get_data(dict_u)\n",
    "model_dm = DoctoVec.train(dataName, x_train_user, vector_size, epoch_num,\"user\")\n",
    "DoctoVec.saveVector(dataName, model_dm, vector_size, count_user,\"user\")\n",
    "print(\"User Vector Finished\")"
   ]
  },
  {
   "cell_type": "markdown",
   "id": "09ad6dba",
   "metadata": {
    "papermill": {
     "duration": 0.019382,
     "end_time": "2022-10-13T07:06:13.524410",
     "exception": false,
     "start_time": "2022-10-13T07:06:13.505028",
     "status": "completed"
    },
    "tags": []
   },
   "source": [
    "## User Rating Input"
   ]
  },
  {
   "cell_type": "code",
   "execution_count": 26,
   "id": "7fab1051",
   "metadata": {
    "execution": {
     "iopub.execute_input": "2022-10-13T07:06:13.564701Z",
     "iopub.status.busy": "2022-10-13T07:06:13.564382Z",
     "iopub.status.idle": "2022-10-13T07:06:13.720471Z",
     "shell.execute_reply": "2022-10-13T07:06:13.719476Z"
    },
    "papermill": {
     "duration": 0.179066,
     "end_time": "2022-10-13T07:06:13.722815",
     "exception": false,
     "start_time": "2022-10-13T07:06:13.543749",
     "status": "completed"
    },
    "tags": []
   },
   "outputs": [],
   "source": [
    "#extract the rating for each review and assign them to the product_id with the review_id\n",
    "for d in reviews_data:\n",
    "    user_id = reviewerID2userNum.get(d[\"reviewerID\"])\n",
    "    item_id = asin2itemNum.get(d[\"asin\"])\n",
    "    if user_id not in ui_dict2:\n",
    "        ui_dict2[user_id] = list()\n",
    "        if int(user_id) > max_num_user: \n",
    "            max_num_user = int(user_id)\n",
    "    ui_dict2[user_id].append(item_id)\n",
    "    if item_id not in iu_dict2:\n",
    "        iu_dict2[item_id] = list()\n",
    "        if int(item_id) > max_num_item:\n",
    "            max_num_item = int(item_id)\n",
    "    iu_dict2[item_id].append(user_id)"
   ]
  },
  {
   "cell_type": "code",
   "execution_count": 27,
   "id": "c0985eb7",
   "metadata": {
    "execution": {
     "iopub.execute_input": "2022-10-13T07:06:13.764765Z",
     "iopub.status.busy": "2022-10-13T07:06:13.764432Z",
     "iopub.status.idle": "2022-10-13T07:06:13.838443Z",
     "shell.execute_reply": "2022-10-13T07:06:13.837262Z"
    },
    "papermill": {
     "duration": 0.097445,
     "end_time": "2022-10-13T07:06:13.840554",
     "exception": false,
     "start_time": "2022-10-13T07:06:13.743109",
     "status": "completed"
    },
    "tags": []
   },
   "outputs": [
    {
     "name": "stdout",
     "output_type": "stream",
     "text": [
      "max_num_user =   1835\n",
      "max_num_item =  41488\n"
     ]
    }
   ],
   "source": [
    "for l_d in reviews_data:\n",
    "    u_id = reviewerID2userNum.get(l_d[\"reviewerID\"])\n",
    "    len_ui_dict[u_id] = len(ui_dict2.get(u_id))\n",
    "print(\"max_num_user =  \" ,max_num_user)\n",
    "print(\"max_num_item = \",max_num_item)\n"
   ]
  },
  {
   "cell_type": "code",
   "execution_count": 28,
   "id": "71b3c5d6",
   "metadata": {
    "execution": {
     "iopub.execute_input": "2022-10-13T07:06:13.881472Z",
     "iopub.status.busy": "2022-10-13T07:06:13.880672Z",
     "iopub.status.idle": "2022-10-13T07:06:13.916126Z",
     "shell.execute_reply": "2022-10-13T07:06:13.915275Z"
    },
    "papermill": {
     "duration": 0.057857,
     "end_time": "2022-10-13T07:06:13.918194",
     "exception": false,
     "start_time": "2022-10-13T07:06:13.860337",
     "status": "completed"
    },
    "tags": []
   },
   "outputs": [],
   "source": [
    "# reviews_train_data vs reviews_test_data\n",
    "#split our dataset to train and test for rating and append them to different lists\n",
    "num = 0\n",
    "for l_d in reviews_data:\n",
    "    if num % (split_ratio + 1) < split_ratio:\n",
    "        reviews_train_data.append(l_d)\n",
    "        num += 1\n",
    "    else:\n",
    "        reviews_test_data.append(l_d)\n",
    "        num += 1"
   ]
  },
  {
   "cell_type": "code",
   "execution_count": 29,
   "id": "41350afd",
   "metadata": {
    "execution": {
     "iopub.execute_input": "2022-10-13T07:06:13.958760Z",
     "iopub.status.busy": "2022-10-13T07:06:13.957993Z",
     "iopub.status.idle": "2022-10-13T07:06:14.234010Z",
     "shell.execute_reply": "2022-10-13T07:06:14.232754Z"
    },
    "papermill": {
     "duration": 0.298674,
     "end_time": "2022-10-13T07:06:14.236285",
     "exception": false,
     "start_time": "2022-10-13T07:06:13.937611",
     "status": "completed"
    },
    "tags": []
   },
   "outputs": [
    {
     "name": "stdout",
     "output_type": "stream",
     "text": [
      "Training Rating Finished\n"
     ]
    }
   ],
   "source": [
    "# insert Rating in train file\n",
    "train_list = []\n",
    "train_data = open('./' + dataName + \".train.rating\", \"w\")\n",
    "for l_train in reviews_train_data:\n",
    "        user_id = reviewerID2userNum.get(l_train[\"reviewerID\"])\n",
    "        item_id = asin2itemNum.get(l_train[\"asin\"])\n",
    "        rating_score = int(l_train[\"overall\"])\n",
    "        str_line = str(user_id) + \"  \" + str(item_id) + \"  \" + str(rating_score)\n",
    "        train_data.writelines(str_line + \"\\n\")\n",
    "        train_list.append(str_line)\n",
    "train_data.close()\n",
    "print(\"Training Rating Finished\")"
   ]
  },
  {
   "cell_type": "code",
   "execution_count": 30,
   "id": "fe7b5d61",
   "metadata": {
    "execution": {
     "iopub.execute_input": "2022-10-13T07:06:14.276894Z",
     "iopub.status.busy": "2022-10-13T07:06:14.276601Z",
     "iopub.status.idle": "2022-10-13T07:06:14.282315Z",
     "shell.execute_reply": "2022-10-13T07:06:14.281413Z"
    },
    "papermill": {
     "duration": 0.028576,
     "end_time": "2022-10-13T07:06:14.284572",
     "exception": false,
     "start_time": "2022-10-13T07:06:14.255996",
     "status": "completed"
    },
    "tags": []
   },
   "outputs": [
    {
     "data": {
      "text/plain": [
       "['1  1  5']"
      ]
     },
     "execution_count": 30,
     "metadata": {},
     "output_type": "execute_result"
    }
   ],
   "source": [
    "train_list[:1]"
   ]
  },
  {
   "cell_type": "code",
   "execution_count": 31,
   "id": "00755286",
   "metadata": {
    "execution": {
     "iopub.execute_input": "2022-10-13T07:06:14.326216Z",
     "iopub.status.busy": "2022-10-13T07:06:14.324761Z",
     "iopub.status.idle": "2022-10-13T07:06:14.407963Z",
     "shell.execute_reply": "2022-10-13T07:06:14.406887Z"
    },
    "papermill": {
     "duration": 0.105976,
     "end_time": "2022-10-13T07:06:14.410254",
     "exception": false,
     "start_time": "2022-10-13T07:06:14.304278",
     "status": "completed"
    },
    "tags": []
   },
   "outputs": [
    {
     "name": "stdout",
     "output_type": "stream",
     "text": [
      "Test Rating Finished\n"
     ]
    }
   ],
   "source": [
    "# Insert Rating in test file\n",
    "test_list = []\n",
    "test_data = open('./'  + dataName + \".test.rating\", \"w\")\n",
    "for l_test in reviews_test_data:\n",
    "        user_id = reviewerID2userNum.get(l_test[\"reviewerID\"])\n",
    "        item_id = asin2itemNum.get(l_test[\"asin\"])\n",
    "        rating_score = int(l_test[\"overall\"])\n",
    "        str_line = str(user_id) + \"  \" + str(item_id) + \"  \" + str(rating_score)\n",
    "        test_data.writelines(str_line + \"\\n\")\n",
    "        test_list.append(str_line)\n",
    "test_data.close()\n",
    "print(\"Test Rating Finished\")"
   ]
  },
  {
   "cell_type": "code",
   "execution_count": 32,
   "id": "0ffa660b",
   "metadata": {
    "execution": {
     "iopub.execute_input": "2022-10-13T07:06:14.451184Z",
     "iopub.status.busy": "2022-10-13T07:06:14.450908Z",
     "iopub.status.idle": "2022-10-13T07:06:14.456616Z",
     "shell.execute_reply": "2022-10-13T07:06:14.455671Z"
    },
    "papermill": {
     "duration": 0.028065,
     "end_time": "2022-10-13T07:06:14.458516",
     "exception": false,
     "start_time": "2022-10-13T07:06:14.430451",
     "status": "completed"
    },
    "tags": []
   },
   "outputs": [
    {
     "data": {
      "text/plain": [
       "['5  1  5']"
      ]
     },
     "execution_count": 32,
     "metadata": {},
     "output_type": "execute_result"
    }
   ],
   "source": [
    "test_list[:1]"
   ]
  },
  {
   "cell_type": "code",
   "execution_count": 33,
   "id": "44f54683",
   "metadata": {
    "execution": {
     "iopub.execute_input": "2022-10-13T07:06:14.498813Z",
     "iopub.status.busy": "2022-10-13T07:06:14.498555Z",
     "iopub.status.idle": "2022-10-13T07:06:14.504388Z",
     "shell.execute_reply": "2022-10-13T07:06:14.503296Z"
    },
    "papermill": {
     "duration": 0.028296,
     "end_time": "2022-10-13T07:06:14.506427",
     "exception": false,
     "start_time": "2022-10-13T07:06:14.478131",
     "status": "completed"
    },
    "tags": []
   },
   "outputs": [],
   "source": [
    "# Read .rating file and Return dok matrix (sparse matrix ).\n",
    "# The first line of .rating file is: num_users > num_items > rating \n",
    "def get_max_users_max_items(filename):\n",
    "    # Get number of users and items\n",
    "    num_users, num_items = 0, 0\n",
    "    with open(filename, \"r\") as f:\n",
    "            line = f.readline()\n",
    "            #print(line)\n",
    "            while line is not None and line != \"\":\n",
    "                arr = line.split(\"  \")\n",
    "                u, i = int(arr[0]), int(arr[1])\n",
    "                num_users = max(num_users, u)\n",
    "                num_items = max(num_items, i)\n",
    "                line = f.readline()\n",
    "                #print(line)\n",
    "                \n",
    "    return num_users , num_items\n"
   ]
  },
  {
   "cell_type": "code",
   "execution_count": 34,
   "id": "bd4551b8",
   "metadata": {
    "execution": {
     "iopub.execute_input": "2022-10-13T07:06:14.546677Z",
     "iopub.status.busy": "2022-10-13T07:06:14.546430Z",
     "iopub.status.idle": "2022-10-13T07:06:14.554890Z",
     "shell.execute_reply": "2022-10-13T07:06:14.554073Z"
    },
    "papermill": {
     "duration": 0.030787,
     "end_time": "2022-10-13T07:06:14.556796",
     "exception": false,
     "start_time": "2022-10-13T07:06:14.526009",
     "status": "completed"
    },
    "tags": []
   },
   "outputs": [],
   "source": [
    "# Construct  sparse matrix with size of maxmuim of users and items\n",
    "def load_rating_file_as_matrix(filename):\n",
    "        num_users , num_items = get_max_users_max_items(filename)\n",
    "        #print(num_users , num_items)\n",
    "        mat = sp.dok_matrix((num_users + 1, num_items + 1), dtype=np.float32)\n",
    "        with open(filename, \"r\") as f:\n",
    "            line = f.readline()\n",
    "            while line is not None and line != \"\":\n",
    "                arr = line.split(\"  \")\n",
    "                user, item, rating = int(arr[0]), int(arr[1]), float(arr[2])\n",
    "                if rating > 0:\n",
    "                    mat[user, item] = rating\n",
    "                line = f.readline()\n",
    "        return mat"
   ]
  },
  {
   "cell_type": "markdown",
   "id": "2d7234b0",
   "metadata": {
    "papermill": {
     "duration": 0.019426,
     "end_time": "2022-10-13T07:06:14.595835",
     "exception": false,
     "start_time": "2022-10-13T07:06:14.576409",
     "status": "completed"
    },
    "tags": []
   },
   "source": [
    "## Sparse Matrix : \n",
    "\n",
    "**A matrix is a two-dimensional data object made of m rows and n columns, therefore having total m x n values. If most of the elements of the matrix have 0 value, then it is called a sparse matrix.**\n",
    "\n",
    "![IMAGE](https://res.cloudinary.com/practicaldev/image/fetch/s--v5V9UbEm--/c_limit%2Cf_auto%2Cfl_progressive%2Cq_auto%2Cw_880/https://files.ai-pool.com/a/8ccc261ef0bb339e4f923b22ab06a42c.png)"
   ]
  },
  {
   "cell_type": "code",
   "execution_count": 35,
   "id": "8ba20ebd",
   "metadata": {
    "execution": {
     "iopub.execute_input": "2022-10-13T07:06:14.636888Z",
     "iopub.status.busy": "2022-10-13T07:06:14.636151Z",
     "iopub.status.idle": "2022-10-13T07:06:14.640228Z",
     "shell.execute_reply": "2022-10-13T07:06:14.639388Z"
    },
    "papermill": {
     "duration": 0.026386,
     "end_time": "2022-10-13T07:06:14.642079",
     "exception": false,
     "start_time": "2022-10-13T07:06:14.615693",
     "status": "completed"
    },
    "tags": []
   },
   "outputs": [],
   "source": [
    "#display  test rating \n",
    "#mat = load_rating_file_as_matrix(\"./Baby.test.rating\")\n",
    "#print(mat)"
   ]
  },
  {
   "cell_type": "markdown",
   "id": "0e86467e",
   "metadata": {
    "papermill": {
     "duration": 0.019692,
     "end_time": "2022-10-13T07:06:14.681251",
     "exception": false,
     "start_time": "2022-10-13T07:06:14.661559",
     "status": "completed"
    },
    "tags": []
   },
   "source": [
    "```\n",
    " >>  output example\n",
    " (5, 5)\t5.0\n",
    "  (10, 5)\t5.0\n",
    "  (15, 5)\t5.0\n",
    "  (18, 8)\t5.0\n",
    "  (7, 13)\t3.0\n",
    "  (28, 13)\t4.0\n",
    "  (33, 13)\t5.0\n",
    "  (37, 15)\t3.0\n",
    "  (41, 17)\t5.0\n",
    "  (46, 17)\t4.0\n",
    "  (35, 18)\t5.0\n",
    "  (55, 18)\t1.0\n",
    "  (35, 19)\t5.0\n",
    "  (63, 22)\t2.0\n",
    "  (67, 23)\t4.0\n",
    "  (71, 23)\t4.0\n",
    "  (74, 26)\t5.0\n",
    "  (79, 29)\t2.0\n",
    "  (83, 31)\t5.0\n",
    "  .\n",
    "  .\n",
    "  .\n",
    "  .\n",
    "  .\n",
    "```"
   ]
  },
  {
   "cell_type": "code",
   "execution_count": 36,
   "id": "f2b214a1",
   "metadata": {
    "execution": {
     "iopub.execute_input": "2022-10-13T07:06:14.722005Z",
     "iopub.status.busy": "2022-10-13T07:06:14.721143Z",
     "iopub.status.idle": "2022-10-13T07:06:14.727395Z",
     "shell.execute_reply": "2022-10-13T07:06:14.726613Z"
    },
    "papermill": {
     "duration": 0.028557,
     "end_time": "2022-10-13T07:06:14.729289",
     "exception": false,
     "start_time": "2022-10-13T07:06:14.700732",
     "status": "completed"
    },
    "tags": []
   },
   "outputs": [],
   "source": [
    "# get the  text vector for  user_review and item_description \n",
    "def load_review_feature(filename):\n",
    "        dict = {}\n",
    "        with open(filename, \"r\") as f:\n",
    "            line = f.readline()\n",
    "            while line is not None and line != \"\":\n",
    "                fea = line.strip('\\n').split(',')\n",
    "                index = int(fea[0])\n",
    "                if index not in dict:\n",
    "                    dict[index] = fea[1:]\n",
    "                line = f.readline()\n",
    "        return dict"
   ]
  },
  {
   "cell_type": "code",
   "execution_count": 37,
   "id": "77c7164f",
   "metadata": {
    "execution": {
     "iopub.execute_input": "2022-10-13T07:06:14.771718Z",
     "iopub.status.busy": "2022-10-13T07:06:14.770213Z",
     "iopub.status.idle": "2022-10-13T07:06:14.774626Z",
     "shell.execute_reply": "2022-10-13T07:06:14.773804Z"
    },
    "papermill": {
     "duration": 0.027202,
     "end_time": "2022-10-13T07:06:14.776489",
     "exception": false,
     "start_time": "2022-10-13T07:06:14.749287",
     "status": "completed"
    },
    "tags": []
   },
   "outputs": [],
   "source": [
    "#display  user_review\n",
    "#dict = load_review_feature(\"./Baby.user\")\n",
    "#print(dict[0]) >>  you can change any number of user"
   ]
  },
  {
   "cell_type": "markdown",
   "id": "0128ca42",
   "metadata": {
    "papermill": {
     "duration": 0.019923,
     "end_time": "2022-10-13T07:06:14.817697",
     "exception": false,
     "start_time": "2022-10-13T07:06:14.797774",
     "status": "completed"
    },
    "tags": []
   },
   "source": [
    "```\n",
    "['-0.0052308156', '-0.0059791277', '-0.009880755', '0.008552845', '0.003566115', '0.00026303052', '-0.009880628', '-0.00516665', '-0.009717963', '0.0020107795', '0.0028303098', '0.004643555', '-0.0042972756', '-0.0031457066', '-0.0030787874', '-0.008721917', '0.002172482', '0.009225621', '-0.009501867', '-0.0034580873', '-0.0037699104', '0.0026073814', '-0.0056915567', '0.0026206803', '0.0058025215', '-0.008106861', '-0.008329792', '-0.0099546695', '0.004933045', '-0.009122307', '0.0058419635', '0.0068002627', '-0.0065064', '-0.004519882', '-0.0012548614', '0.0016463208', '-0.0014813376', '-0.008542542', '-0.0036026144', '0.0017316246', '-0.0020569204', '-0.0072300434', '0.004184599', '-0.0085743405', '0.0027115368', '-0.0046137213', '0.00064542773', '-0.0020573472', '0.0054132272', '-0.008002572', '-0.002119851', '-9.581566e-05', '-0.0066387774', '-0.006526165', '-0.0019329595', '0.008803475', '-0.0012631703', '0.0035359787', '-0.005750313', '0.0088148145', '0.0029154683', '0.009279685', '0.004349854', '-0.004199569', '0.0022419048', '-0.0044124555', '0.0057769394', '0.001831522', '-0.002278762', '-0.0058811186', '-0.008027084', '-0.0008530736', '-0.008939364', '-0.009223635', '-0.0079399105', '0.0021690726', '-0.0065009403', '-0.0077883434', '0.0021311664', '0.0020526624', '0.008348355', '0.004667914', '-0.009410105', '-0.00033878087', '0.007854028', '0.0026714755', '0.0026803636', '-0.004883711', '0.0064671705', '0.0016488147', '-0.007602146', '0.006863971', '-0.009769399', '-0.008158595', '-0.004874165', '0.0099376775', '0.003113091', '-0.0020120381', '0.008895168', '0.0023512554']\n",
    "```"
   ]
  },
  {
   "cell_type": "code",
   "execution_count": 38,
   "id": "47ae7efc",
   "metadata": {
    "execution": {
     "iopub.execute_input": "2022-10-13T07:06:14.858211Z",
     "iopub.status.busy": "2022-10-13T07:06:14.857953Z",
     "iopub.status.idle": "2022-10-13T07:06:16.545638Z",
     "shell.execute_reply": "2022-10-13T07:06:16.544677Z"
    },
    "papermill": {
     "duration": 1.710397,
     "end_time": "2022-10-13T07:06:16.547960",
     "exception": false,
     "start_time": "2022-10-13T07:06:14.837563",
     "status": "completed"
    },
    "tags": []
   },
   "outputs": [],
   "source": [
    "# get read all files we have saved in previous stage\n",
    "path = './' + dataName\n",
    "trainMatrix = load_rating_file_as_matrix(path + \".train.rating\")\n",
    "user_review_fea = load_review_feature(path + \".user\")\n",
    "item_review_fea = load_review_feature(path + \".item\")\n",
    "testRatings = load_rating_file_as_matrix(path + \".test.rating\")\n",
    "num_users,num_items = trainMatrix.shape\n"
   ]
  },
  {
   "cell_type": "code",
   "execution_count": 39,
   "id": "ab1a2fb4",
   "metadata": {
    "execution": {
     "iopub.execute_input": "2022-10-13T07:06:16.590031Z",
     "iopub.status.busy": "2022-10-13T07:06:16.589716Z",
     "iopub.status.idle": "2022-10-13T07:06:16.597622Z",
     "shell.execute_reply": "2022-10-13T07:06:16.596821Z"
    },
    "papermill": {
     "duration": 0.03041,
     "end_time": "2022-10-13T07:06:16.599447",
     "exception": false,
     "start_time": "2022-10-13T07:06:16.569037",
     "status": "completed"
    },
    "tags": []
   },
   "outputs": [
    {
     "data": {
      "text/plain": [
       "(1836, 41489)"
      ]
     },
     "execution_count": 39,
     "metadata": {},
     "output_type": "execute_result"
    }
   ],
   "source": [
    "num_users,num_items"
   ]
  },
  {
   "cell_type": "markdown",
   "id": "c8c2f8f4",
   "metadata": {
    "papermill": {
     "duration": 0.019624,
     "end_time": "2022-10-13T07:06:16.639290",
     "exception": false,
     "start_time": "2022-10-13T07:06:16.619666",
     "status": "completed"
    },
    "tags": []
   },
   "source": [
    "## Build Model"
   ]
  },
  {
   "cell_type": "code",
   "execution_count": 40,
   "id": "1bc669a6",
   "metadata": {
    "execution": {
     "iopub.execute_input": "2022-10-13T07:06:16.681591Z",
     "iopub.status.busy": "2022-10-13T07:06:16.681320Z",
     "iopub.status.idle": "2022-10-13T07:06:16.714520Z",
     "shell.execute_reply": "2022-10-13T07:06:16.713688Z"
    },
    "papermill": {
     "duration": 0.057145,
     "end_time": "2022-10-13T07:06:16.716593",
     "exception": false,
     "start_time": "2022-10-13T07:06:16.659448",
     "status": "completed"
    },
    "tags": []
   },
   "outputs": [],
   "source": [
    "#build model\n",
    "#Intiliaze the model input\n",
    "user_input = Input(shape=(1,), dtype='int32', name='user_input')\n",
    "user_sent = Input(shape=(vector_size,), dtype='float32', name='user_sentiment')\n",
    "item_input = Input(shape=(1,), dtype='int32', name='item_input')\n",
    "item_cont = Input(shape=(vector_size,), dtype='float32', name='item_content')\n",
    "\n",
    "#Embedding layer for user\n",
    "Embedding_User = Embedding(input_dim=num_users,\n",
    "                               input_length=1,\n",
    "                               output_dim=vector_size,\n",
    "                               name='user_embedding')\n",
    "\n",
    "#Embedding layer for item\n",
    "Embedding_Item = Embedding(input_dim=num_items,\n",
    "                               input_length=1,\n",
    "                               output_dim=vector_size,\n",
    "                               name='item_embedding')\n",
    "\n"
   ]
  },
  {
   "cell_type": "code",
   "execution_count": 41,
   "id": "06985a53",
   "metadata": {
    "execution": {
     "iopub.execute_input": "2022-10-13T07:06:16.757987Z",
     "iopub.status.busy": "2022-10-13T07:06:16.757188Z",
     "iopub.status.idle": "2022-10-13T07:06:16.763015Z",
     "shell.execute_reply": "2022-10-13T07:06:16.762204Z"
    },
    "papermill": {
     "duration": 0.028716,
     "end_time": "2022-10-13T07:06:16.765167",
     "exception": false,
     "start_time": "2022-10-13T07:06:16.736451",
     "status": "completed"
    },
    "tags": []
   },
   "outputs": [],
   "source": [
    "# User Sentiment Dense Network\n",
    "def user_Sentiment(user_latent, user_sent):\n",
    "    latent_size = user_latent.shape[1]\n",
    "    inputs = user_sent\n",
    "    layer = Dense(latent_size,activation='relu',name='user_attention_layer')(inputs)\n",
    "    sent = Lambda(lambda x: K.softmax(x), name='user_Sentiment_softmax')(layer)\n",
    "    output = Multiply()([user_latent, sent])\n",
    "    return output"
   ]
  },
  {
   "cell_type": "code",
   "execution_count": 42,
   "id": "2f3e24b2",
   "metadata": {
    "execution": {
     "iopub.execute_input": "2022-10-13T07:06:16.807283Z",
     "iopub.status.busy": "2022-10-13T07:06:16.807016Z",
     "iopub.status.idle": "2022-10-13T07:06:16.812492Z",
     "shell.execute_reply": "2022-10-13T07:06:16.811543Z"
    },
    "papermill": {
     "duration": 0.028793,
     "end_time": "2022-10-13T07:06:16.814590",
     "exception": false,
     "start_time": "2022-10-13T07:06:16.785797",
     "status": "completed"
    },
    "tags": []
   },
   "outputs": [],
   "source": [
    "# Item Content Dense Network\n",
    "def item_Content(item_latent, item_cont):\n",
    "    latent_size = item_latent.shape[1]\n",
    "    inputs = item_cont\n",
    "    layer = Dense(latent_size,activation='relu',name='item_attention_layer')(inputs)\n",
    "    cont = Lambda(lambda x: K.softmax(x), name='item_Content_softmax')(layer)\n",
    "    output = Multiply()([item_latent, cont])\n",
    "    return output"
   ]
  },
  {
   "cell_type": "code",
   "execution_count": 43,
   "id": "4ee7c7f9",
   "metadata": {
    "execution": {
     "iopub.execute_input": "2022-10-13T07:06:16.856398Z",
     "iopub.status.busy": "2022-10-13T07:06:16.855670Z",
     "iopub.status.idle": "2022-10-13T07:06:19.360537Z",
     "shell.execute_reply": "2022-10-13T07:06:19.359661Z"
    },
    "papermill": {
     "duration": 2.527662,
     "end_time": "2022-10-13T07:06:19.362767",
     "exception": false,
     "start_time": "2022-10-13T07:06:16.835105",
     "status": "completed"
    },
    "tags": []
   },
   "outputs": [
    {
     "name": "stderr",
     "output_type": "stream",
     "text": [
      "2022-10-13 07:06:16.922990: I tensorflow/stream_executor/cuda/cuda_gpu_executor.cc:937] successful NUMA node read from SysFS had negative value (-1), but there must be at least one NUMA node, so returning NUMA node zero\n",
      "2022-10-13 07:06:17.028288: I tensorflow/stream_executor/cuda/cuda_gpu_executor.cc:937] successful NUMA node read from SysFS had negative value (-1), but there must be at least one NUMA node, so returning NUMA node zero\n",
      "2022-10-13 07:06:17.029041: I tensorflow/stream_executor/cuda/cuda_gpu_executor.cc:937] successful NUMA node read from SysFS had negative value (-1), but there must be at least one NUMA node, so returning NUMA node zero\n",
      "2022-10-13 07:06:17.030645: I tensorflow/core/platform/cpu_feature_guard.cc:142] This TensorFlow binary is optimized with oneAPI Deep Neural Network Library (oneDNN) to use the following CPU instructions in performance-critical operations:  AVX2 AVX512F FMA\n",
      "To enable them in other operations, rebuild TensorFlow with the appropriate compiler flags.\n",
      "2022-10-13 07:06:17.030937: I tensorflow/stream_executor/cuda/cuda_gpu_executor.cc:937] successful NUMA node read from SysFS had negative value (-1), but there must be at least one NUMA node, so returning NUMA node zero\n",
      "2022-10-13 07:06:17.031652: I tensorflow/stream_executor/cuda/cuda_gpu_executor.cc:937] successful NUMA node read from SysFS had negative value (-1), but there must be at least one NUMA node, so returning NUMA node zero\n",
      "2022-10-13 07:06:17.032316: I tensorflow/stream_executor/cuda/cuda_gpu_executor.cc:937] successful NUMA node read from SysFS had negative value (-1), but there must be at least one NUMA node, so returning NUMA node zero\n",
      "2022-10-13 07:06:18.933417: I tensorflow/stream_executor/cuda/cuda_gpu_executor.cc:937] successful NUMA node read from SysFS had negative value (-1), but there must be at least one NUMA node, so returning NUMA node zero\n",
      "2022-10-13 07:06:18.934241: I tensorflow/stream_executor/cuda/cuda_gpu_executor.cc:937] successful NUMA node read from SysFS had negative value (-1), but there must be at least one NUMA node, so returning NUMA node zero\n",
      "2022-10-13 07:06:18.934931: I tensorflow/stream_executor/cuda/cuda_gpu_executor.cc:937] successful NUMA node read from SysFS had negative value (-1), but there must be at least one NUMA node, so returning NUMA node zero\n",
      "2022-10-13 07:06:18.935525: I tensorflow/core/common_runtime/gpu/gpu_device.cc:1510] Created device /job:localhost/replica:0/task:0/device:GPU:0 with 15401 MB memory:  -> device: 0, name: Tesla P100-PCIE-16GB, pci bus id: 0000:00:04.0, compute capability: 6.0\n"
     ]
    }
   ],
   "source": [
    "# Crucial to flatten an embedding vector\n",
    "user_latent = Reshape((vector_size,))(Flatten()(Embedding_User(user_input)))\n",
    "item_latent = Reshape((vector_size,))(Flatten()(Embedding_Item(item_input)))\n",
    "user_latent_atten = user_Sentiment(user_latent, user_sent)\n",
    "item_latent_atten = item_Content(item_latent, item_cont)\n",
    "\n",
    "user_latent = Dense(vector_size, activation='relu')(user_latent_atten)\n",
    "item_latent = Dense(vector_size, activation='relu')(item_latent_atten)"
   ]
  },
  {
   "cell_type": "code",
   "execution_count": 44,
   "id": "edbe4984",
   "metadata": {
    "execution": {
     "iopub.execute_input": "2022-10-13T07:06:19.404353Z",
     "iopub.status.busy": "2022-10-13T07:06:19.403646Z",
     "iopub.status.idle": "2022-10-13T07:06:19.441780Z",
     "shell.execute_reply": "2022-10-13T07:06:19.440959Z"
    },
    "papermill": {
     "duration": 0.060686,
     "end_time": "2022-10-13T07:06:19.443597",
     "exception": false,
     "start_time": "2022-10-13T07:06:19.382911",
     "status": "completed"
    },
    "tags": []
   },
   "outputs": [],
   "source": [
    "# review-based attention calculation\n",
    "vec = Multiply()([user_latent, item_latent])\n",
    "user_item_concat = Concatenate()([user_sent, item_cont, user_latent, item_latent])\n",
    "att = Dense(vector_size, kernel_initializer='random_uniform', activation='softmax')(user_item_concat)\n",
    "\n",
    "# Element-wise product of user and item embeddings \n",
    "predict_vec = Multiply()([vec, att])\n",
    "# Final prediction layer\n",
    "prediction = Dense(vector_size, activation='relu')(predict_vec)\n",
    "#for overfitting\n",
    "prediction = Dropout(0.5)(prediction)\n",
    "prediction = Dense(1 ,name='prediction')(prediction)\n",
    "\n",
    "model = Model(inputs=[user_input, user_sent, item_input, item_cont], outputs=prediction)\n"
   ]
  },
  {
   "cell_type": "code",
   "execution_count": 45,
   "id": "c603f2a6",
   "metadata": {
    "execution": {
     "iopub.execute_input": "2022-10-13T07:06:19.484127Z",
     "iopub.status.busy": "2022-10-13T07:06:19.483839Z",
     "iopub.status.idle": "2022-10-13T07:06:19.490635Z",
     "shell.execute_reply": "2022-10-13T07:06:19.489735Z"
    },
    "papermill": {
     "duration": 0.030138,
     "end_time": "2022-10-13T07:06:19.493424",
     "exception": false,
     "start_time": "2022-10-13T07:06:19.463286",
     "status": "completed"
    },
    "tags": []
   },
   "outputs": [
    {
     "name": "stdout",
     "output_type": "stream",
     "text": [
      "Model: \"model\"\n",
      "__________________________________________________________________________________________________\n",
      "Layer (type)                    Output Shape         Param #     Connected to                     \n",
      "==================================================================================================\n",
      "user_input (InputLayer)         [(None, 1)]          0                                            \n",
      "__________________________________________________________________________________________________\n",
      "item_input (InputLayer)         [(None, 1)]          0                                            \n",
      "__________________________________________________________________________________________________\n",
      "user_embedding (Embedding)      (None, 1, 100)       183600      user_input[0][0]                 \n",
      "__________________________________________________________________________________________________\n",
      "user_sentiment (InputLayer)     [(None, 100)]        0                                            \n",
      "__________________________________________________________________________________________________\n",
      "item_embedding (Embedding)      (None, 1, 100)       4148900     item_input[0][0]                 \n",
      "__________________________________________________________________________________________________\n",
      "item_content (InputLayer)       [(None, 100)]        0                                            \n",
      "__________________________________________________________________________________________________\n",
      "flatten (Flatten)               (None, 100)          0           user_embedding[0][0]             \n",
      "__________________________________________________________________________________________________\n",
      "user_attention_layer (Dense)    (None, 100)          10100       user_sentiment[0][0]             \n",
      "__________________________________________________________________________________________________\n",
      "flatten_1 (Flatten)             (None, 100)          0           item_embedding[0][0]             \n",
      "__________________________________________________________________________________________________\n",
      "item_attention_layer (Dense)    (None, 100)          10100       item_content[0][0]               \n",
      "__________________________________________________________________________________________________\n",
      "reshape (Reshape)               (None, 100)          0           flatten[0][0]                    \n",
      "__________________________________________________________________________________________________\n",
      "user_Sentiment_softmax (Lambda) (None, 100)          0           user_attention_layer[0][0]       \n",
      "__________________________________________________________________________________________________\n",
      "reshape_1 (Reshape)             (None, 100)          0           flatten_1[0][0]                  \n",
      "__________________________________________________________________________________________________\n",
      "item_Content_softmax (Lambda)   (None, 100)          0           item_attention_layer[0][0]       \n",
      "__________________________________________________________________________________________________\n",
      "multiply (Multiply)             (None, 100)          0           reshape[0][0]                    \n",
      "                                                                 user_Sentiment_softmax[0][0]     \n",
      "__________________________________________________________________________________________________\n",
      "multiply_1 (Multiply)           (None, 100)          0           reshape_1[0][0]                  \n",
      "                                                                 item_Content_softmax[0][0]       \n",
      "__________________________________________________________________________________________________\n",
      "dense (Dense)                   (None, 100)          10100       multiply[0][0]                   \n",
      "__________________________________________________________________________________________________\n",
      "dense_1 (Dense)                 (None, 100)          10100       multiply_1[0][0]                 \n",
      "__________________________________________________________________________________________________\n",
      "concatenate (Concatenate)       (None, 400)          0           user_sentiment[0][0]             \n",
      "                                                                 item_content[0][0]               \n",
      "                                                                 dense[0][0]                      \n",
      "                                                                 dense_1[0][0]                    \n",
      "__________________________________________________________________________________________________\n",
      "multiply_2 (Multiply)           (None, 100)          0           dense[0][0]                      \n",
      "                                                                 dense_1[0][0]                    \n",
      "__________________________________________________________________________________________________\n",
      "dense_2 (Dense)                 (None, 100)          40100       concatenate[0][0]                \n",
      "__________________________________________________________________________________________________\n",
      "multiply_3 (Multiply)           (None, 100)          0           multiply_2[0][0]                 \n",
      "                                                                 dense_2[0][0]                    \n",
      "__________________________________________________________________________________________________\n",
      "dense_3 (Dense)                 (None, 100)          10100       multiply_3[0][0]                 \n",
      "__________________________________________________________________________________________________\n",
      "dropout (Dropout)               (None, 100)          0           dense_3[0][0]                    \n",
      "__________________________________________________________________________________________________\n",
      "prediction (Dense)              (None, 1)            101         dropout[0][0]                    \n",
      "==================================================================================================\n",
      "Total params: 4,423,201\n",
      "Trainable params: 4,423,201\n",
      "Non-trainable params: 0\n",
      "__________________________________________________________________________________________________\n"
     ]
    }
   ],
   "source": [
    "model.summary()"
   ]
  },
  {
   "cell_type": "code",
   "execution_count": 46,
   "id": "0f67494c",
   "metadata": {
    "execution": {
     "iopub.execute_input": "2022-10-13T07:06:19.534003Z",
     "iopub.status.busy": "2022-10-13T07:06:19.533238Z",
     "iopub.status.idle": "2022-10-13T07:06:19.545090Z",
     "shell.execute_reply": "2022-10-13T07:06:19.544280Z"
    },
    "papermill": {
     "duration": 0.03395,
     "end_time": "2022-10-13T07:06:19.546852",
     "exception": false,
     "start_time": "2022-10-13T07:06:19.512902",
     "status": "completed"
    },
    "tags": []
   },
   "outputs": [],
   "source": [
    "#compile our model\n",
    "model.compile(optimizer=\"adam\", loss=\"mean_absolute_error\", metrics=['mean_squared_error'])"
   ]
  },
  {
   "cell_type": "code",
   "execution_count": 47,
   "id": "0989718b",
   "metadata": {
    "execution": {
     "iopub.execute_input": "2022-10-13T07:06:19.588058Z",
     "iopub.status.busy": "2022-10-13T07:06:19.587307Z",
     "iopub.status.idle": "2022-10-13T07:06:19.592290Z",
     "shell.execute_reply": "2022-10-13T07:06:19.591471Z"
    },
    "papermill": {
     "duration": 0.02753,
     "end_time": "2022-10-13T07:06:19.594201",
     "exception": false,
     "start_time": "2022-10-13T07:06:19.566671",
     "status": "completed"
    },
    "tags": []
   },
   "outputs": [],
   "source": [
    "#using callbacks to avoid overfitting and save best model during training\n",
    "earlystopping = EarlyStopping(monitor='val_loss', patience=5 )\n",
    "checkpoint = ModelCheckpoint('Music_model.h5', save_best_only=True, monitor='val_loss', mode='min')\n"
   ]
  },
  {
   "cell_type": "code",
   "execution_count": 48,
   "id": "23252df8",
   "metadata": {
    "execution": {
     "iopub.execute_input": "2022-10-13T07:06:19.634158Z",
     "iopub.status.busy": "2022-10-13T07:06:19.633876Z",
     "iopub.status.idle": "2022-10-13T07:06:19.640538Z",
     "shell.execute_reply": "2022-10-13T07:06:19.639610Z"
    },
    "papermill": {
     "duration": 0.028809,
     "end_time": "2022-10-13T07:06:19.642446",
     "exception": false,
     "start_time": "2022-10-13T07:06:19.613637",
     "status": "completed"
    },
    "tags": []
   },
   "outputs": [],
   "source": [
    "# Make the data ready fro training \n",
    "#convert it to numpy array as we extract the labels\n",
    "def get_instances(trainMatrix, user_review_fea, item_review_fea):\n",
    "    user_input, user_fea, item_input, item_fea, labels = [], [], [], [], []\n",
    "    num_users = trainMatrix.shape[0]\n",
    "    for (u, i) in trainMatrix.keys():\n",
    "        if u in user_review_fea.keys() and i in item_review_fea.keys():\n",
    "            user_input.append(u)\n",
    "            user_fea.append(user_review_fea[u])\n",
    "            item_input.append(i)\n",
    "            item_fea.append(item_review_fea[i])\n",
    "            label = trainMatrix[u, i]\n",
    "            labels.append(label)\n",
    "    return np.array(user_input), np.array(user_fea, dtype='float32'), np.array(item_input),np.array(item_fea, dtype='float32'), np.array(labels)"
   ]
  },
  {
   "cell_type": "code",
   "execution_count": 49,
   "id": "699e1e42",
   "metadata": {
    "execution": {
     "iopub.execute_input": "2022-10-13T07:06:19.683089Z",
     "iopub.status.busy": "2022-10-13T07:06:19.682306Z",
     "iopub.status.idle": "2022-10-13T07:06:19.686610Z",
     "shell.execute_reply": "2022-10-13T07:06:19.685790Z"
    },
    "papermill": {
     "duration": 0.026645,
     "end_time": "2022-10-13T07:06:19.688547",
     "exception": false,
     "start_time": "2022-10-13T07:06:19.661902",
     "status": "completed"
    },
    "tags": []
   },
   "outputs": [],
   "source": [
    "#print(len(user_input))\n",
    "#print(len(user_fea))\n",
    "#print(len(item_input))\n",
    "#print(len(item_fea))\n",
    "#print(len(labels))"
   ]
  },
  {
   "cell_type": "code",
   "execution_count": 50,
   "id": "a50881b1",
   "metadata": {
    "execution": {
     "iopub.execute_input": "2022-10-13T07:06:19.729353Z",
     "iopub.status.busy": "2022-10-13T07:06:19.728833Z",
     "iopub.status.idle": "2022-10-13T07:06:21.895840Z",
     "shell.execute_reply": "2022-10-13T07:06:21.894861Z"
    },
    "papermill": {
     "duration": 2.190312,
     "end_time": "2022-10-13T07:06:21.898521",
     "exception": false,
     "start_time": "2022-10-13T07:06:19.708209",
     "status": "completed"
    },
    "tags": []
   },
   "outputs": [],
   "source": [
    "#get instance of training dataset for train the moodel\n",
    "user_input, user_fea, item_input, item_fea, labels = get_instances(trainMatrix, user_review_fea, item_review_fea)\n"
   ]
  },
  {
   "cell_type": "code",
   "execution_count": 51,
   "id": "da957646",
   "metadata": {
    "execution": {
     "iopub.execute_input": "2022-10-13T07:06:21.940719Z",
     "iopub.status.busy": "2022-10-13T07:06:21.940412Z",
     "iopub.status.idle": "2022-10-13T07:06:33.381906Z",
     "shell.execute_reply": "2022-10-13T07:06:33.378885Z"
    },
    "papermill": {
     "duration": 11.468658,
     "end_time": "2022-10-13T07:06:33.388323",
     "exception": false,
     "start_time": "2022-10-13T07:06:21.919665",
     "status": "completed"
    },
    "tags": []
   },
   "outputs": [
    {
     "name": "stderr",
     "output_type": "stream",
     "text": [
      "2022-10-13 07:06:22.064949: I tensorflow/compiler/mlir/mlir_graph_optimization_pass.cc:185] None of the MLIR Optimization Passes are enabled (registered 2)\n",
      "/opt/conda/lib/python3.7/site-packages/keras/utils/generic_utils.py:497: CustomMaskWarning: Custom mask layers require a config and must override get_config. When loading, the custom mask layer must be passed to the custom_objects argument.\n",
      "  category=CustomMaskWarning)\n"
     ]
    }
   ],
   "source": [
    "#fit our model\n",
    "hist = model.fit([user_input, user_fea, item_input, item_fea],labels,batch_size=256, epochs=10,validation_split =0.2 ,verbose=0 , callbacks = [earlystopping,checkpoint])"
   ]
  },
  {
   "cell_type": "code",
   "execution_count": 52,
   "id": "26e1da8f",
   "metadata": {
    "execution": {
     "iopub.execute_input": "2022-10-13T07:06:33.453244Z",
     "iopub.status.busy": "2022-10-13T07:06:33.452729Z",
     "iopub.status.idle": "2022-10-13T07:06:33.457912Z",
     "shell.execute_reply": "2022-10-13T07:06:33.456789Z"
    },
    "papermill": {
     "duration": 0.048307,
     "end_time": "2022-10-13T07:06:33.461201",
     "exception": false,
     "start_time": "2022-10-13T07:06:33.412894",
     "status": "completed"
    },
    "tags": []
   },
   "outputs": [],
   "source": [
    "#model.save(\"model.h5\")"
   ]
  },
  {
   "cell_type": "code",
   "execution_count": 53,
   "id": "7a376397",
   "metadata": {
    "execution": {
     "iopub.execute_input": "2022-10-13T07:06:33.523432Z",
     "iopub.status.busy": "2022-10-13T07:06:33.523092Z",
     "iopub.status.idle": "2022-10-13T07:06:43.570880Z",
     "shell.execute_reply": "2022-10-13T07:06:43.569853Z"
    },
    "papermill": {
     "duration": 10.081838,
     "end_time": "2022-10-13T07:06:43.573270",
     "exception": false,
     "start_time": "2022-10-13T07:06:33.491432",
     "status": "completed"
    },
    "tags": []
   },
   "outputs": [
    {
     "data": {
      "image/png": "[encoded data removed]",
      "text/plain": [
       "<Figure size 432x288 with 1 Axes>"
      ]
     },
     "metadata": {
      "needs_background": "light"
     },
     "output_type": "display_data"
    }
   ],
   "source": [
    "# Draw the progress during the training\n",
    "loss = hist.history['loss']\n",
    "val_loss = hist.history['val_loss']\n",
    "epochs = range(1, len(loss) + 1)\n",
    "#loss plot\n",
    "plt.plot(epochs, loss, color='pink', label='Training Loss')\n",
    "plt.plot(epochs, val_loss, color='red', label='Validation Loss')\n",
    "plt.title('Training and Validation Loss')\n",
    "plt.xlabel('Epoch')\n",
    "plt.ylabel('Loss')\n",
    "plt.legend()\n",
    "\n",
    "plt.show()"
   ]
  },
  {
   "cell_type": "code",
   "execution_count": 54,
   "id": "659017bb",
   "metadata": {
    "execution": {
     "iopub.execute_input": "2022-10-13T07:06:43.620214Z",
     "iopub.status.busy": "2022-10-13T07:06:43.618550Z",
     "iopub.status.idle": "2022-10-13T07:06:44.218107Z",
     "shell.execute_reply": "2022-10-13T07:06:44.217093Z"
    },
    "papermill": {
     "duration": 0.625045,
     "end_time": "2022-10-13T07:06:44.220638",
     "exception": false,
     "start_time": "2022-10-13T07:06:43.595593",
     "status": "completed"
    },
    "tags": []
   },
   "outputs": [],
   "source": [
    "# get instance for testing data\n",
    "user_input_test, user_fea_test, item_input_test, item_fea_test, test_label = get_instances(testRatings, user_review_fea, item_review_fea)\n"
   ]
  },
  {
   "cell_type": "code",
   "execution_count": 55,
   "id": "68043b4d",
   "metadata": {
    "execution": {
     "iopub.execute_input": "2022-10-13T07:06:44.262633Z",
     "iopub.status.busy": "2022-10-13T07:06:44.262310Z",
     "iopub.status.idle": "2022-10-13T07:06:45.682861Z",
     "shell.execute_reply": "2022-10-13T07:06:45.681963Z"
    },
    "papermill": {
     "duration": 1.443876,
     "end_time": "2022-10-13T07:06:45.685025",
     "exception": false,
     "start_time": "2022-10-13T07:06:44.241149",
     "status": "completed"
    },
    "tags": []
   },
   "outputs": [
    {
     "data": {
      "text/plain": [
       "0.6023845"
      ]
     },
     "execution_count": 55,
     "metadata": {},
     "output_type": "execute_result"
    }
   ],
   "source": [
    "#evulate the test dataset\n",
    "mean_absolute_error(model.predict([user_input_test, user_fea_test, item_input_test, item_fea_test]),test_label)"
   ]
  },
  {
   "cell_type": "code",
   "execution_count": 56,
   "id": "9a674d0d",
   "metadata": {
    "execution": {
     "iopub.execute_input": "2022-10-13T07:06:45.727001Z",
     "iopub.status.busy": "2022-10-13T07:06:45.726685Z",
     "iopub.status.idle": "2022-10-13T07:06:47.045751Z",
     "shell.execute_reply": "2022-10-13T07:06:47.044862Z"
    },
    "papermill": {
     "duration": 1.342625,
     "end_time": "2022-10-13T07:06:47.048179",
     "exception": false,
     "start_time": "2022-10-13T07:06:45.705554",
     "status": "completed"
    },
    "tags": []
   },
   "outputs": [
    {
     "data": {
      "text/plain": [
       "0.6633382"
      ]
     },
     "execution_count": 56,
     "metadata": {},
     "output_type": "execute_result"
    }
   ],
   "source": [
    "mean_squared_error(model.predict([user_input_test, user_fea_test, item_input_test, item_fea_test]),test_label)"
   ]
  },
  {
   "cell_type": "code",
   "execution_count": 57,
   "id": "9678f4ae",
   "metadata": {
    "execution": {
     "iopub.execute_input": "2022-10-13T07:06:47.090061Z",
     "iopub.status.busy": "2022-10-13T07:06:47.089748Z",
     "iopub.status.idle": "2022-10-13T07:06:47.769704Z",
     "shell.execute_reply": "2022-10-13T07:06:47.768687Z"
    },
    "papermill": {
     "duration": 0.703439,
     "end_time": "2022-10-13T07:06:47.772183",
     "exception": false,
     "start_time": "2022-10-13T07:06:47.068744",
     "status": "completed"
    },
    "tags": []
   },
   "outputs": [
    {
     "data": {
      "text/plain": [
       "array([[4.971203 ],\n",
       "       [4.4462776],\n",
       "       [3.1528327],\n",
       "       ...,\n",
       "       [4.264722 ],\n",
       "       [3.6490128],\n",
       "       [3.6477776]], dtype=float32)"
      ]
     },
     "execution_count": 57,
     "metadata": {},
     "output_type": "execute_result"
    }
   ],
   "source": [
    "model.predict([user_input_test, user_fea_test, item_input_test, item_fea_test])"
   ]
  },
  {
   "cell_type": "code",
   "execution_count": null,
   "id": "c806600e",
   "metadata": {
    "papermill": {
     "duration": 0.020929,
     "end_time": "2022-10-13T07:06:47.818637",
     "exception": false,
     "start_time": "2022-10-13T07:06:47.797708",
     "status": "completed"
    },
    "tags": []
   },
   "outputs": [],
   "source": []
  }
 ],
 "metadata": {
  "kernelspec": {
   "display_name": "Python 3",
   "language": "python",
   "name": "python3"
  },
  "language_info": {
   "codemirror_mode": {
    "name": "ipython",
    "version": 3
   },
   "file_extension": ".py",
   "mimetype": "text/x-python",
   "name": "python",
   "nbconvert_exporter": "python",
   "pygments_lexer": "ipython3",
   "version": "3.7.12"
  },
  "papermill": {
   "default_parameters": {},
   "duration": 729.323794,
   "end_time": "2022-10-13T07:06:50.660209",
   "environment_variables": {},
   "exception": null,
   "input_path": "__notebook__.ipynb",
   "output_path": "__notebook__.ipynb",
   "parameters": {},
   "start_time": "2022-10-13T06:54:41.336415",
   "version": "2.3.4"
  }
 },
 "nbformat": 4,
 "nbformat_minor": 5
}
