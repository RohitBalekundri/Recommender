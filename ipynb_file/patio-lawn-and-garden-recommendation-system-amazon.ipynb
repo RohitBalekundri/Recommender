{
 "cells": [
  {
   "cell_type": "markdown",
   "id": "bf820d8f",
   "metadata": {
    "papermill": {
     "duration": 0.02083,
     "end_time": "2022-10-19T13:39:35.191797",
     "exception": false,
     "start_time": "2022-10-19T13:39:35.170967",
     "status": "completed"
    },
    "tags": []
   },
   "source": [
    "## Dependencies"
   ]
  },
  {
   "cell_type": "code",
   "execution_count": 1,
   "id": "930e1eac",
   "metadata": {
    "execution": {
     "iopub.execute_input": "2022-10-19T13:39:35.233782Z",
     "iopub.status.busy": "2022-10-19T13:39:35.233309Z",
     "iopub.status.idle": "2022-10-19T13:39:42.102900Z",
     "shell.execute_reply": "2022-10-19T13:39:42.101868Z"
    },
    "papermill": {
     "duration": 6.894435,
     "end_time": "2022-10-19T13:39:42.105523",
     "exception": false,
     "start_time": "2022-10-19T13:39:35.211088",
     "status": "completed"
    },
    "tags": []
   },
   "outputs": [],
   "source": [
    "#import libraries\n",
    "import json\n",
    "import numpy as np\n",
    "from collections import defaultdict\n",
    "import warnings\n",
    "import gensim\n",
    "import pandas as pd\n",
    "from gensim.models.doc2vec import Doc2Vec\n",
    "import numpy as np\n",
    "import keras\n",
    "import gzip\n",
    "from keras import backend as K\n",
    "from keras.models import Model\n",
    "from keras.layers import Embedding, Input, Dense, Flatten, Concatenate, Multiply, Lambda, Reshape\n",
    "from keras.layers.core import Dropout\n",
    "import scipy.sparse as sp\n",
    "import matplotlib.pyplot as plt\n",
    "from sklearn.metrics import mean_squared_error, mean_absolute_error\n",
    "from tensorflow.keras.callbacks import EarlyStopping , ModelCheckpoint\n"
   ]
  },
  {
   "cell_type": "markdown",
   "id": "b44d38ae",
   "metadata": {
    "papermill": {
     "duration": 0.012758,
     "end_time": "2022-10-19T13:39:42.131699",
     "exception": false,
     "start_time": "2022-10-19T13:39:42.118941",
     "status": "completed"
    },
    "tags": []
   },
   "source": [
    "## Display the dataset"
   ]
  },
  {
   "cell_type": "code",
   "execution_count": 2,
   "id": "14723a28",
   "metadata": {
    "execution": {
     "iopub.execute_input": "2022-10-19T13:39:42.158815Z",
     "iopub.status.busy": "2022-10-19T13:39:42.158244Z",
     "iopub.status.idle": "2022-10-19T13:39:42.164331Z",
     "shell.execute_reply": "2022-10-19T13:39:42.163327Z"
    },
    "papermill": {
     "duration": 0.022027,
     "end_time": "2022-10-19T13:39:42.166479",
     "exception": false,
     "start_time": "2022-10-19T13:39:42.144452",
     "status": "completed"
    },
    "tags": []
   },
   "outputs": [],
   "source": [
    "## Convert data from gz to DataFrame\n",
    "def parse(path):\n",
    "    g = gzip.open(path, 'rb')\n",
    "    for l in g:\n",
    "        yield eval(l)\n",
    "\n",
    "def getDF(path):\n",
    "    i = 0\n",
    "    df = {}\n",
    "    for d in parse(path):\n",
    "        df[i] = d\n",
    "        i += 1\n",
    "    return pd.DataFrame.from_dict(df, orient='index')\n"
   ]
  },
  {
   "cell_type": "markdown",
   "id": "98ec11e7",
   "metadata": {
    "papermill": {
     "duration": 0.012343,
     "end_time": "2022-10-19T13:39:42.191275",
     "exception": false,
     "start_time": "2022-10-19T13:39:42.178932",
     "status": "completed"
    },
    "tags": []
   },
   "source": [
    "## Download The Review and Meta Data"
   ]
  },
  {
   "cell_type": "code",
   "execution_count": 3,
   "id": "2269c556",
   "metadata": {
    "execution": {
     "iopub.execute_input": "2022-10-19T13:39:42.217559Z",
     "iopub.status.busy": "2022-10-19T13:39:42.217249Z",
     "iopub.status.idle": "2022-10-19T13:39:53.200095Z",
     "shell.execute_reply": "2022-10-19T13:39:53.198940Z"
    },
    "papermill": {
     "duration": 10.998948,
     "end_time": "2022-10-19T13:39:53.202729",
     "exception": false,
     "start_time": "2022-10-19T13:39:42.203781",
     "status": "completed"
    },
    "tags": []
   },
   "outputs": [
    {
     "name": "stdout",
     "output_type": "stream",
     "text": [
      "--2022-10-19 13:39:43--  http://snap.stanford.edu/data/amazon/productGraph/categoryFiles/reviews_Patio_Lawn_and_Garden.json.gz\r\n",
      "Resolving snap.stanford.edu (snap.stanford.edu)... 171.64.75.80\r\n",
      "Connecting to snap.stanford.edu (snap.stanford.edu)|171.64.75.80|:80... connected.\r\n",
      "HTTP request sent, awaiting response... 200 OK\r\n",
      "Length: 199689225 (190M) [application/x-gzip]\r\n",
      "Saving to: ‘reviews_Patio_Lawn_and_Garden.json.gz’\r\n",
      "\r\n",
      "reviews_Patio_Lawn_ 100%[===================>] 190.44M  16.7MB/s    in 9.7s    \r\n",
      "\r\n",
      "2022-10-19 13:39:53 (19.7 MB/s) - ‘reviews_Patio_Lawn_and_Garden.json.gz’ saved [199689225/199689225]\r\n",
      "\r\n"
     ]
    }
   ],
   "source": [
    "# Download Review Data\n",
    "!wget http://snap.stanford.edu/data/amazon/productGraph/categoryFiles/reviews_Patio_Lawn_and_Garden.json.gz\n",
    "    "
   ]
  },
  {
   "cell_type": "code",
   "execution_count": 4,
   "id": "cdbd853b",
   "metadata": {
    "execution": {
     "iopub.execute_input": "2022-10-19T13:39:53.234894Z",
     "iopub.status.busy": "2022-10-19T13:39:53.234562Z",
     "iopub.status.idle": "2022-10-19T13:39:57.831966Z",
     "shell.execute_reply": "2022-10-19T13:39:57.830488Z"
    },
    "papermill": {
     "duration": 4.616504,
     "end_time": "2022-10-19T13:39:57.834632",
     "exception": false,
     "start_time": "2022-10-19T13:39:53.218128",
     "status": "completed"
    },
    "tags": []
   },
   "outputs": [
    {
     "name": "stdout",
     "output_type": "stream",
     "text": [
      "--2022-10-19 13:39:54--  http://snap.stanford.edu/data/amazon/productGraph/categoryFiles/meta_Patio_Lawn_and_Garden.json.gz\r\n",
      "Resolving snap.stanford.edu (snap.stanford.edu)... 171.64.75.80\r\n",
      "Connecting to snap.stanford.edu (snap.stanford.edu)|171.64.75.80|:80... connected.\r\n",
      "HTTP request sent, awaiting response... 200 OK\r\n",
      "Length: 48646653 (46M) [application/x-gzip]\r\n",
      "Saving to: ‘meta_Patio_Lawn_and_Garden.json.gz’\r\n",
      "\r\n",
      "meta_Patio_Lawn_and 100%[===================>]  46.39M  14.3MB/s    in 3.4s    \r\n",
      "\r\n",
      "2022-10-19 13:39:57 (13.7 MB/s) - ‘meta_Patio_Lawn_and_Garden.json.gz’ saved [48646653/48646653]\r\n",
      "\r\n"
     ]
    }
   ],
   "source": [
    "# Download Meta Data\n",
    "!wget http://snap.stanford.edu/data/amazon/productGraph/categoryFiles/meta_Patio_Lawn_and_Garden.json.gz"
   ]
  },
  {
   "cell_type": "code",
   "execution_count": 5,
   "id": "091e05a2",
   "metadata": {
    "execution": {
     "iopub.execute_input": "2022-10-19T13:39:57.870879Z",
     "iopub.status.busy": "2022-10-19T13:39:57.870499Z",
     "iopub.status.idle": "2022-10-19T13:40:12.622932Z",
     "shell.execute_reply": "2022-10-19T13:40:12.621972Z"
    },
    "papermill": {
     "duration": 14.773166,
     "end_time": "2022-10-19T13:40:12.625227",
     "exception": false,
     "start_time": "2022-10-19T13:39:57.852061",
     "status": "completed"
    },
    "tags": []
   },
   "outputs": [
    {
     "data": {
      "text/html": [
       "<div>\n",
       "<style scoped>\n",
       "    .dataframe tbody tr th:only-of-type {\n",
       "        vertical-align: middle;\n",
       "    }\n",
       "\n",
       "    .dataframe tbody tr th {\n",
       "        vertical-align: top;\n",
       "    }\n",
       "\n",
       "    .dataframe thead th {\n",
       "        text-align: right;\n",
       "    }\n",
       "</style>\n",
       "<table border=\"1\" class=\"dataframe\">\n",
       "  <thead>\n",
       "    <tr style=\"text-align: right;\">\n",
       "      <th></th>\n",
       "      <th>asin</th>\n",
       "      <th>description</th>\n",
       "      <th>title</th>\n",
       "      <th>imUrl</th>\n",
       "      <th>related</th>\n",
       "      <th>salesRank</th>\n",
       "      <th>categories</th>\n",
       "      <th>price</th>\n",
       "      <th>brand</th>\n",
       "    </tr>\n",
       "  </thead>\n",
       "  <tbody>\n",
       "    <tr>\n",
       "      <th>0</th>\n",
       "      <td>0981850006</td>\n",
       "      <td>Steven Raichlen's Best of Barbecue Primal Gril...</td>\n",
       "      <td>Primal Grill with Steven Raichlen, Volume One</td>\n",
       "      <td>http://ecx.images-amazon.com/images/I/51cNn5Dl...</td>\n",
       "      <td>{'also_viewed': ['0761149430', '0761120149', '...</td>\n",
       "      <td>{'Movies &amp; TV': 231134}</td>\n",
       "      <td>[[Patio, Lawn &amp; Garden, Grills &amp; Outdoor Cooki...</td>\n",
       "      <td>NaN</td>\n",
       "      <td>NaN</td>\n",
       "    </tr>\n",
       "    <tr>\n",
       "      <th>1</th>\n",
       "      <td>144072007X</td>\n",
       "      <td>The Tesoro Sand Shark metal combines time-prov...</td>\n",
       "      <td>Sand Shark Margare Maron Audio CD</td>\n",
       "      <td>http://ecx.images-amazon.com/images/I/31B9X0S6...</td>\n",
       "      <td>{'also_viewed': ['B008WC0X0A', 'B000CPMOVG', '...</td>\n",
       "      <td>{'Patio, Lawn &amp; Garden': 188289}</td>\n",
       "      <td>[[Patio, Lawn &amp; Garden, Lawn Mowers &amp; Outdoor ...</td>\n",
       "      <td>577.15</td>\n",
       "      <td>Tesoro</td>\n",
       "    </tr>\n",
       "    <tr>\n",
       "      <th>2</th>\n",
       "      <td>1554701503</td>\n",
       "      <td>This definitive guide to incorporating planks ...</td>\n",
       "      <td>Napoleon's Everyday Plank Grilling</td>\n",
       "      <td>http://ecx.images-amazon.com/images/I/51cTWw9d...</td>\n",
       "      <td>{'also_bought': ['B0036Y9CH4', '1554702615', '...</td>\n",
       "      <td>{'Patio, Lawn &amp; Garden': 196610}</td>\n",
       "      <td>[[Patio, Lawn &amp; Garden, Grills &amp; Outdoor Cooki...</td>\n",
       "      <td>26.39</td>\n",
       "      <td>Napoleon</td>\n",
       "    </tr>\n",
       "    <tr>\n",
       "      <th>3</th>\n",
       "      <td>1579822932</td>\n",
       "      <td>This is a Bad Kitty backpack pull clip.</td>\n",
       "      <td>Bad Kitty Backpack Pull</td>\n",
       "      <td>http://ecx.images-amazon.com/images/I/41nR62o%...</td>\n",
       "      <td>{'also_bought': ['1596438444', '1596436700', '...</td>\n",
       "      <td>{'Toys &amp; Games': 183251}</td>\n",
       "      <td>[[Patio, Lawn &amp; Garden, Picnic Baskets &amp; Acces...</td>\n",
       "      <td>3.65</td>\n",
       "      <td>Bad Kitty</td>\n",
       "    </tr>\n",
       "    <tr>\n",
       "      <th>4</th>\n",
       "      <td>1754164498</td>\n",
       "      <td>Every spa needs to be shocked to eliminate und...</td>\n",
       "      <td>5 pound SpaGuard Enhanced Spa Shock</td>\n",
       "      <td>http://ecx.images-amazon.com/images/I/21cOwSPt...</td>\n",
       "      <td>{'also_bought': ['B00AJZO9MQ', 'B006MHSEVW', '...</td>\n",
       "      <td>{'Patio, Lawn &amp; Garden': 80211}</td>\n",
       "      <td>[[Patio, Lawn &amp; Garden, Pools, Hot Tubs &amp; Supp...</td>\n",
       "      <td>29.99</td>\n",
       "      <td>SpaGuard</td>\n",
       "    </tr>\n",
       "  </tbody>\n",
       "</table>\n",
       "</div>"
      ],
      "text/plain": [
       "         asin                                        description  \\\n",
       "0  0981850006  Steven Raichlen's Best of Barbecue Primal Gril...   \n",
       "1  144072007X  The Tesoro Sand Shark metal combines time-prov...   \n",
       "2  1554701503  This definitive guide to incorporating planks ...   \n",
       "3  1579822932            This is a Bad Kitty backpack pull clip.   \n",
       "4  1754164498  Every spa needs to be shocked to eliminate und...   \n",
       "\n",
       "                                           title  \\\n",
       "0  Primal Grill with Steven Raichlen, Volume One   \n",
       "1              Sand Shark Margare Maron Audio CD   \n",
       "2             Napoleon's Everyday Plank Grilling   \n",
       "3                        Bad Kitty Backpack Pull   \n",
       "4            5 pound SpaGuard Enhanced Spa Shock   \n",
       "\n",
       "                                               imUrl  \\\n",
       "0  http://ecx.images-amazon.com/images/I/51cNn5Dl...   \n",
       "1  http://ecx.images-amazon.com/images/I/31B9X0S6...   \n",
       "2  http://ecx.images-amazon.com/images/I/51cTWw9d...   \n",
       "3  http://ecx.images-amazon.com/images/I/41nR62o%...   \n",
       "4  http://ecx.images-amazon.com/images/I/21cOwSPt...   \n",
       "\n",
       "                                             related  \\\n",
       "0  {'also_viewed': ['0761149430', '0761120149', '...   \n",
       "1  {'also_viewed': ['B008WC0X0A', 'B000CPMOVG', '...   \n",
       "2  {'also_bought': ['B0036Y9CH4', '1554702615', '...   \n",
       "3  {'also_bought': ['1596438444', '1596436700', '...   \n",
       "4  {'also_bought': ['B00AJZO9MQ', 'B006MHSEVW', '...   \n",
       "\n",
       "                          salesRank  \\\n",
       "0           {'Movies & TV': 231134}   \n",
       "1  {'Patio, Lawn & Garden': 188289}   \n",
       "2  {'Patio, Lawn & Garden': 196610}   \n",
       "3          {'Toys & Games': 183251}   \n",
       "4   {'Patio, Lawn & Garden': 80211}   \n",
       "\n",
       "                                          categories   price      brand  \n",
       "0  [[Patio, Lawn & Garden, Grills & Outdoor Cooki...     NaN        NaN  \n",
       "1  [[Patio, Lawn & Garden, Lawn Mowers & Outdoor ...  577.15     Tesoro  \n",
       "2  [[Patio, Lawn & Garden, Grills & Outdoor Cooki...   26.39   Napoleon  \n",
       "3  [[Patio, Lawn & Garden, Picnic Baskets & Acces...    3.65  Bad Kitty  \n",
       "4  [[Patio, Lawn & Garden, Pools, Hot Tubs & Supp...   29.99   SpaGuard  "
      ]
     },
     "execution_count": 5,
     "metadata": {},
     "output_type": "execute_result"
    }
   ],
   "source": [
    "#display the meta data as  dataframe\n",
    "metadata = getDF('./meta_Patio_Lawn_and_Garden.json.gz')\n",
    "metadata.head()"
   ]
  },
  {
   "cell_type": "code",
   "execution_count": 6,
   "id": "43a59f91",
   "metadata": {
    "execution": {
     "iopub.execute_input": "2022-10-19T13:40:12.659820Z",
     "iopub.status.busy": "2022-10-19T13:40:12.658908Z",
     "iopub.status.idle": "2022-10-19T13:40:58.930093Z",
     "shell.execute_reply": "2022-10-19T13:40:58.929098Z"
    },
    "papermill": {
     "duration": 46.305765,
     "end_time": "2022-10-19T13:40:58.947671",
     "exception": false,
     "start_time": "2022-10-19T13:40:12.641906",
     "status": "completed"
    },
    "tags": []
   },
   "outputs": [
    {
     "data": {
      "text/html": [
       "<div>\n",
       "<style scoped>\n",
       "    .dataframe tbody tr th:only-of-type {\n",
       "        vertical-align: middle;\n",
       "    }\n",
       "\n",
       "    .dataframe tbody tr th {\n",
       "        vertical-align: top;\n",
       "    }\n",
       "\n",
       "    .dataframe thead th {\n",
       "        text-align: right;\n",
       "    }\n",
       "</style>\n",
       "<table border=\"1\" class=\"dataframe\">\n",
       "  <thead>\n",
       "    <tr style=\"text-align: right;\">\n",
       "      <th></th>\n",
       "      <th>reviewerID</th>\n",
       "      <th>asin</th>\n",
       "      <th>reviewerName</th>\n",
       "      <th>helpful</th>\n",
       "      <th>reviewText</th>\n",
       "      <th>overall</th>\n",
       "      <th>summary</th>\n",
       "      <th>unixReviewTime</th>\n",
       "      <th>reviewTime</th>\n",
       "    </tr>\n",
       "  </thead>\n",
       "  <tbody>\n",
       "    <tr>\n",
       "      <th>0</th>\n",
       "      <td>A2VNYWOPJ13AFP</td>\n",
       "      <td>0981850006</td>\n",
       "      <td>Amazon Customer \"carringt0n\"</td>\n",
       "      <td>[6, 7]</td>\n",
       "      <td>This was a gift for my other husband.  He's ma...</td>\n",
       "      <td>5.0</td>\n",
       "      <td>Delish</td>\n",
       "      <td>1259798400</td>\n",
       "      <td>12 3, 2009</td>\n",
       "    </tr>\n",
       "    <tr>\n",
       "      <th>1</th>\n",
       "      <td>A20DWVV8HML3AW</td>\n",
       "      <td>0981850006</td>\n",
       "      <td>Cyndy</td>\n",
       "      <td>[0, 0]</td>\n",
       "      <td>My husband rarely asks for anything specific, ...</td>\n",
       "      <td>5.0</td>\n",
       "      <td>Just what my husband wanted</td>\n",
       "      <td>1371081600</td>\n",
       "      <td>06 13, 2013</td>\n",
       "    </tr>\n",
       "    <tr>\n",
       "      <th>2</th>\n",
       "      <td>A3RVP3YBYYOPRH</td>\n",
       "      <td>0981850006</td>\n",
       "      <td>John Warren</td>\n",
       "      <td>[9, 11]</td>\n",
       "      <td>This guy knows his stuff. I love the seriously...</td>\n",
       "      <td>5.0</td>\n",
       "      <td>Love This Show!</td>\n",
       "      <td>1257984000</td>\n",
       "      <td>11 12, 2009</td>\n",
       "    </tr>\n",
       "    <tr>\n",
       "      <th>3</th>\n",
       "      <td>A28XY55TP3Q90O</td>\n",
       "      <td>0981850006</td>\n",
       "      <td>JSG \"Lover of Learning\"</td>\n",
       "      <td>[1, 1]</td>\n",
       "      <td>THIS CAN BE FOUND AT: [...] FOR $19.99, also a...</td>\n",
       "      <td>5.0</td>\n",
       "      <td>BUY ELSEWHERE, TOO EXPENSIVE</td>\n",
       "      <td>1314144000</td>\n",
       "      <td>08 24, 2011</td>\n",
       "    </tr>\n",
       "    <tr>\n",
       "      <th>4</th>\n",
       "      <td>A3VZW1BGUQO0V3</td>\n",
       "      <td>0981850006</td>\n",
       "      <td>Marc G. Belisle \"Allswell2001\"</td>\n",
       "      <td>[2, 2]</td>\n",
       "      <td>Quite good particularly for inspiration (DVD g...</td>\n",
       "      <td>5.0</td>\n",
       "      <td>Quite good but I *much* prefer the cookbooks</td>\n",
       "      <td>1308268800</td>\n",
       "      <td>06 17, 2011</td>\n",
       "    </tr>\n",
       "  </tbody>\n",
       "</table>\n",
       "</div>"
      ],
      "text/plain": [
       "       reviewerID        asin                    reviewerName  helpful  \\\n",
       "0  A2VNYWOPJ13AFP  0981850006    Amazon Customer \"carringt0n\"   [6, 7]   \n",
       "1  A20DWVV8HML3AW  0981850006                           Cyndy   [0, 0]   \n",
       "2  A3RVP3YBYYOPRH  0981850006                     John Warren  [9, 11]   \n",
       "3  A28XY55TP3Q90O  0981850006         JSG \"Lover of Learning\"   [1, 1]   \n",
       "4  A3VZW1BGUQO0V3  0981850006  Marc G. Belisle \"Allswell2001\"   [2, 2]   \n",
       "\n",
       "                                          reviewText  overall  \\\n",
       "0  This was a gift for my other husband.  He's ma...      5.0   \n",
       "1  My husband rarely asks for anything specific, ...      5.0   \n",
       "2  This guy knows his stuff. I love the seriously...      5.0   \n",
       "3  THIS CAN BE FOUND AT: [...] FOR $19.99, also a...      5.0   \n",
       "4  Quite good particularly for inspiration (DVD g...      5.0   \n",
       "\n",
       "                                        summary  unixReviewTime   reviewTime  \n",
       "0                                        Delish      1259798400   12 3, 2009  \n",
       "1                   Just what my husband wanted      1371081600  06 13, 2013  \n",
       "2                               Love This Show!      1257984000  11 12, 2009  \n",
       "3                  BUY ELSEWHERE, TOO EXPENSIVE      1314144000  08 24, 2011  \n",
       "4  Quite good but I *much* prefer the cookbooks      1308268800  06 17, 2011  "
      ]
     },
     "execution_count": 6,
     "metadata": {},
     "output_type": "execute_result"
    }
   ],
   "source": [
    "#display the review data as  dataframe\n",
    "reviews = getDF('./reviews_Patio_Lawn_and_Garden.json.gz')\n",
    "reviews.head()"
   ]
  },
  {
   "cell_type": "code",
   "execution_count": 7,
   "id": "aa552615",
   "metadata": {
    "execution": {
     "iopub.execute_input": "2022-10-19T13:40:58.982318Z",
     "iopub.status.busy": "2022-10-19T13:40:58.981728Z",
     "iopub.status.idle": "2022-10-19T13:41:04.376685Z",
     "shell.execute_reply": "2022-10-19T13:41:04.375349Z"
    },
    "papermill": {
     "duration": 5.415407,
     "end_time": "2022-10-19T13:41:04.379540",
     "exception": false,
     "start_time": "2022-10-19T13:40:58.964133",
     "status": "completed"
    },
    "tags": []
   },
   "outputs": [],
   "source": [
    "# extract review baby file \n",
    "!gunzip -k reviews_Patio_Lawn_and_Garden.json.gz"
   ]
  },
  {
   "cell_type": "code",
   "execution_count": 8,
   "id": "4f97d1b5",
   "metadata": {
    "execution": {
     "iopub.execute_input": "2022-10-19T13:41:04.415298Z",
     "iopub.status.busy": "2022-10-19T13:41:04.414947Z",
     "iopub.status.idle": "2022-10-19T13:41:06.734197Z",
     "shell.execute_reply": "2022-10-19T13:41:06.732878Z"
    },
    "papermill": {
     "duration": 2.339614,
     "end_time": "2022-10-19T13:41:06.736797",
     "exception": false,
     "start_time": "2022-10-19T13:41:04.397183",
     "status": "completed"
    },
    "tags": []
   },
   "outputs": [],
   "source": [
    "# extract meta baby file \n",
    "!gunzip -k meta_Patio_Lawn_and_Garden.json.gz"
   ]
  },
  {
   "cell_type": "markdown",
   "id": "29edc98b",
   "metadata": {
    "papermill": {
     "duration": 0.016399,
     "end_time": "2022-10-19T13:41:06.770103",
     "exception": false,
     "start_time": "2022-10-19T13:41:06.753704",
     "status": "completed"
    },
    "tags": []
   },
   "source": [
    "## Preprocessing"
   ]
  },
  {
   "cell_type": "code",
   "execution_count": 9,
   "id": "c915fe52",
   "metadata": {
    "execution": {
     "iopub.execute_input": "2022-10-19T13:41:06.804931Z",
     "iopub.status.busy": "2022-10-19T13:41:06.804539Z",
     "iopub.status.idle": "2022-10-19T13:41:06.811474Z",
     "shell.execute_reply": "2022-10-19T13:41:06.810446Z"
    },
    "papermill": {
     "duration": 0.026881,
     "end_time": "2022-10-19T13:41:06.813434",
     "exception": false,
     "start_time": "2022-10-19T13:41:06.786553",
     "status": "completed"
    },
    "tags": []
   },
   "outputs": [],
   "source": [
    "#Hyperparameter \n",
    "dataName =  \"Patio_Lawn_and_Garden\"# name of your product\n",
    "vector_size = 100 # vector size of reviewtext and item description\n",
    "epoch_num = 100 # number of vector\n",
    "reviews_data = [] # review list to insert review data inside\n",
    "meta_data = [] # meta list to insert meta data inside\n",
    "num_ui_link = 20  # the number of each user link to items\n",
    "num_iu_link = 0  # the number of each item link to user\n",
    "\n",
    "# user -> item  ->  for text\n",
    "ui_dict = defaultdict(list)\n",
    "#item -> user - >  for text\n",
    "iu_dict = defaultdict(list)\n",
    "#rating training data list\n",
    "reviews_train_data = []\n",
    "#rating testing data list\n",
    "reviews_test_data = []\n",
    "# max number of item\n",
    "max_num_item = 1\n",
    "# max number of users\n",
    "max_num_user = 1\n",
    "#item -> user -> for rating\n",
    "iu_dict2 = defaultdict(list)\n",
    "# user -> item  ->  for rating\n",
    "ui_dict2 = defaultdict(list)\n",
    "len_ui_dict = {}\n",
    "split_ratio = 4 #ratio to split between test and train\n",
    "epochs = 20 "
   ]
  },
  {
   "cell_type": "code",
   "execution_count": 10,
   "id": "cb8b4225",
   "metadata": {
    "execution": {
     "iopub.execute_input": "2022-10-19T13:41:06.847650Z",
     "iopub.status.busy": "2022-10-19T13:41:06.847349Z",
     "iopub.status.idle": "2022-10-19T13:41:17.429202Z",
     "shell.execute_reply": "2022-10-19T13:41:17.428244Z"
    },
    "papermill": {
     "duration": 10.601689,
     "end_time": "2022-10-19T13:41:17.431554",
     "exception": false,
     "start_time": "2022-10-19T13:41:06.829865",
     "status": "completed"
    },
    "tags": []
   },
   "outputs": [],
   "source": [
    "# Append review.json to  review_data list\n",
    "\n",
    "with open('./reviews_' + dataName + '.json') as f:\n",
    "    for line in f:\n",
    "        reviews_data.append(json.loads(line))\n",
    "    f.close()\n",
    "   "
   ]
  },
  {
   "cell_type": "code",
   "execution_count": 11,
   "id": "9906e5c3",
   "metadata": {
    "execution": {
     "iopub.execute_input": "2022-10-19T13:41:17.466053Z",
     "iopub.status.busy": "2022-10-19T13:41:17.465740Z",
     "iopub.status.idle": "2022-10-19T13:41:17.470969Z",
     "shell.execute_reply": "2022-10-19T13:41:17.470092Z"
    },
    "papermill": {
     "duration": 0.024645,
     "end_time": "2022-10-19T13:41:17.472941",
     "exception": false,
     "start_time": "2022-10-19T13:41:17.448296",
     "status": "completed"
    },
    "tags": []
   },
   "outputs": [],
   "source": [
    "#reviews_data[:1]"
   ]
  },
  {
   "cell_type": "markdown",
   "id": "d2cccb20",
   "metadata": {
    "papermill": {
     "duration": 0.016192,
     "end_time": "2022-10-19T13:41:17.505474",
     "exception": false,
     "start_time": "2022-10-19T13:41:17.489282",
     "status": "completed"
    },
    "tags": []
   },
   "source": [
    "```\n",
    "## Output\n",
    "\n",
    "[{'reviewerID': 'A28O3NP6WR5517',\n",
    "  'asin': '0188399313',\n",
    "  'reviewerName': 'Jennifer gymer',\n",
    "  'helpful': [0, 0],\n",
    "  'reviewText': 'They work very well. Easy to clean, we wash them in the dishwasher every day. Our LO loves to hold on to the bottle and the plastic covering makes it easy for her to hold on to.',\n",
    "  'overall': 5.0,\n",
    "  'summary': 'These bottles are great!',\n",
    "\n",
    "'unixReviewTime': 1369612800,\n",
    "  'reviewTime': '05 27, 2013'}]\n",
    "```"
   ]
  },
  {
   "cell_type": "code",
   "execution_count": 12,
   "id": "60b3655c",
   "metadata": {
    "execution": {
     "iopub.execute_input": "2022-10-19T13:41:17.539360Z",
     "iopub.status.busy": "2022-10-19T13:41:17.539028Z",
     "iopub.status.idle": "2022-10-19T13:41:34.775131Z",
     "shell.execute_reply": "2022-10-19T13:41:34.774166Z"
    },
    "papermill": {
     "duration": 17.255842,
     "end_time": "2022-10-19T13:41:34.777620",
     "exception": false,
     "start_time": "2022-10-19T13:41:17.521778",
     "status": "completed"
    },
    "tags": []
   },
   "outputs": [],
   "source": [
    "# Append meta.json to meta_data list\n",
    "with open('./meta_' + dataName + '.json') as f:\n",
    "    for line in f:\n",
    "        line_dict = json.dumps(eval(line))\n",
    "        meta_data.append(json.loads(line_dict))\n",
    "    f.close()"
   ]
  },
  {
   "cell_type": "code",
   "execution_count": 13,
   "id": "cf0d67b3",
   "metadata": {
    "execution": {
     "iopub.execute_input": "2022-10-19T13:41:34.813148Z",
     "iopub.status.busy": "2022-10-19T13:41:34.812016Z",
     "iopub.status.idle": "2022-10-19T13:41:34.816523Z",
     "shell.execute_reply": "2022-10-19T13:41:34.815828Z"
    },
    "papermill": {
     "duration": 0.023819,
     "end_time": "2022-10-19T13:41:34.818354",
     "exception": false,
     "start_time": "2022-10-19T13:41:34.794535",
     "status": "completed"
    },
    "tags": []
   },
   "outputs": [],
   "source": [
    "#meta_data[:1]"
   ]
  },
  {
   "cell_type": "markdown",
   "id": "5e7e6992",
   "metadata": {
    "papermill": {
     "duration": 0.016099,
     "end_time": "2022-10-19T13:41:34.850973",
     "exception": false,
     "start_time": "2022-10-19T13:41:34.834874",
     "status": "completed"
    },
    "tags": []
   },
   "source": [
    "```\n",
    "[{'asin': '0188399313',\n",
    "  'categories': [['Baby']],\n",
    "  'description': 'Wee-Go Glass baby bottles by LifeFactory (Babylife) are designed to grow with your child. The included clear cover can also serve as an easy to hold cup. Twist on the solid cap (sold separately) and use your bottles for storing juice or snacks. Perfect for a lunchbox or traveling. The bright colored silicone sleeve (patent pending) helps to protect the bottle from breakage and provides a great gripping surface and tactile experience during feeding. The bottle and sleeve can be boiled or put in the dishwasher together. They can also go in the freezer, making breast milk storage simple.',\n",
    "  'title': 'Lifefactory 4oz BPA Free Glass Baby Bottles - 4-pack-raspberry and Lilac',\n",
    "  'price': 69.99,\n",
    "  'imUrl': 'http://ecx.images-amazon.com/images/I/41SwthpdD9L._SX300_.jpg',\n",
    "  'brand': 'Lifefactory',\n",
    "  'related': {'also_bought': ['B002SG7K7A',\n",
    "    'B003CJSXW8',\n",
    "    'B004PW4186',\n",
    "    'B002O3JH9Q',\n",
    "    'B002O3NLIO',\n",
    "    'B004HGSU28'],\n",
    "   'also_viewed': ['B003CJSXW8',\n",
    "    'B0052QOL1Q',\n",
    "    'B004PW4186',\n",
    "    'B00EN0OLZ8',\n",
    "    'B00EN0OOQY',\n",
    "    'B0049YS46K',\n",
    "    'B00E64CBLM',\n",
    "    'B00F9YOOS6',\n",
    "    'B00AH9RPVQ',\n",
    "    'B00BCU2R7G',\n",
    "    'B002O3NLIO',\n",
    "    'B008NZ4X2K',\n",
    "    'B005NIDFEW',\n",
    "    'B00DKPJCH4',\n",
    "    'B00CZNGWWK',\n",
    "    'B00DAKJIQ4',\n",
    "    'B005CT55IQ',\n",
    "    'B0049YRJM0',\n",
    "    'B0071IEWD0',\n",
    "    'B00E64CA68',\n",
    "    'B00IUB3SKK',\n",
    "    'B00A7AA6XY',\n",
    "    'B001F50FFE',\n",
    "    'B002HU9EO4',\n",
    "    'B007HP11SQ',\n",
    "    'B009WPUMX4',\n",
    "    'B002O3JH9Q',\n",
    "    'B00F2FT3K6',\n",
    "    'B00I5CR35A',\n",
    "    'B00BCTY5EK',\n",
    "    'B002SG7K7A',\n",
    "    'B00F2FLU2U',\n",
    "    'B0062ZK0GQ',\n",
    "    'B002UOFR66',\n",
    "    'B0055LKQQ2',\n",
    "    'B00A0FGN8I',\n",
    "    'B00HMYCG2W',\n",
    "    'B00DHFLUO0',\n",
    "    'B0040HMPA2',\n",
    "    'B00I5CT9XE',\n",
    "    'B008B5MMNO',\n",
    "    'B00BQYVNGO',\n",
    "    'B00925WM28',\n",
    "    'B00BGKC3EY',\n",
    "    'B005Q3LSDO',\n",
    "    'B0038JDVCE',\n",
    "    'B0045I6IA4'],\n",
    "   'bought_together': ['B002SG7K7A', 'B003CJSXW8'],\n",
    "   'buy_after_viewing': ['B003CJSXW8',\n",
    "    'B0052QOL1Q',\n",
    "    'B004PW4186',\n",
    "    'B002SG7K7A']}}]\n",
    "   ```\n"
   ]
  },
  {
   "cell_type": "code",
   "execution_count": 14,
   "id": "7a3e4b8f",
   "metadata": {
    "execution": {
     "iopub.execute_input": "2022-10-19T13:41:34.885548Z",
     "iopub.status.busy": "2022-10-19T13:41:34.884578Z",
     "iopub.status.idle": "2022-10-19T13:41:38.235689Z",
     "shell.execute_reply": "2022-10-19T13:41:38.234078Z"
    },
    "papermill": {
     "duration": 3.37048,
     "end_time": "2022-10-19T13:41:38.237718",
     "exception": false,
     "start_time": "2022-10-19T13:41:34.867238",
     "status": "completed"
    },
    "tags": []
   },
   "outputs": [
    {
     "name": "stdout",
     "output_type": "stream",
     "text": [
      "len(ui_dict)= 714791\n",
      "len(iu_dict)= 105984\n"
     ]
    }
   ],
   "source": [
    "#fill user to item and item to user dictionaries\n",
    "for line_data in reviews_data:\n",
    "    user_id = line_data[\"reviewerID\"] # extract review_id from each review in reviews_data list\n",
    "    item_id = line_data[\"asin\"]  # extract item_id from each review in reviews_data list\n",
    "    ui_dict[user_id].append(item_id) # assign review_id  to  item_id in ui_dict \n",
    "    iu_dict[item_id].append(user_id) # assign item_id  to review_id   in iu_dict \n",
    "#print lenght for the two dictionaries\n",
    "print(\"len(ui_dict)=\", len(ui_dict))\n",
    "print(\"len(iu_dict)=\", len(iu_dict))"
   ]
  },
  {
   "cell_type": "code",
   "execution_count": 15,
   "id": "52320496",
   "metadata": {
    "execution": {
     "iopub.execute_input": "2022-10-19T13:41:38.272272Z",
     "iopub.status.busy": "2022-10-19T13:41:38.271949Z",
     "iopub.status.idle": "2022-10-19T13:41:38.276060Z",
     "shell.execute_reply": "2022-10-19T13:41:38.275005Z"
    },
    "papermill": {
     "duration": 0.023526,
     "end_time": "2022-10-19T13:41:38.278079",
     "exception": false,
     "start_time": "2022-10-19T13:41:38.254553",
     "status": "completed"
    },
    "tags": []
   },
   "outputs": [],
   "source": [
    "#ui_dict >>  ex >> 'A28O3NP6WR5517': ['0188399313', 'B004I110D8', 'B006ZZSME0']"
   ]
  },
  {
   "cell_type": "code",
   "execution_count": 16,
   "id": "a3d2969b",
   "metadata": {
    "execution": {
     "iopub.execute_input": "2022-10-19T13:41:38.311949Z",
     "iopub.status.busy": "2022-10-19T13:41:38.311654Z",
     "iopub.status.idle": "2022-10-19T13:41:38.315937Z",
     "shell.execute_reply": "2022-10-19T13:41:38.314901Z"
    },
    "papermill": {
     "duration": 0.023672,
     "end_time": "2022-10-19T13:41:38.318069",
     "exception": false,
     "start_time": "2022-10-19T13:41:38.294397",
     "status": "completed"
    },
    "tags": []
   },
   "outputs": [],
   "source": [
    "#iu_dict >>  ex >> '0188399313': ['A28O3NP6WR5517']"
   ]
  },
  {
   "cell_type": "code",
   "execution_count": 17,
   "id": "8cc97eb3",
   "metadata": {
    "execution": {
     "iopub.execute_input": "2022-10-19T13:41:38.352223Z",
     "iopub.status.busy": "2022-10-19T13:41:38.351910Z",
     "iopub.status.idle": "2022-10-19T13:41:41.037935Z",
     "shell.execute_reply": "2022-10-19T13:41:41.036950Z"
    },
    "papermill": {
     "duration": 2.705928,
     "end_time": "2022-10-19T13:41:41.040382",
     "exception": false,
     "start_time": "2022-10-19T13:41:38.334454",
     "status": "completed"
    },
    "tags": []
   },
   "outputs": [],
   "source": [
    "# convert review json file to txt file \n",
    "ex_data = open( './reviews_' + dataName + '.txt', \"w\")\n",
    "for line_dict in reviews_data:\n",
    "    user_id = line_dict[\"reviewerID\"] # extract review_id from each review in reviews_data list\n",
    "    item_id = line_dict[\"asin\"] # extract item_id from each review in reviews_data list\n",
    "    ui_num = len(ui_dict[user_id]) #lenght of the users for this item which gave review for\n",
    "    iu_num = len(iu_dict[item_id]) # lenght of  items for each user\n",
    "    if ui_num >= num_ui_link and iu_num >= num_iu_link: # check if they are greater or eual to numbers which we have mentioned before  in hyperparamter cell so we could get best performance for recommendation system before we insert to text file \n",
    "        ex_data.writelines(str(line_dict) + \"\\n\")\n",
    "        iu_dict[item_id].append(user_id)\n",
    "ex_data.close()"
   ]
  },
  {
   "cell_type": "code",
   "execution_count": 18,
   "id": "58d9fa41",
   "metadata": {
    "execution": {
     "iopub.execute_input": "2022-10-19T13:41:41.077282Z",
     "iopub.status.busy": "2022-10-19T13:41:41.075362Z",
     "iopub.status.idle": "2022-10-19T13:42:03.225069Z",
     "shell.execute_reply": "2022-10-19T13:42:03.224050Z"
    },
    "papermill": {
     "duration": 22.170265,
     "end_time": "2022-10-19T13:42:03.227718",
     "exception": false,
     "start_time": "2022-10-19T13:41:41.057453",
     "status": "completed"
    },
    "tags": []
   },
   "outputs": [],
   "source": [
    "# convert meta json file to txt file \n",
    "ex_data = open('./meta_' + dataName + '.txt', \"w\")\n",
    "for line_dict in meta_data:\n",
    "    item_id = line_dict[\"asin\"] # extract item_id from each review in reviews_data list\n",
    "    if item_id in iu_dict.keys():\n",
    "        iu_num = len(iu_dict[item_id])# lenght of  items for each user\n",
    "        if iu_num >= num_iu_link: # check if they are greater or eual to numbers which we have mentioned before  in hyperparamter cell so we could get best performance for recommendation system before we insert to text file \n",
    "            ex_data.writelines(str(line_dict) + \"\\n\")\n",
    "ex_data.close()"
   ]
  },
  {
   "cell_type": "code",
   "execution_count": 19,
   "id": "ab40d942",
   "metadata": {
    "execution": {
     "iopub.execute_input": "2022-10-19T13:42:03.262918Z",
     "iopub.status.busy": "2022-10-19T13:42:03.262617Z",
     "iopub.status.idle": "2022-10-19T13:42:03.273440Z",
     "shell.execute_reply": "2022-10-19T13:42:03.272514Z"
    },
    "papermill": {
     "duration": 0.030335,
     "end_time": "2022-10-19T13:42:03.275479",
     "exception": false,
     "start_time": "2022-10-19T13:42:03.245144",
     "status": "completed"
    },
    "tags": []
   },
   "outputs": [],
   "source": [
    "TaggededDocument = gensim.models.doc2vec.TaggedDocument #import  the pretrained model to turn the text to vector\n",
    "warnings.filterwarnings(action='ignore', category=UserWarning, module='gensim')\n",
    "\n",
    "\n",
    "# turn the txt file to vector >>  stage 1  in research paper\n",
    "class DoctoVec:\n",
    "    # turn dictionary data to list with counter\n",
    "    # give each paragraph an id_number (count)  and append in text file so we could identify each paragraph and be ready for vectoriztion \n",
    "    def get_data(dict_d):\n",
    "        x_train = []\n",
    "        count = 0\n",
    "        for (i, text) in dict_d.items():\n",
    "            word_list = text.split(' ')\n",
    "            l = len(word_list)\n",
    "            word_list[l - 1] = word_list[l - 1].strip()\n",
    "            document = TaggededDocument(word_list, tags=[i])\n",
    "            x_train.append(document)\n",
    "            count += 1\n",
    "        return x_train, count\n",
    "   \n",
    "    # train model to vector\n",
    "    def train(dataName, x_train, vector_size, epoch_num,kind):\n",
    "        model_dm = Doc2Vec(x_train, min_count=1, window=3, vector_size=vector_size, sample=1e-3, negative=5, workers=4)\n",
    "        model_dm.train(x_train, total_examples=model_dm.corpus_count, epochs=epoch_num) #train model to turn it to vectors using pretrained model\n",
    "        model_dm.save('./' + dataName + '_Model_'+ kind+\"_\"+ str(vector_size)) #saving model after we turn it to vector so we could use it in future\n",
    "        return model_dm\n",
    "\n",
    "    # save vectors\n",
    "    #saving the vector for any text we will give to our model \n",
    "    def saveVector(dataName, model_dm, v_size, count,kind):\n",
    "        out = open('./' + dataName + '.'+kind, \"w\", encoding='utf-8')\n",
    "        for num in range(0, count):\n",
    "            doc_vec = model_dm.docvecs[num]\n",
    "            vec_list = str(num) + \",\"\n",
    "            for i_doc in doc_vec:\n",
    "                vec_list = vec_list + str(i_doc) + \",\"\n",
    "            out.writelines(vec_list[:-1] + \"\\n\")\n",
    "        out.close()"
   ]
  },
  {
   "cell_type": "code",
   "execution_count": 20,
   "id": "560bb260",
   "metadata": {
    "execution": {
     "iopub.execute_input": "2022-10-19T13:42:03.309721Z",
     "iopub.status.busy": "2022-10-19T13:42:03.308878Z",
     "iopub.status.idle": "2022-10-19T13:42:04.438273Z",
     "shell.execute_reply": "2022-10-19T13:42:04.437321Z"
    },
    "papermill": {
     "duration": 1.148999,
     "end_time": "2022-10-19T13:42:04.440731",
     "exception": false,
     "start_time": "2022-10-19T13:42:03.291732",
     "status": "completed"
    },
    "tags": []
   },
   "outputs": [],
   "source": [
    "# read review txt file\n",
    "reviews_data = []\n",
    "with open('./reviews_' + dataName + '.txt') as f:\n",
    "    for line in f:\n",
    "        line_dict = json.dumps(eval(line))\n",
    "        reviews_data.append(json.loads(line_dict))\n",
    "    f.close()\n",
    "    \n",
    "# give unique number for each product and for each user and append the in two different dictioary\n",
    "asin2itemNum = {}\n",
    "reviewerID2userNum = {}\n",
    "num = 1\n",
    "for ui in reviews_data:\n",
    "    if ui[\"asin\"] not in asin2itemNum:\n",
    "        asin2itemNum[ui[\"asin\"]] = num\n",
    "        num += 1\n",
    "num = 1\n",
    "for uu in reviews_data:\n",
    "    if uu[\"reviewerID\"] not in reviewerID2userNum:\n",
    "        reviewerID2userNum[uu[\"reviewerID\"]] = num\n",
    "        num += 1"
   ]
  },
  {
   "cell_type": "code",
   "execution_count": 21,
   "id": "320c63a8",
   "metadata": {
    "execution": {
     "iopub.execute_input": "2022-10-19T13:42:04.475226Z",
     "iopub.status.busy": "2022-10-19T13:42:04.474904Z",
     "iopub.status.idle": "2022-10-19T13:42:04.478941Z",
     "shell.execute_reply": "2022-10-19T13:42:04.477876Z"
    },
    "papermill": {
     "duration": 0.023523,
     "end_time": "2022-10-19T13:42:04.481137",
     "exception": false,
     "start_time": "2022-10-19T13:42:04.457614",
     "status": "completed"
    },
    "tags": []
   },
   "outputs": [],
   "source": [
    "#reviewerID2userNum"
   ]
  },
  {
   "cell_type": "code",
   "execution_count": 22,
   "id": "972f618a",
   "metadata": {
    "execution": {
     "iopub.execute_input": "2022-10-19T13:42:04.514932Z",
     "iopub.status.busy": "2022-10-19T13:42:04.514506Z",
     "iopub.status.idle": "2022-10-19T13:42:04.520354Z",
     "shell.execute_reply": "2022-10-19T13:42:04.519440Z"
    },
    "papermill": {
     "duration": 0.024881,
     "end_time": "2022-10-19T13:42:04.522222",
     "exception": false,
     "start_time": "2022-10-19T13:42:04.497341",
     "status": "completed"
    },
    "tags": []
   },
   "outputs": [],
   "source": [
    "# loading the dictionary of UserId_ItemID_Num\n",
    "def loading_metadata():\n",
    "    data = []\n",
    "    dict_d = {}\n",
    "    with open( './meta_' + dataName + '.txt') as f:\n",
    "        for line in f:\n",
    "            line_dict = json.dumps(eval(line))\n",
    "            data.append(json.loads(line_dict))\n",
    "        for d_item in data:\n",
    "            k = asin2itemNum.get(d_item[\"asin\"])\n",
    "            if \"description\" in d_item.keys():\n",
    "                dict_d[k] = d_item[\"description\"].replace(\"\\n\", \"\")\n",
    "            else:\n",
    "                dict_d[k] = \"\"\n",
    "        return dict_d"
   ]
  },
  {
   "cell_type": "code",
   "execution_count": 23,
   "id": "5e255164",
   "metadata": {
    "execution": {
     "iopub.execute_input": "2022-10-19T13:42:04.556278Z",
     "iopub.status.busy": "2022-10-19T13:42:04.555515Z",
     "iopub.status.idle": "2022-10-19T13:45:29.849617Z",
     "shell.execute_reply": "2022-10-19T13:45:29.848640Z"
    },
    "papermill": {
     "duration": 205.313412,
     "end_time": "2022-10-19T13:45:29.851848",
     "exception": false,
     "start_time": "2022-10-19T13:42:04.538436",
     "status": "completed"
    },
    "tags": []
   },
   "outputs": [
    {
     "name": "stderr",
     "output_type": "stream",
     "text": [
      "/opt/conda/lib/python3.7/site-packages/ipykernel_launcher.py:33: DeprecationWarning: Call to deprecated `docvecs` (The `docvecs` property has been renamed `dv`.).\n"
     ]
    },
    {
     "name": "stdout",
     "output_type": "stream",
     "text": [
      "Item Vector Finished\n"
     ]
    }
   ],
   "source": [
    "# turn item text to a vedcor with size of 100  and save it\n",
    "dict_i = loading_metadata()\n",
    "x_train_item, count_item = DoctoVec.get_data(dict_i)\n",
    "model_dm = DoctoVec.train(dataName, x_train_item, vector_size, epoch_num,\"item\")\n",
    "DoctoVec.saveVector(dataName, model_dm, vector_size, count_item,\"item\")\n",
    "print(\"Item Vector Finished\")"
   ]
  },
  {
   "cell_type": "code",
   "execution_count": 24,
   "id": "b9085a55",
   "metadata": {
    "execution": {
     "iopub.execute_input": "2022-10-19T13:45:29.886750Z",
     "iopub.status.busy": "2022-10-19T13:45:29.886423Z",
     "iopub.status.idle": "2022-10-19T13:45:29.893137Z",
     "shell.execute_reply": "2022-10-19T13:45:29.892101Z"
    },
    "papermill": {
     "duration": 0.026571,
     "end_time": "2022-10-19T13:45:29.895307",
     "exception": false,
     "start_time": "2022-10-19T13:45:29.868736",
     "status": "completed"
    },
    "tags": []
   },
   "outputs": [],
   "source": [
    "def loading_reviewdata():\n",
    "    # loading the dictionary of UserId_ItemID_Num\n",
    "    data = []\n",
    "    dict_d = {}\n",
    "    with open('./reviews_' + dataName + '.txt') as f:\n",
    "        for line in f:\n",
    "            line_dict = json.dumps(eval(line))\n",
    "            data.append(json.loads(line_dict))\n",
    "        for d_item in data:\n",
    "            k = reviewerID2userNum.get(d_item[\"reviewerID\"])\n",
    "            #print(k)\n",
    "            if \"reviewText\" in d_item.keys():\n",
    "                dict_d[k] = d_item[\"reviewText\"].replace(\"\\n\", \"\")\n",
    "            else:\n",
    "                dict_d[k] = \"\"\n",
    "            #print(dict_d[k])\n",
    "        return dict_d\n"
   ]
  },
  {
   "cell_type": "markdown",
   "id": "2657bdaf",
   "metadata": {
    "papermill": {
     "duration": 0.016137,
     "end_time": "2022-10-19T13:45:29.927797",
     "exception": false,
     "start_time": "2022-10-19T13:45:29.911660",
     "status": "completed"
    },
    "tags": []
   },
   "source": [
    "\n",
    "```\n",
    "#output example\n",
    "1\n",
    "I ended up with a variety of different brands of cotton flannel baby wipes.  These are good quality, just not my personal favorite.  However, if the colors really do it for you, go ahead and stock up on these, they're good.  And really, we're talking squares of flannel, it's not critical.  For what it's worth, I like BumGenius wipes best for absorbency - like wiping up spit-up.  They're thick and soft.  I like OsoCozy best for cleaning baby bums, because they're thin, the better to clean crevices with.  ALL the wipes I bought shrank a lot in the first wash (hot), so expect that.I avoided GroVia for being synthetic, but in retrospect that might have been the way to go.  I have all BumGenius 4.0 diapers, which shouldn't be washed with natural fibers.  Now I have to wash the cotton wipes with baby's clothes, rather than with the diapers, which isn't ideal.\n",
    "```"
   ]
  },
  {
   "cell_type": "code",
   "execution_count": 25,
   "id": "fe212fd8",
   "metadata": {
    "execution": {
     "iopub.execute_input": "2022-10-19T13:45:29.962054Z",
     "iopub.status.busy": "2022-10-19T13:45:29.961704Z",
     "iopub.status.idle": "2022-10-19T13:45:42.389667Z",
     "shell.execute_reply": "2022-10-19T13:45:42.388534Z"
    },
    "papermill": {
     "duration": 12.448115,
     "end_time": "2022-10-19T13:45:42.392324",
     "exception": false,
     "start_time": "2022-10-19T13:45:29.944209",
     "status": "completed"
    },
    "tags": []
   },
   "outputs": [
    {
     "name": "stdout",
     "output_type": "stream",
     "text": [
      "User Vector Finished\n"
     ]
    },
    {
     "name": "stderr",
     "output_type": "stream",
     "text": [
      "/opt/conda/lib/python3.7/site-packages/ipykernel_launcher.py:33: DeprecationWarning: Call to deprecated `docvecs` (The `docvecs` property has been renamed `dv`.).\n"
     ]
    }
   ],
   "source": [
    "# turn review text to a vedcor with size of 100  and save it\n",
    "dict_u = loading_reviewdata()\n",
    "x_train_user, count_user = DoctoVec.get_data(dict_u)\n",
    "model_dm = DoctoVec.train(dataName, x_train_user, vector_size, epoch_num,\"user\")\n",
    "DoctoVec.saveVector(dataName, model_dm, vector_size, count_user,\"user\")\n",
    "print(\"User Vector Finished\")"
   ]
  },
  {
   "cell_type": "markdown",
   "id": "e72a204c",
   "metadata": {
    "papermill": {
     "duration": 0.016483,
     "end_time": "2022-10-19T13:45:42.425942",
     "exception": false,
     "start_time": "2022-10-19T13:45:42.409459",
     "status": "completed"
    },
    "tags": []
   },
   "source": [
    "## User Rating Input"
   ]
  },
  {
   "cell_type": "code",
   "execution_count": 26,
   "id": "378d49ea",
   "metadata": {
    "execution": {
     "iopub.execute_input": "2022-10-19T13:45:42.460505Z",
     "iopub.status.busy": "2022-10-19T13:45:42.459686Z",
     "iopub.status.idle": "2022-10-19T13:45:42.489355Z",
     "shell.execute_reply": "2022-10-19T13:45:42.488498Z"
    },
    "papermill": {
     "duration": 0.04895,
     "end_time": "2022-10-19T13:45:42.491344",
     "exception": false,
     "start_time": "2022-10-19T13:45:42.442394",
     "status": "completed"
    },
    "tags": []
   },
   "outputs": [],
   "source": [
    "#extract the rating for each review and assign them to the product_id with the review_id\n",
    "for d in reviews_data:\n",
    "    user_id = reviewerID2userNum.get(d[\"reviewerID\"])\n",
    "    item_id = asin2itemNum.get(d[\"asin\"])\n",
    "    if user_id not in ui_dict2:\n",
    "        ui_dict2[user_id] = list()\n",
    "        if int(user_id) > max_num_user: \n",
    "            max_num_user = int(user_id)\n",
    "    ui_dict2[user_id].append(item_id)\n",
    "    if item_id not in iu_dict2:\n",
    "        iu_dict2[item_id] = list()\n",
    "        if int(item_id) > max_num_item:\n",
    "            max_num_item = int(item_id)\n",
    "    iu_dict2[item_id].append(user_id)"
   ]
  },
  {
   "cell_type": "code",
   "execution_count": 27,
   "id": "c76f3546",
   "metadata": {
    "execution": {
     "iopub.execute_input": "2022-10-19T13:45:42.526163Z",
     "iopub.status.busy": "2022-10-19T13:45:42.525270Z",
     "iopub.status.idle": "2022-10-19T13:45:42.539263Z",
     "shell.execute_reply": "2022-10-19T13:45:42.538236Z"
    },
    "papermill": {
     "duration": 0.034021,
     "end_time": "2022-10-19T13:45:42.542014",
     "exception": false,
     "start_time": "2022-10-19T13:45:42.507993",
     "status": "completed"
    },
    "tags": []
   },
   "outputs": [
    {
     "name": "stdout",
     "output_type": "stream",
     "text": [
      "max_num_user =   374\n",
      "max_num_item =  7293\n"
     ]
    }
   ],
   "source": [
    "for l_d in reviews_data:\n",
    "    u_id = reviewerID2userNum.get(l_d[\"reviewerID\"])\n",
    "    len_ui_dict[u_id] = len(ui_dict2.get(u_id))\n",
    "print(\"max_num_user =  \" ,max_num_user)\n",
    "print(\"max_num_item = \",max_num_item)\n"
   ]
  },
  {
   "cell_type": "code",
   "execution_count": 28,
   "id": "2e5476db",
   "metadata": {
    "execution": {
     "iopub.execute_input": "2022-10-19T13:45:42.576059Z",
     "iopub.status.busy": "2022-10-19T13:45:42.575776Z",
     "iopub.status.idle": "2022-10-19T13:45:42.585505Z",
     "shell.execute_reply": "2022-10-19T13:45:42.584623Z"
    },
    "papermill": {
     "duration": 0.02896,
     "end_time": "2022-10-19T13:45:42.587420",
     "exception": false,
     "start_time": "2022-10-19T13:45:42.558460",
     "status": "completed"
    },
    "tags": []
   },
   "outputs": [],
   "source": [
    "# reviews_train_data vs reviews_test_data\n",
    "#split our dataset to train and test for rating and append them to different lists\n",
    "num = 0\n",
    "for l_d in reviews_data:\n",
    "    if num % (split_ratio + 1) < split_ratio:\n",
    "        reviews_train_data.append(l_d)\n",
    "        num += 1\n",
    "    else:\n",
    "        reviews_test_data.append(l_d)\n",
    "        num += 1"
   ]
  },
  {
   "cell_type": "code",
   "execution_count": 29,
   "id": "a770e3d3",
   "metadata": {
    "execution": {
     "iopub.execute_input": "2022-10-19T13:45:42.621897Z",
     "iopub.status.busy": "2022-10-19T13:45:42.621126Z",
     "iopub.status.idle": "2022-10-19T13:45:42.664439Z",
     "shell.execute_reply": "2022-10-19T13:45:42.663427Z"
    },
    "papermill": {
     "duration": 0.063163,
     "end_time": "2022-10-19T13:45:42.666951",
     "exception": false,
     "start_time": "2022-10-19T13:45:42.603788",
     "status": "completed"
    },
    "tags": []
   },
   "outputs": [
    {
     "name": "stdout",
     "output_type": "stream",
     "text": [
      "Training Rating Finished\n"
     ]
    }
   ],
   "source": [
    "# insert Rating in train file\n",
    "train_list = []\n",
    "train_data = open('./' + dataName + \".train.rating\", \"w\")\n",
    "for l_train in reviews_train_data:\n",
    "        user_id = reviewerID2userNum.get(l_train[\"reviewerID\"])\n",
    "        item_id = asin2itemNum.get(l_train[\"asin\"])\n",
    "        rating_score = int(l_train[\"overall\"])\n",
    "        str_line = str(user_id) + \"  \" + str(item_id) + \"  \" + str(rating_score)\n",
    "        train_data.writelines(str_line + \"\\n\")\n",
    "        train_list.append(str_line)\n",
    "train_data.close()\n",
    "print(\"Training Rating Finished\")"
   ]
  },
  {
   "cell_type": "code",
   "execution_count": 30,
   "id": "9e55da56",
   "metadata": {
    "execution": {
     "iopub.execute_input": "2022-10-19T13:45:42.703336Z",
     "iopub.status.busy": "2022-10-19T13:45:42.701813Z",
     "iopub.status.idle": "2022-10-19T13:45:42.708537Z",
     "shell.execute_reply": "2022-10-19T13:45:42.707592Z"
    },
    "papermill": {
     "duration": 0.026336,
     "end_time": "2022-10-19T13:45:42.710542",
     "exception": false,
     "start_time": "2022-10-19T13:45:42.684206",
     "status": "completed"
    },
    "tags": []
   },
   "outputs": [
    {
     "data": {
      "text/plain": [
       "['1  1  5']"
      ]
     },
     "execution_count": 30,
     "metadata": {},
     "output_type": "execute_result"
    }
   ],
   "source": [
    "train_list[:1]"
   ]
  },
  {
   "cell_type": "code",
   "execution_count": 31,
   "id": "a937f57e",
   "metadata": {
    "execution": {
     "iopub.execute_input": "2022-10-19T13:45:42.746306Z",
     "iopub.status.busy": "2022-10-19T13:45:42.745484Z",
     "iopub.status.idle": "2022-10-19T13:45:42.763998Z",
     "shell.execute_reply": "2022-10-19T13:45:42.762740Z"
    },
    "papermill": {
     "duration": 0.038771,
     "end_time": "2022-10-19T13:45:42.766036",
     "exception": false,
     "start_time": "2022-10-19T13:45:42.727265",
     "status": "completed"
    },
    "tags": []
   },
   "outputs": [
    {
     "name": "stdout",
     "output_type": "stream",
     "text": [
      "Test Rating Finished\n"
     ]
    }
   ],
   "source": [
    "# Insert Rating in test file\n",
    "test_list = []\n",
    "test_data = open('./'  + dataName + \".test.rating\", \"w\")\n",
    "for l_test in reviews_test_data:\n",
    "        user_id = reviewerID2userNum.get(l_test[\"reviewerID\"])\n",
    "        item_id = asin2itemNum.get(l_test[\"asin\"])\n",
    "        rating_score = int(l_test[\"overall\"])\n",
    "        str_line = str(user_id) + \"  \" + str(item_id) + \"  \" + str(rating_score)\n",
    "        test_data.writelines(str_line + \"\\n\")\n",
    "        test_list.append(str_line)\n",
    "test_data.close()\n",
    "print(\"Test Rating Finished\")"
   ]
  },
  {
   "cell_type": "code",
   "execution_count": 32,
   "id": "17dce22f",
   "metadata": {
    "execution": {
     "iopub.execute_input": "2022-10-19T13:45:42.801551Z",
     "iopub.status.busy": "2022-10-19T13:45:42.800625Z",
     "iopub.status.idle": "2022-10-19T13:45:42.807093Z",
     "shell.execute_reply": "2022-10-19T13:45:42.806133Z"
    },
    "papermill": {
     "duration": 0.026242,
     "end_time": "2022-10-19T13:45:42.809103",
     "exception": false,
     "start_time": "2022-10-19T13:45:42.782861",
     "status": "completed"
    },
    "tags": []
   },
   "outputs": [
    {
     "data": {
      "text/plain": [
       "['1  5  5']"
      ]
     },
     "execution_count": 32,
     "metadata": {},
     "output_type": "execute_result"
    }
   ],
   "source": [
    "test_list[:1]"
   ]
  },
  {
   "cell_type": "code",
   "execution_count": 33,
   "id": "83618a28",
   "metadata": {
    "execution": {
     "iopub.execute_input": "2022-10-19T13:45:42.845086Z",
     "iopub.status.busy": "2022-10-19T13:45:42.844056Z",
     "iopub.status.idle": "2022-10-19T13:45:42.850961Z",
     "shell.execute_reply": "2022-10-19T13:45:42.850132Z"
    },
    "papermill": {
     "duration": 0.02697,
     "end_time": "2022-10-19T13:45:42.852928",
     "exception": false,
     "start_time": "2022-10-19T13:45:42.825958",
     "status": "completed"
    },
    "tags": []
   },
   "outputs": [],
   "source": [
    "# Read .rating file and Return dok matrix (sparse matrix ).\n",
    "# The first line of .rating file is: num_users > num_items > rating \n",
    "def get_max_users_max_items(filename):\n",
    "    # Get number of users and items\n",
    "    num_users, num_items = 0, 0\n",
    "    with open(filename, \"r\") as f:\n",
    "            line = f.readline()\n",
    "            #print(line)\n",
    "            while line is not None and line != \"\":\n",
    "                arr = line.split(\"  \")\n",
    "                u, i = int(arr[0]), int(arr[1])\n",
    "                num_users = max(num_users, u)\n",
    "                num_items = max(num_items, i)\n",
    "                line = f.readline()\n",
    "                #print(line)\n",
    "                \n",
    "    return num_users , num_items\n"
   ]
  },
  {
   "cell_type": "code",
   "execution_count": 34,
   "id": "66c59abc",
   "metadata": {
    "execution": {
     "iopub.execute_input": "2022-10-19T13:45:42.888472Z",
     "iopub.status.busy": "2022-10-19T13:45:42.887644Z",
     "iopub.status.idle": "2022-10-19T13:45:42.894644Z",
     "shell.execute_reply": "2022-10-19T13:45:42.893782Z"
    },
    "papermill": {
     "duration": 0.02676,
     "end_time": "2022-10-19T13:45:42.896542",
     "exception": false,
     "start_time": "2022-10-19T13:45:42.869782",
     "status": "completed"
    },
    "tags": []
   },
   "outputs": [],
   "source": [
    "# Construct  sparse matrix with size of maxmuim of users and items\n",
    "def load_rating_file_as_matrix(filename):\n",
    "        num_users , num_items = get_max_users_max_items(filename)\n",
    "        #print(num_users , num_items)\n",
    "        mat = sp.dok_matrix((num_users + 1, num_items + 1), dtype=np.float32)\n",
    "        with open(filename, \"r\") as f:\n",
    "            line = f.readline()\n",
    "            while line is not None and line != \"\":\n",
    "                arr = line.split(\"  \")\n",
    "                user, item, rating = int(arr[0]), int(arr[1]), float(arr[2])\n",
    "                if rating > 0:\n",
    "                    mat[user, item] = rating\n",
    "                line = f.readline()\n",
    "        return mat"
   ]
  },
  {
   "cell_type": "markdown",
   "id": "de096e56",
   "metadata": {
    "papermill": {
     "duration": 0.017157,
     "end_time": "2022-10-19T13:45:42.930406",
     "exception": false,
     "start_time": "2022-10-19T13:45:42.913249",
     "status": "completed"
    },
    "tags": []
   },
   "source": [
    "## Sparse Matrix : \n",
    "\n",
    "**A matrix is a two-dimensional data object made of m rows and n columns, therefore having total m x n values. If most of the elements of the matrix have 0 value, then it is called a sparse matrix.**\n",
    "\n",
    "![IMAGE](https://res.cloudinary.com/practicaldev/image/fetch/s--v5V9UbEm--/c_limit%2Cf_auto%2Cfl_progressive%2Cq_auto%2Cw_880/https://files.ai-pool.com/a/8ccc261ef0bb339e4f923b22ab06a42c.png)"
   ]
  },
  {
   "cell_type": "code",
   "execution_count": 35,
   "id": "7ca49522",
   "metadata": {
    "execution": {
     "iopub.execute_input": "2022-10-19T13:45:42.966021Z",
     "iopub.status.busy": "2022-10-19T13:45:42.965043Z",
     "iopub.status.idle": "2022-10-19T13:45:42.969473Z",
     "shell.execute_reply": "2022-10-19T13:45:42.968618Z"
    },
    "papermill": {
     "duration": 0.024122,
     "end_time": "2022-10-19T13:45:42.971391",
     "exception": false,
     "start_time": "2022-10-19T13:45:42.947269",
     "status": "completed"
    },
    "tags": []
   },
   "outputs": [],
   "source": [
    "#display  test rating \n",
    "#mat = load_rating_file_as_matrix(\"./Baby.test.rating\")\n",
    "#print(mat)"
   ]
  },
  {
   "cell_type": "markdown",
   "id": "b7c09a00",
   "metadata": {
    "papermill": {
     "duration": 0.017157,
     "end_time": "2022-10-19T13:45:43.005376",
     "exception": false,
     "start_time": "2022-10-19T13:45:42.988219",
     "status": "completed"
    },
    "tags": []
   },
   "source": [
    "```\n",
    " >>  output example\n",
    " (5, 5)\t5.0\n",
    "  (10, 5)\t5.0\n",
    "  (15, 5)\t5.0\n",
    "  (18, 8)\t5.0\n",
    "  (7, 13)\t3.0\n",
    "  (28, 13)\t4.0\n",
    "  (33, 13)\t5.0\n",
    "  (37, 15)\t3.0\n",
    "  (41, 17)\t5.0\n",
    "  (46, 17)\t4.0\n",
    "  (35, 18)\t5.0\n",
    "  (55, 18)\t1.0\n",
    "  (35, 19)\t5.0\n",
    "  (63, 22)\t2.0\n",
    "  (67, 23)\t4.0\n",
    "  (71, 23)\t4.0\n",
    "  (74, 26)\t5.0\n",
    "  (79, 29)\t2.0\n",
    "  (83, 31)\t5.0\n",
    "  .\n",
    "  .\n",
    "  .\n",
    "  .\n",
    "  .\n",
    "```"
   ]
  },
  {
   "cell_type": "code",
   "execution_count": 36,
   "id": "11738f7d",
   "metadata": {
    "execution": {
     "iopub.execute_input": "2022-10-19T13:45:43.040587Z",
     "iopub.status.busy": "2022-10-19T13:45:43.040196Z",
     "iopub.status.idle": "2022-10-19T13:45:43.046465Z",
     "shell.execute_reply": "2022-10-19T13:45:43.045464Z"
    },
    "papermill": {
     "duration": 0.026267,
     "end_time": "2022-10-19T13:45:43.048544",
     "exception": false,
     "start_time": "2022-10-19T13:45:43.022277",
     "status": "completed"
    },
    "tags": []
   },
   "outputs": [],
   "source": [
    "# get the  text vector for  user_review and item_description \n",
    "def load_review_feature(filename):\n",
    "        dict = {}\n",
    "        with open(filename, \"r\") as f:\n",
    "            line = f.readline()\n",
    "            while line is not None and line != \"\":\n",
    "                fea = line.strip('\\n').split(',')\n",
    "                index = int(fea[0])\n",
    "                if index not in dict:\n",
    "                    dict[index] = fea[1:]\n",
    "                line = f.readline()\n",
    "        return dict"
   ]
  },
  {
   "cell_type": "code",
   "execution_count": 37,
   "id": "77864dde",
   "metadata": {
    "execution": {
     "iopub.execute_input": "2022-10-19T13:45:43.084478Z",
     "iopub.status.busy": "2022-10-19T13:45:43.083600Z",
     "iopub.status.idle": "2022-10-19T13:45:43.088152Z",
     "shell.execute_reply": "2022-10-19T13:45:43.087306Z"
    },
    "papermill": {
     "duration": 0.024424,
     "end_time": "2022-10-19T13:45:43.089992",
     "exception": false,
     "start_time": "2022-10-19T13:45:43.065568",
     "status": "completed"
    },
    "tags": []
   },
   "outputs": [],
   "source": [
    "#display  user_review\n",
    "#dict = load_review_feature(\"./Baby.user\")\n",
    "#print(dict[0]) >>  you can change any number of user"
   ]
  },
  {
   "cell_type": "markdown",
   "id": "9444b9a0",
   "metadata": {
    "papermill": {
     "duration": 0.016795,
     "end_time": "2022-10-19T13:45:43.123793",
     "exception": false,
     "start_time": "2022-10-19T13:45:43.106998",
     "status": "completed"
    },
    "tags": []
   },
   "source": [
    "```\n",
    "['-0.0052308156', '-0.0059791277', '-0.009880755', '0.008552845', '0.003566115', '0.00026303052', '-0.009880628', '-0.00516665', '-0.009717963', '0.0020107795', '0.0028303098', '0.004643555', '-0.0042972756', '-0.0031457066', '-0.0030787874', '-0.008721917', '0.002172482', '0.009225621', '-0.009501867', '-0.0034580873', '-0.0037699104', '0.0026073814', '-0.0056915567', '0.0026206803', '0.0058025215', '-0.008106861', '-0.008329792', '-0.0099546695', '0.004933045', '-0.009122307', '0.0058419635', '0.0068002627', '-0.0065064', '-0.004519882', '-0.0012548614', '0.0016463208', '-0.0014813376', '-0.008542542', '-0.0036026144', '0.0017316246', '-0.0020569204', '-0.0072300434', '0.004184599', '-0.0085743405', '0.0027115368', '-0.0046137213', '0.00064542773', '-0.0020573472', '0.0054132272', '-0.008002572', '-0.002119851', '-9.581566e-05', '-0.0066387774', '-0.006526165', '-0.0019329595', '0.008803475', '-0.0012631703', '0.0035359787', '-0.005750313', '0.0088148145', '0.0029154683', '0.009279685', '0.004349854', '-0.004199569', '0.0022419048', '-0.0044124555', '0.0057769394', '0.001831522', '-0.002278762', '-0.0058811186', '-0.008027084', '-0.0008530736', '-0.008939364', '-0.009223635', '-0.0079399105', '0.0021690726', '-0.0065009403', '-0.0077883434', '0.0021311664', '0.0020526624', '0.008348355', '0.004667914', '-0.009410105', '-0.00033878087', '0.007854028', '0.0026714755', '0.0026803636', '-0.004883711', '0.0064671705', '0.0016488147', '-0.007602146', '0.006863971', '-0.009769399', '-0.008158595', '-0.004874165', '0.0099376775', '0.003113091', '-0.0020120381', '0.008895168', '0.0023512554']\n",
    "```"
   ]
  },
  {
   "cell_type": "code",
   "execution_count": 38,
   "id": "bbe97b87",
   "metadata": {
    "execution": {
     "iopub.execute_input": "2022-10-19T13:45:43.159504Z",
     "iopub.status.busy": "2022-10-19T13:45:43.158601Z",
     "iopub.status.idle": "2022-10-19T13:45:43.394602Z",
     "shell.execute_reply": "2022-10-19T13:45:43.393614Z"
    },
    "papermill": {
     "duration": 0.2565,
     "end_time": "2022-10-19T13:45:43.397001",
     "exception": false,
     "start_time": "2022-10-19T13:45:43.140501",
     "status": "completed"
    },
    "tags": []
   },
   "outputs": [],
   "source": [
    "# get read all files we have saved in previous stage\n",
    "path = './' + dataName\n",
    "trainMatrix = load_rating_file_as_matrix(path + \".train.rating\")\n",
    "user_review_fea = load_review_feature(path + \".user\")\n",
    "item_review_fea = load_review_feature(path + \".item\")\n",
    "testRatings = load_rating_file_as_matrix(path + \".test.rating\")\n",
    "num_users,num_items = trainMatrix.shape\n"
   ]
  },
  {
   "cell_type": "code",
   "execution_count": 39,
   "id": "dfe34b36",
   "metadata": {
    "execution": {
     "iopub.execute_input": "2022-10-19T13:45:43.432426Z",
     "iopub.status.busy": "2022-10-19T13:45:43.432073Z",
     "iopub.status.idle": "2022-10-19T13:45:43.438155Z",
     "shell.execute_reply": "2022-10-19T13:45:43.437244Z"
    },
    "papermill": {
     "duration": 0.025843,
     "end_time": "2022-10-19T13:45:43.440040",
     "exception": false,
     "start_time": "2022-10-19T13:45:43.414197",
     "status": "completed"
    },
    "tags": []
   },
   "outputs": [
    {
     "data": {
      "text/plain": [
       "(375, 7294)"
      ]
     },
     "execution_count": 39,
     "metadata": {},
     "output_type": "execute_result"
    }
   ],
   "source": [
    "num_users,num_items"
   ]
  },
  {
   "cell_type": "markdown",
   "id": "09496ced",
   "metadata": {
    "papermill": {
     "duration": 0.016685,
     "end_time": "2022-10-19T13:45:43.473694",
     "exception": false,
     "start_time": "2022-10-19T13:45:43.457009",
     "status": "completed"
    },
    "tags": []
   },
   "source": [
    "## Build Model"
   ]
  },
  {
   "cell_type": "code",
   "execution_count": 40,
   "id": "634b0a4f",
   "metadata": {
    "execution": {
     "iopub.execute_input": "2022-10-19T13:45:43.509596Z",
     "iopub.status.busy": "2022-10-19T13:45:43.508712Z",
     "iopub.status.idle": "2022-10-19T13:45:43.548067Z",
     "shell.execute_reply": "2022-10-19T13:45:43.547148Z"
    },
    "papermill": {
     "duration": 0.059929,
     "end_time": "2022-10-19T13:45:43.550554",
     "exception": false,
     "start_time": "2022-10-19T13:45:43.490625",
     "status": "completed"
    },
    "tags": []
   },
   "outputs": [],
   "source": [
    "#build model\n",
    "#Intiliaze the model input\n",
    "user_input = Input(shape=(1,), dtype='int32', name='user_input')\n",
    "user_sent = Input(shape=(vector_size,), dtype='float32', name='user_sentiment')\n",
    "item_input = Input(shape=(1,), dtype='int32', name='item_input')\n",
    "item_cont = Input(shape=(vector_size,), dtype='float32', name='item_content')\n",
    "\n",
    "#Embedding layer for user\n",
    "Embedding_User = Embedding(input_dim=num_users,\n",
    "                               input_length=1,\n",
    "                               output_dim=vector_size,\n",
    "                               name='user_embedding')\n",
    "\n",
    "#Embedding layer for item\n",
    "Embedding_Item = Embedding(input_dim=num_items,\n",
    "                               input_length=1,\n",
    "                               output_dim=vector_size,\n",
    "                               name='item_embedding')\n",
    "\n"
   ]
  },
  {
   "cell_type": "code",
   "execution_count": 41,
   "id": "bef2df53",
   "metadata": {
    "execution": {
     "iopub.execute_input": "2022-10-19T13:45:43.586721Z",
     "iopub.status.busy": "2022-10-19T13:45:43.585862Z",
     "iopub.status.idle": "2022-10-19T13:45:43.591474Z",
     "shell.execute_reply": "2022-10-19T13:45:43.590539Z"
    },
    "papermill": {
     "duration": 0.025723,
     "end_time": "2022-10-19T13:45:43.593495",
     "exception": false,
     "start_time": "2022-10-19T13:45:43.567772",
     "status": "completed"
    },
    "tags": []
   },
   "outputs": [],
   "source": [
    "# User Sentiment Dense Network\n",
    "def user_Sentiment(user_latent, user_sent):\n",
    "    latent_size = user_latent.shape[1]\n",
    "    inputs = user_sent\n",
    "    layer = Dense(latent_size,activation='relu',name='user_attention_layer')(inputs)\n",
    "    sent = Lambda(lambda x: K.softmax(x), name='user_Sentiment_softmax')(layer)\n",
    "    output = Multiply()([user_latent, sent])\n",
    "    return output"
   ]
  },
  {
   "cell_type": "code",
   "execution_count": 42,
   "id": "f8ae7dcf",
   "metadata": {
    "execution": {
     "iopub.execute_input": "2022-10-19T13:45:43.629014Z",
     "iopub.status.busy": "2022-10-19T13:45:43.628224Z",
     "iopub.status.idle": "2022-10-19T13:45:43.634087Z",
     "shell.execute_reply": "2022-10-19T13:45:43.633265Z"
    },
    "papermill": {
     "duration": 0.025629,
     "end_time": "2022-10-19T13:45:43.636033",
     "exception": false,
     "start_time": "2022-10-19T13:45:43.610404",
     "status": "completed"
    },
    "tags": []
   },
   "outputs": [],
   "source": [
    "# Item Content Dense Network\n",
    "def item_Content(item_latent, item_cont):\n",
    "    latent_size = item_latent.shape[1]\n",
    "    inputs = item_cont\n",
    "    layer = Dense(latent_size,activation='relu',name='item_attention_layer')(inputs)\n",
    "    cont = Lambda(lambda x: K.softmax(x), name='item_Content_softmax')(layer)\n",
    "    output = Multiply()([item_latent, cont])\n",
    "    return output"
   ]
  },
  {
   "cell_type": "code",
   "execution_count": 43,
   "id": "8c9104b2",
   "metadata": {
    "execution": {
     "iopub.execute_input": "2022-10-19T13:45:43.671524Z",
     "iopub.status.busy": "2022-10-19T13:45:43.670753Z",
     "iopub.status.idle": "2022-10-19T13:45:46.819190Z",
     "shell.execute_reply": "2022-10-19T13:45:46.818245Z"
    },
    "papermill": {
     "duration": 3.169161,
     "end_time": "2022-10-19T13:45:46.822037",
     "exception": false,
     "start_time": "2022-10-19T13:45:43.652876",
     "status": "completed"
    },
    "tags": []
   },
   "outputs": [
    {
     "name": "stderr",
     "output_type": "stream",
     "text": [
      "2022-10-19 13:45:43.757192: I tensorflow/stream_executor/cuda/cuda_gpu_executor.cc:937] successful NUMA node read from SysFS had negative value (-1), but there must be at least one NUMA node, so returning NUMA node zero\n",
      "2022-10-19 13:45:43.896596: I tensorflow/stream_executor/cuda/cuda_gpu_executor.cc:937] successful NUMA node read from SysFS had negative value (-1), but there must be at least one NUMA node, so returning NUMA node zero\n",
      "2022-10-19 13:45:43.897385: I tensorflow/stream_executor/cuda/cuda_gpu_executor.cc:937] successful NUMA node read from SysFS had negative value (-1), but there must be at least one NUMA node, so returning NUMA node zero\n",
      "2022-10-19 13:45:43.898736: I tensorflow/core/platform/cpu_feature_guard.cc:142] This TensorFlow binary is optimized with oneAPI Deep Neural Network Library (oneDNN) to use the following CPU instructions in performance-critical operations:  AVX2 AVX512F FMA\n",
      "To enable them in other operations, rebuild TensorFlow with the appropriate compiler flags.\n",
      "2022-10-19 13:45:43.899062: I tensorflow/stream_executor/cuda/cuda_gpu_executor.cc:937] successful NUMA node read from SysFS had negative value (-1), but there must be at least one NUMA node, so returning NUMA node zero\n",
      "2022-10-19 13:45:43.899785: I tensorflow/stream_executor/cuda/cuda_gpu_executor.cc:937] successful NUMA node read from SysFS had negative value (-1), but there must be at least one NUMA node, so returning NUMA node zero\n",
      "2022-10-19 13:45:43.900442: I tensorflow/stream_executor/cuda/cuda_gpu_executor.cc:937] successful NUMA node read from SysFS had negative value (-1), but there must be at least one NUMA node, so returning NUMA node zero\n",
      "2022-10-19 13:45:46.385451: I tensorflow/stream_executor/cuda/cuda_gpu_executor.cc:937] successful NUMA node read from SysFS had negative value (-1), but there must be at least one NUMA node, so returning NUMA node zero\n",
      "2022-10-19 13:45:46.386293: I tensorflow/stream_executor/cuda/cuda_gpu_executor.cc:937] successful NUMA node read from SysFS had negative value (-1), but there must be at least one NUMA node, so returning NUMA node zero\n",
      "2022-10-19 13:45:46.387017: I tensorflow/stream_executor/cuda/cuda_gpu_executor.cc:937] successful NUMA node read from SysFS had negative value (-1), but there must be at least one NUMA node, so returning NUMA node zero\n",
      "2022-10-19 13:45:46.387650: I tensorflow/core/common_runtime/gpu/gpu_device.cc:1510] Created device /job:localhost/replica:0/task:0/device:GPU:0 with 15401 MB memory:  -> device: 0, name: Tesla P100-PCIE-16GB, pci bus id: 0000:00:04.0, compute capability: 6.0\n"
     ]
    }
   ],
   "source": [
    "# Crucial to flatten an embedding vector\n",
    "user_latent = Reshape((vector_size,))(Flatten()(Embedding_User(user_input)))\n",
    "item_latent = Reshape((vector_size,))(Flatten()(Embedding_Item(item_input)))\n",
    "user_latent_atten = user_Sentiment(user_latent, user_sent)\n",
    "item_latent_atten = item_Content(item_latent, item_cont)\n",
    "\n",
    "user_latent = Dense(vector_size, activation='relu')(user_latent_atten)\n",
    "item_latent = Dense(vector_size, activation='relu')(item_latent_atten)"
   ]
  },
  {
   "cell_type": "code",
   "execution_count": 44,
   "id": "5e58add3",
   "metadata": {
    "execution": {
     "iopub.execute_input": "2022-10-19T13:45:46.858904Z",
     "iopub.status.busy": "2022-10-19T13:45:46.858571Z",
     "iopub.status.idle": "2022-10-19T13:45:46.900417Z",
     "shell.execute_reply": "2022-10-19T13:45:46.899470Z"
    },
    "papermill": {
     "duration": 0.062499,
     "end_time": "2022-10-19T13:45:46.902589",
     "exception": false,
     "start_time": "2022-10-19T13:45:46.840090",
     "status": "completed"
    },
    "tags": []
   },
   "outputs": [],
   "source": [
    "# review-based attention calculation\n",
    "vec = Multiply()([user_latent, item_latent])\n",
    "user_item_concat = Concatenate()([user_sent, item_cont, user_latent, item_latent])\n",
    "att = Dense(vector_size, kernel_initializer='random_uniform', activation='softmax')(user_item_concat)\n",
    "\n",
    "# Element-wise product of user and item embeddings \n",
    "predict_vec = Multiply()([vec, att])\n",
    "# Final prediction layer\n",
    "prediction = Dense(vector_size, activation='relu')(predict_vec)\n",
    "#for overfitting\n",
    "prediction = Dropout(0.5)(prediction)\n",
    "prediction = Dense(1 ,name='prediction')(prediction)\n",
    "\n",
    "model = Model(inputs=[user_input, user_sent, item_input, item_cont], outputs=prediction)\n"
   ]
  },
  {
   "cell_type": "code",
   "execution_count": 45,
   "id": "0908c13a",
   "metadata": {
    "execution": {
     "iopub.execute_input": "2022-10-19T13:45:46.939722Z",
     "iopub.status.busy": "2022-10-19T13:45:46.938182Z",
     "iopub.status.idle": "2022-10-19T13:45:46.946102Z",
     "shell.execute_reply": "2022-10-19T13:45:46.945155Z"
    },
    "papermill": {
     "duration": 0.028943,
     "end_time": "2022-10-19T13:45:46.948940",
     "exception": false,
     "start_time": "2022-10-19T13:45:46.919997",
     "status": "completed"
    },
    "tags": []
   },
   "outputs": [
    {
     "name": "stdout",
     "output_type": "stream",
     "text": [
      "Model: \"model\"\n",
      "__________________________________________________________________________________________________\n",
      "Layer (type)                    Output Shape         Param #     Connected to                     \n",
      "==================================================================================================\n",
      "user_input (InputLayer)         [(None, 1)]          0                                            \n",
      "__________________________________________________________________________________________________\n",
      "item_input (InputLayer)         [(None, 1)]          0                                            \n",
      "__________________________________________________________________________________________________\n",
      "user_embedding (Embedding)      (None, 1, 100)       37500       user_input[0][0]                 \n",
      "__________________________________________________________________________________________________\n",
      "user_sentiment (InputLayer)     [(None, 100)]        0                                            \n",
      "__________________________________________________________________________________________________\n",
      "item_embedding (Embedding)      (None, 1, 100)       729400      item_input[0][0]                 \n",
      "__________________________________________________________________________________________________\n",
      "item_content (InputLayer)       [(None, 100)]        0                                            \n",
      "__________________________________________________________________________________________________\n",
      "flatten (Flatten)               (None, 100)          0           user_embedding[0][0]             \n",
      "__________________________________________________________________________________________________\n",
      "user_attention_layer (Dense)    (None, 100)          10100       user_sentiment[0][0]             \n",
      "__________________________________________________________________________________________________\n",
      "flatten_1 (Flatten)             (None, 100)          0           item_embedding[0][0]             \n",
      "__________________________________________________________________________________________________\n",
      "item_attention_layer (Dense)    (None, 100)          10100       item_content[0][0]               \n",
      "__________________________________________________________________________________________________\n",
      "reshape (Reshape)               (None, 100)          0           flatten[0][0]                    \n",
      "__________________________________________________________________________________________________\n",
      "user_Sentiment_softmax (Lambda) (None, 100)          0           user_attention_layer[0][0]       \n",
      "__________________________________________________________________________________________________\n",
      "reshape_1 (Reshape)             (None, 100)          0           flatten_1[0][0]                  \n",
      "__________________________________________________________________________________________________\n",
      "item_Content_softmax (Lambda)   (None, 100)          0           item_attention_layer[0][0]       \n",
      "__________________________________________________________________________________________________\n",
      "multiply (Multiply)             (None, 100)          0           reshape[0][0]                    \n",
      "                                                                 user_Sentiment_softmax[0][0]     \n",
      "__________________________________________________________________________________________________\n",
      "multiply_1 (Multiply)           (None, 100)          0           reshape_1[0][0]                  \n",
      "                                                                 item_Content_softmax[0][0]       \n",
      "__________________________________________________________________________________________________\n",
      "dense (Dense)                   (None, 100)          10100       multiply[0][0]                   \n",
      "__________________________________________________________________________________________________\n",
      "dense_1 (Dense)                 (None, 100)          10100       multiply_1[0][0]                 \n",
      "__________________________________________________________________________________________________\n",
      "concatenate (Concatenate)       (None, 400)          0           user_sentiment[0][0]             \n",
      "                                                                 item_content[0][0]               \n",
      "                                                                 dense[0][0]                      \n",
      "                                                                 dense_1[0][0]                    \n",
      "__________________________________________________________________________________________________\n",
      "multiply_2 (Multiply)           (None, 100)          0           dense[0][0]                      \n",
      "                                                                 dense_1[0][0]                    \n",
      "__________________________________________________________________________________________________\n",
      "dense_2 (Dense)                 (None, 100)          40100       concatenate[0][0]                \n",
      "__________________________________________________________________________________________________\n",
      "multiply_3 (Multiply)           (None, 100)          0           multiply_2[0][0]                 \n",
      "                                                                 dense_2[0][0]                    \n",
      "__________________________________________________________________________________________________\n",
      "dense_3 (Dense)                 (None, 100)          10100       multiply_3[0][0]                 \n",
      "__________________________________________________________________________________________________\n",
      "dropout (Dropout)               (None, 100)          0           dense_3[0][0]                    \n",
      "__________________________________________________________________________________________________\n",
      "prediction (Dense)              (None, 1)            101         dropout[0][0]                    \n",
      "==================================================================================================\n",
      "Total params: 857,601\n",
      "Trainable params: 857,601\n",
      "Non-trainable params: 0\n",
      "__________________________________________________________________________________________________\n"
     ]
    }
   ],
   "source": [
    "model.summary()"
   ]
  },
  {
   "cell_type": "code",
   "execution_count": 46,
   "id": "d4f1eea6",
   "metadata": {
    "execution": {
     "iopub.execute_input": "2022-10-19T13:45:46.986040Z",
     "iopub.status.busy": "2022-10-19T13:45:46.985546Z",
     "iopub.status.idle": "2022-10-19T13:45:48.346541Z",
     "shell.execute_reply": "2022-10-19T13:45:48.345255Z"
    },
    "papermill": {
     "duration": 1.382219,
     "end_time": "2022-10-19T13:45:48.349253",
     "exception": false,
     "start_time": "2022-10-19T13:45:46.967034",
     "status": "completed"
    },
    "tags": []
   },
   "outputs": [
    {
     "data": {
      "image/png": "[encoded data removed]",
      "text/plain": [
       "<IPython.core.display.Image object>"
      ]
     },
     "execution_count": 46,
     "metadata": {},
     "output_type": "execute_result"
    }
   ],
   "source": [
    "from keras.utils.vis_utils import plot_model\n",
    "plot_model(model, to_file='model_plot.png', show_shapes=True, show_layer_names=True)"
   ]
  },
  {
   "cell_type": "code",
   "execution_count": 47,
   "id": "3b06aa56",
   "metadata": {
    "execution": {
     "iopub.execute_input": "2022-10-19T13:45:48.394925Z",
     "iopub.status.busy": "2022-10-19T13:45:48.394568Z",
     "iopub.status.idle": "2022-10-19T13:45:48.411865Z",
     "shell.execute_reply": "2022-10-19T13:45:48.410928Z"
    },
    "papermill": {
     "duration": 0.042326,
     "end_time": "2022-10-19T13:45:48.413971",
     "exception": false,
     "start_time": "2022-10-19T13:45:48.371645",
     "status": "completed"
    },
    "tags": []
   },
   "outputs": [],
   "source": [
    "#compile our model\n",
    "model.compile(optimizer=\"adam\", loss=\"mean_absolute_error\", metrics=['mean_squared_error'])"
   ]
  },
  {
   "cell_type": "code",
   "execution_count": 48,
   "id": "d7d6980c",
   "metadata": {
    "execution": {
     "iopub.execute_input": "2022-10-19T13:45:48.457188Z",
     "iopub.status.busy": "2022-10-19T13:45:48.455652Z",
     "iopub.status.idle": "2022-10-19T13:45:48.461158Z",
     "shell.execute_reply": "2022-10-19T13:45:48.460283Z"
    },
    "papermill": {
     "duration": 0.028331,
     "end_time": "2022-10-19T13:45:48.463133",
     "exception": false,
     "start_time": "2022-10-19T13:45:48.434802",
     "status": "completed"
    },
    "tags": []
   },
   "outputs": [],
   "source": [
    "#using callbacks to avoid overfitting and save best model during training\n",
    "earlystopping = EarlyStopping(monitor='val_loss', patience=5 )\n",
    "checkpoint = ModelCheckpoint('Patio_model.h5', save_best_only=True, monitor='val_loss', mode='min')\n"
   ]
  },
  {
   "cell_type": "code",
   "execution_count": 49,
   "id": "319f0fa8",
   "metadata": {
    "execution": {
     "iopub.execute_input": "2022-10-19T13:45:48.504827Z",
     "iopub.status.busy": "2022-10-19T13:45:48.503311Z",
     "iopub.status.idle": "2022-10-19T13:45:48.511150Z",
     "shell.execute_reply": "2022-10-19T13:45:48.510261Z"
    },
    "papermill": {
     "duration": 0.030369,
     "end_time": "2022-10-19T13:45:48.513075",
     "exception": false,
     "start_time": "2022-10-19T13:45:48.482706",
     "status": "completed"
    },
    "tags": []
   },
   "outputs": [],
   "source": [
    "# Make the data ready fro training \n",
    "#convert it to numpy array as we extract the labels\n",
    "def get_instances(trainMatrix, user_review_fea, item_review_fea):\n",
    "    user_input, user_fea, item_input, item_fea, labels = [], [], [], [], []\n",
    "    num_users = trainMatrix.shape[0]\n",
    "    for (u, i) in trainMatrix.keys():\n",
    "        if u in user_review_fea.keys() and i in item_review_fea.keys():\n",
    "            user_input.append(u)\n",
    "            user_fea.append(user_review_fea[u])\n",
    "            item_input.append(i)\n",
    "            item_fea.append(item_review_fea[i])\n",
    "            label = trainMatrix[u, i]\n",
    "            labels.append(label)\n",
    "    return np.array(user_input), np.array(user_fea, dtype='float32'), np.array(item_input),np.array(item_fea, dtype='float32'), np.array(labels)"
   ]
  },
  {
   "cell_type": "code",
   "execution_count": 50,
   "id": "e4c29353",
   "metadata": {
    "execution": {
     "iopub.execute_input": "2022-10-19T13:45:48.554098Z",
     "iopub.status.busy": "2022-10-19T13:45:48.553762Z",
     "iopub.status.idle": "2022-10-19T13:45:48.557841Z",
     "shell.execute_reply": "2022-10-19T13:45:48.556863Z"
    },
    "papermill": {
     "duration": 0.026989,
     "end_time": "2022-10-19T13:45:48.559710",
     "exception": false,
     "start_time": "2022-10-19T13:45:48.532721",
     "status": "completed"
    },
    "tags": []
   },
   "outputs": [],
   "source": [
    "#print(len(user_input))\n",
    "#print(len(user_fea))\n",
    "#print(len(item_input))\n",
    "#print(len(item_fea))\n",
    "#print(len(labels))"
   ]
  },
  {
   "cell_type": "code",
   "execution_count": 51,
   "id": "d3cb2121",
   "metadata": {
    "execution": {
     "iopub.execute_input": "2022-10-19T13:45:48.600931Z",
     "iopub.status.busy": "2022-10-19T13:45:48.600620Z",
     "iopub.status.idle": "2022-10-19T13:45:48.949952Z",
     "shell.execute_reply": "2022-10-19T13:45:48.948912Z"
    },
    "papermill": {
     "duration": 0.372791,
     "end_time": "2022-10-19T13:45:48.952587",
     "exception": false,
     "start_time": "2022-10-19T13:45:48.579796",
     "status": "completed"
    },
    "tags": []
   },
   "outputs": [],
   "source": [
    "#get instance of training dataset for train the moodel\n",
    "user_input, user_fea, item_input, item_fea, labels = get_instances(trainMatrix, user_review_fea, item_review_fea)\n"
   ]
  },
  {
   "cell_type": "code",
   "execution_count": 52,
   "id": "38d16b6a",
   "metadata": {
    "execution": {
     "iopub.execute_input": "2022-10-19T13:45:48.995615Z",
     "iopub.status.busy": "2022-10-19T13:45:48.994722Z",
     "iopub.status.idle": "2022-10-19T13:45:53.283900Z",
     "shell.execute_reply": "2022-10-19T13:45:53.281210Z"
    },
    "papermill": {
     "duration": 4.31305,
     "end_time": "2022-10-19T13:45:53.286564",
     "exception": false,
     "start_time": "2022-10-19T13:45:48.973514",
     "status": "completed"
    },
    "tags": []
   },
   "outputs": [
    {
     "name": "stderr",
     "output_type": "stream",
     "text": [
      "2022-10-19 13:45:49.099713: I tensorflow/compiler/mlir/mlir_graph_optimization_pass.cc:185] None of the MLIR Optimization Passes are enabled (registered 2)\n",
      "/opt/conda/lib/python3.7/site-packages/keras/utils/generic_utils.py:497: CustomMaskWarning: Custom mask layers require a config and must override get_config. When loading, the custom mask layer must be passed to the custom_objects argument.\n",
      "  category=CustomMaskWarning)\n"
     ]
    }
   ],
   "source": [
    "#fit our model\n",
    "hist = model.fit([user_input, user_fea, item_input, item_fea],labels,batch_size=256, epochs=10,validation_split =0.2 ,verbose=0 , callbacks = [earlystopping,checkpoint])"
   ]
  },
  {
   "cell_type": "code",
   "execution_count": 53,
   "id": "f34b37bd",
   "metadata": {
    "execution": {
     "iopub.execute_input": "2022-10-19T13:45:53.329936Z",
     "iopub.status.busy": "2022-10-19T13:45:53.329603Z",
     "iopub.status.idle": "2022-10-19T13:45:53.334041Z",
     "shell.execute_reply": "2022-10-19T13:45:53.332982Z"
    },
    "papermill": {
     "duration": 0.028124,
     "end_time": "2022-10-19T13:45:53.336335",
     "exception": false,
     "start_time": "2022-10-19T13:45:53.308211",
     "status": "completed"
    },
    "tags": []
   },
   "outputs": [],
   "source": [
    "#model.save(\"model.h5\")"
   ]
  },
  {
   "cell_type": "code",
   "execution_count": 54,
   "id": "f9bd5fe2",
   "metadata": {
    "execution": {
     "iopub.execute_input": "2022-10-19T13:45:53.380468Z",
     "iopub.status.busy": "2022-10-19T13:45:53.380103Z",
     "iopub.status.idle": "2022-10-19T13:45:53.616655Z",
     "shell.execute_reply": "2022-10-19T13:45:53.615597Z"
    },
    "papermill": {
     "duration": 0.261949,
     "end_time": "2022-10-19T13:45:53.618887",
     "exception": false,
     "start_time": "2022-10-19T13:45:53.356938",
     "status": "completed"
    },
    "tags": []
   },
   "outputs": [
    {
     "data": {
      "image/png": "[encoded data removed]",
      "text/plain": [
       "<Figure size 432x288 with 1 Axes>"
      ]
     },
     "metadata": {
      "needs_background": "light"
     },
     "output_type": "display_data"
    }
   ],
   "source": [
    "# Draw the progress during the training\n",
    "loss = hist.history['loss']\n",
    "val_loss = hist.history['val_loss']\n",
    "epochs = range(1, len(loss) + 1)\n",
    "#loss plot\n",
    "plt.plot(epochs, loss, color='pink', label='Training Loss')\n",
    "plt.plot(epochs, val_loss, color='red', label='Validation Loss')\n",
    "plt.title('Training and Validation Loss')\n",
    "plt.xlabel('Epoch')\n",
    "plt.ylabel('Loss')\n",
    "plt.legend()\n",
    "\n",
    "plt.show()"
   ]
  },
  {
   "cell_type": "code",
   "execution_count": 55,
   "id": "1b43aafd",
   "metadata": {
    "execution": {
     "iopub.execute_input": "2022-10-19T13:45:53.662558Z",
     "iopub.status.busy": "2022-10-19T13:45:53.662193Z",
     "iopub.status.idle": "2022-10-19T13:45:53.754808Z",
     "shell.execute_reply": "2022-10-19T13:45:53.753789Z"
    },
    "papermill": {
     "duration": 0.116554,
     "end_time": "2022-10-19T13:45:53.757236",
     "exception": false,
     "start_time": "2022-10-19T13:45:53.640682",
     "status": "completed"
    },
    "tags": []
   },
   "outputs": [],
   "source": [
    "# get instance for testing data\n",
    "user_input_test, user_fea_test, item_input_test, item_fea_test, test_label = get_instances(testRatings, user_review_fea, item_review_fea)\n"
   ]
  },
  {
   "cell_type": "code",
   "execution_count": 56,
   "id": "d0a7fa08",
   "metadata": {
    "execution": {
     "iopub.execute_input": "2022-10-19T13:45:53.800365Z",
     "iopub.status.busy": "2022-10-19T13:45:53.799395Z",
     "iopub.status.idle": "2022-10-19T13:45:54.098537Z",
     "shell.execute_reply": "2022-10-19T13:45:54.097594Z"
    },
    "papermill": {
     "duration": 0.322702,
     "end_time": "2022-10-19T13:45:54.100722",
     "exception": false,
     "start_time": "2022-10-19T13:45:53.778020",
     "status": "completed"
    },
    "tags": []
   },
   "outputs": [
    {
     "data": {
      "text/plain": [
       "0.8498506"
      ]
     },
     "execution_count": 56,
     "metadata": {},
     "output_type": "execute_result"
    }
   ],
   "source": [
    "#evulate the test dataset\n",
    "mean_absolute_error(model.predict([user_input_test, user_fea_test, item_input_test, item_fea_test]),test_label)"
   ]
  },
  {
   "cell_type": "code",
   "execution_count": 57,
   "id": "e140fa67",
   "metadata": {
    "execution": {
     "iopub.execute_input": "2022-10-19T13:45:54.143571Z",
     "iopub.status.busy": "2022-10-19T13:45:54.142939Z",
     "iopub.status.idle": "2022-10-19T13:45:54.338056Z",
     "shell.execute_reply": "2022-10-19T13:45:54.337105Z"
    },
    "papermill": {
     "duration": 0.218624,
     "end_time": "2022-10-19T13:45:54.340240",
     "exception": false,
     "start_time": "2022-10-19T13:45:54.121616",
     "status": "completed"
    },
    "tags": []
   },
   "outputs": [
    {
     "data": {
      "text/plain": [
       "1.3482157"
      ]
     },
     "execution_count": 57,
     "metadata": {},
     "output_type": "execute_result"
    }
   ],
   "source": [
    "mean_squared_error(model.predict([user_input_test, user_fea_test, item_input_test, item_fea_test]),test_label)"
   ]
  },
  {
   "cell_type": "code",
   "execution_count": 58,
   "id": "9da6aced",
   "metadata": {
    "execution": {
     "iopub.execute_input": "2022-10-19T13:45:54.383527Z",
     "iopub.status.busy": "2022-10-19T13:45:54.382523Z",
     "iopub.status.idle": "2022-10-19T13:45:54.574060Z",
     "shell.execute_reply": "2022-10-19T13:45:54.573065Z"
    },
    "papermill": {
     "duration": 0.215231,
     "end_time": "2022-10-19T13:45:54.576267",
     "exception": false,
     "start_time": "2022-10-19T13:45:54.361036",
     "status": "completed"
    },
    "tags": []
   },
   "outputs": [
    {
     "data": {
      "text/plain": [
       "array([[4.497761 ],\n",
       "       [4.5284314],\n",
       "       [4.52752  ],\n",
       "       ...,\n",
       "       [4.42887  ],\n",
       "       [4.431205 ],\n",
       "       [4.424318 ]], dtype=float32)"
      ]
     },
     "execution_count": 58,
     "metadata": {},
     "output_type": "execute_result"
    }
   ],
   "source": [
    "model.predict([user_input_test, user_fea_test, item_input_test, item_fea_test])"
   ]
  },
  {
   "cell_type": "code",
   "execution_count": null,
   "id": "1becbf0f",
   "metadata": {
    "papermill": {
     "duration": 0.045481,
     "end_time": "2022-10-19T13:45:54.643243",
     "exception": false,
     "start_time": "2022-10-19T13:45:54.597762",
     "status": "completed"
    },
    "tags": []
   },
   "outputs": [],
   "source": []
  },
  {
   "cell_type": "code",
   "execution_count": null,
   "id": "ff36b35e",
   "metadata": {
    "papermill": {
     "duration": 0.036463,
     "end_time": "2022-10-19T13:45:54.719552",
     "exception": false,
     "start_time": "2022-10-19T13:45:54.683089",
     "status": "completed"
    },
    "tags": []
   },
   "outputs": [],
   "source": []
  },
  {
   "cell_type": "code",
   "execution_count": null,
   "id": "5edaac5a",
   "metadata": {
    "papermill": {
     "duration": 0.030982,
     "end_time": "2022-10-19T13:45:54.783203",
     "exception": false,
     "start_time": "2022-10-19T13:45:54.752221",
     "status": "completed"
    },
    "tags": []
   },
   "outputs": [],
   "source": []
  }
 ],
 "metadata": {
  "kernelspec": {
   "display_name": "Python 3",
   "language": "python",
   "name": "python3"
  },
  "language_info": {
   "codemirror_mode": {
    "name": "ipython",
    "version": 3
   },
   "file_extension": ".py",
   "mimetype": "text/x-python",
   "name": "python",
   "nbconvert_exporter": "python",
   "pygments_lexer": "ipython3",
   "version": "3.7.12"
  },
  "papermill": {
   "default_parameters": {},
   "duration": 390.585169,
   "end_time": "2022-10-19T13:45:57.743708",
   "environment_variables": {},
   "exception": null,
   "input_path": "__notebook__.ipynb",
   "output_path": "__notebook__.ipynb",
   "parameters": {},
   "start_time": "2022-10-19T13:39:27.158539",
   "version": "2.3.4"
  }
 },
 "nbformat": 4,
 "nbformat_minor": 5
}
